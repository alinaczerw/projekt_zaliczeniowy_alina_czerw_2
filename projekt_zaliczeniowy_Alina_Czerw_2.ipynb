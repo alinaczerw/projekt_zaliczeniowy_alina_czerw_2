{
  "nbformat": 4,
  "nbformat_minor": 0,
  "metadata": {
    "colab": {
      "provenance": []
    },
    "kernelspec": {
      "name": "python3",
      "display_name": "Python 3"
    },
    "language_info": {
      "name": "python"
    }
  },
  "cells": [
    {
      "cell_type": "markdown",
      "source": [
        "I CZĘŚĆ"
      ],
      "metadata": {
        "id": "E2AAIa_cxBWJ"
      }
    },
    {
      "cell_type": "code",
      "execution_count": 2,
      "metadata": {
        "colab": {
          "base_uri": "https://localhost:8080/"
        },
        "id": "iTZbvII4fCrP",
        "outputId": "00163cfe-26b7-41fe-a080-ef0315598d23"
      },
      "outputs": [
        {
          "output_type": "stream",
          "name": "stdout",
          "text": [
            "Looking in indexes: https://pypi.org/simple, https://us-python.pkg.dev/colab-wheels/public/simple/\n",
            "Requirement already satisfied: pandas in /usr/local/lib/python3.8/dist-packages (1.3.5)\n",
            "Requirement already satisfied: numpy>=1.17.3 in /usr/local/lib/python3.8/dist-packages (from pandas) (1.21.6)\n",
            "Requirement already satisfied: python-dateutil>=2.7.3 in /usr/local/lib/python3.8/dist-packages (from pandas) (2.8.2)\n",
            "Requirement already satisfied: pytz>=2017.3 in /usr/local/lib/python3.8/dist-packages (from pandas) (2022.7.1)\n",
            "Requirement already satisfied: six>=1.5 in /usr/local/lib/python3.8/dist-packages (from python-dateutil>=2.7.3->pandas) (1.15.0)\n"
          ]
        }
      ],
      "source": [
        "!pip install pandas"
      ]
    },
    {
      "cell_type": "code",
      "source": [
        "import pandas as pd"
      ],
      "metadata": {
        "id": "1mbT2U57iHZj"
      },
      "execution_count": 3,
      "outputs": []
    },
    {
      "cell_type": "code",
      "source": [
        "x = pd.DataFrame()"
      ],
      "metadata": {
        "id": "ICqKTLVskcVC"
      },
      "execution_count": 64,
      "outputs": []
    },
    {
      "cell_type": "code",
      "source": [
        "MAIN_DATA = pd.read_csv(\"/content/czerw.csv\")"
      ],
      "metadata": {
        "id": "BXpoChXIk1nB"
      },
      "execution_count": 65,
      "outputs": []
    },
    {
      "cell_type": "code",
      "source": [
        "df_Tweet = MAIN_DATA.copy()"
      ],
      "metadata": {
        "id": "UfNc-ZM_peUP"
      },
      "execution_count": 66,
      "outputs": []
    },
    {
      "cell_type": "code",
      "source": [
        "df_Tweet"
      ],
      "metadata": {
        "colab": {
          "base_uri": "https://localhost:8080/",
          "height": 834
        },
        "id": "5HAfZHqhlBmG",
        "outputId": "1745db5c-a174-4675-fca7-a9e9f6108c1c"
      },
      "execution_count": 67,
      "outputs": [
        {
          "output_type": "execute_result",
          "data": {
            "text/plain": [
              "     coordinates                      created_at  \\\n",
              "0            NaN  Thu Aug 05 13:43:09 +0000 2021   \n",
              "1            NaN  Thu Aug 05 12:12:01 +0000 2021   \n",
              "2            NaN  Thu Aug 05 13:51:38 +0000 2021   \n",
              "3            NaN  Thu Aug 05 16:27:30 +0000 2021   \n",
              "4            NaN  Thu Aug 05 11:21:15 +0000 2021   \n",
              "...          ...                             ...   \n",
              "1391         NaN  Wed Jul 28 18:07:34 +0000 2021   \n",
              "1392         NaN  Wed Jul 28 20:51:14 +0000 2021   \n",
              "1393         NaN  Wed Jul 28 18:17:04 +0000 2021   \n",
              "1394         NaN  Wed Jul 28 19:41:36 +0000 2021   \n",
              "1395         NaN  Wed Jul 28 17:29:33 +0000 2021   \n",
              "\n",
              "                                    hashtags media  \\\n",
              "0                                        NaN   NaN   \n",
              "1                                        NaN   NaN   \n",
              "2                                        NaN   NaN   \n",
              "3                                        NaN   NaN   \n",
              "4                                        NaN   NaN   \n",
              "...                                      ...   ...   \n",
              "1391               Polaków Ukraińców Czechów   NaN   \n",
              "1392                                     NaN   NaN   \n",
              "1393                                     NaN   NaN   \n",
              "1394  PilnujmyPolski włączprawdę TVRepublika   NaN   \n",
              "1395                             NordStream2   NaN   \n",
              "\n",
              "                                                   urls  favorite_count  \\\n",
              "0                                                   NaN               1   \n",
              "1                                                   NaN               0   \n",
              "2                                                   NaN               0   \n",
              "3                                                   NaN               0   \n",
              "4                                                   NaN               0   \n",
              "...                                                 ...             ...   \n",
              "1391                                                NaN               0   \n",
              "1392  https://biznesalert.pl/ukraina-chce-konsultacj...               0   \n",
              "1393                                                NaN               0   \n",
              "1394                                                NaN               6   \n",
              "1395  https://foreignpolicy.com/2021/07/27/ukraine-w...               0   \n",
              "\n",
              "                       id in_reply_to_screen_name  in_reply_to_status_id  \\\n",
              "0     1423278406167187458               tomo9000p           1.423265e+18   \n",
              "1     1423255469389406209                     NaN                    NaN   \n",
              "2     1423280539981602821               lukasz_nd           1.423278e+18   \n",
              "3     1423319766320697345                     NaN                    NaN   \n",
              "4     1423242694114091008                     NaN                    NaN   \n",
              "...                   ...                     ...                    ...   \n",
              "1391  1420445844260761603                     NaN                    NaN   \n",
              "1392  1420487031831007234                     NaN                    NaN   \n",
              "1393  1420448234250592257                     NaN                    NaN   \n",
              "1394  1420469508100198407                     NaN                    NaN   \n",
              "1395  1420436276004757504                     NaN                    NaN   \n",
              "\n",
              "      in_reply_to_user_id  ... user_followers_count user_friends_count  \\\n",
              "0            9.188923e+17  ...                  430                494   \n",
              "1                     NaN  ...                  938               1335   \n",
              "2            9.211491e+17  ...                 2544               1307   \n",
              "3                     NaN  ...                  617                954   \n",
              "4                     NaN  ...                 3093               5002   \n",
              "...                   ...  ...                  ...                ...   \n",
              "1391                  NaN  ...                 2928               4153   \n",
              "1392                  NaN  ...                  516                272   \n",
              "1393                  NaN  ...                  526                335   \n",
              "1394                  NaN  ...               106895               1165   \n",
              "1395                  NaN  ...                 2236               4790   \n",
              "\n",
              "     user_listed_count  user_location                            user_name  \\\n",
              "0                    8            NaN                              roboter   \n",
              "1                   10            NaN                            WIKI WEST   \n",
              "2                   10            NaN                    Karol Kaźmierczak   \n",
              "3                    1  Wielka Polska              Przemysław Świrta 🇵🇱🤝🇭🇺   \n",
              "4                    7         Polska                    stefan wilczyński   \n",
              "...                ...            ...                                  ...   \n",
              "1391                19      Warszawa                       Radca Węgrowicz   \n",
              "1392                19            NaN                         Piotr Gaglik   \n",
              "1393                 1       Warszawa                           Anna Maria   \n",
              "1394               364         Polska  Telewizja Republika 🇵🇱 #włączprawdę   \n",
              "1395                 1            NaN            Mariusz Kadłubowski 🇵🇱 🇬🇧   \n",
              "\n",
              "      user_screen_name user_statuses_count user_time_zone  \\\n",
              "0            roboter15                5890            NaN   \n",
              "1            west_wiki              122724            NaN   \n",
              "2        KKazmierczakK               20863            NaN   \n",
              "3         primoszprawy                6612            NaN   \n",
              "4      stefanwilczysk1              125379            NaN   \n",
              "...                ...                 ...            ...   \n",
              "1391            RadcaW              601040            NaN   \n",
              "1392           PGaglik              166998            NaN   \n",
              "1393   AnnaMar54928634               64514            NaN   \n",
              "1394       RepublikaTV              272801            NaN   \n",
              "1395        Marioosh80               54428            NaN   \n",
              "\n",
              "                                              user_urls user_verified  \n",
              "0                                                   NaN         False  \n",
              "1                                                   NaN         False  \n",
              "2     https://www.facebook.com/pages/Karol-Ka%C5%BAm...         False  \n",
              "3            https://konfederacja.pl/po-stronie-polski/         False  \n",
              "4                                                   NaN         False  \n",
              "...                                                 ...           ...  \n",
              "1391                                                NaN         False  \n",
              "1392                                                NaN         False  \n",
              "1393                                                NaN         False  \n",
              "1394                          http://www.tvrepublika.pl         False  \n",
              "1395                                                NaN         False  \n",
              "\n",
              "[1396 rows x 35 columns]"
            ],
            "text/html": [
              "\n",
              "  <div id=\"df-d6b94806-929a-4abf-b246-86f0bdb324d3\">\n",
              "    <div class=\"colab-df-container\">\n",
              "      <div>\n",
              "<style scoped>\n",
              "    .dataframe tbody tr th:only-of-type {\n",
              "        vertical-align: middle;\n",
              "    }\n",
              "\n",
              "    .dataframe tbody tr th {\n",
              "        vertical-align: top;\n",
              "    }\n",
              "\n",
              "    .dataframe thead th {\n",
              "        text-align: right;\n",
              "    }\n",
              "</style>\n",
              "<table border=\"1\" class=\"dataframe\">\n",
              "  <thead>\n",
              "    <tr style=\"text-align: right;\">\n",
              "      <th></th>\n",
              "      <th>coordinates</th>\n",
              "      <th>created_at</th>\n",
              "      <th>hashtags</th>\n",
              "      <th>media</th>\n",
              "      <th>urls</th>\n",
              "      <th>favorite_count</th>\n",
              "      <th>id</th>\n",
              "      <th>in_reply_to_screen_name</th>\n",
              "      <th>in_reply_to_status_id</th>\n",
              "      <th>in_reply_to_user_id</th>\n",
              "      <th>...</th>\n",
              "      <th>user_followers_count</th>\n",
              "      <th>user_friends_count</th>\n",
              "      <th>user_listed_count</th>\n",
              "      <th>user_location</th>\n",
              "      <th>user_name</th>\n",
              "      <th>user_screen_name</th>\n",
              "      <th>user_statuses_count</th>\n",
              "      <th>user_time_zone</th>\n",
              "      <th>user_urls</th>\n",
              "      <th>user_verified</th>\n",
              "    </tr>\n",
              "  </thead>\n",
              "  <tbody>\n",
              "    <tr>\n",
              "      <th>0</th>\n",
              "      <td>NaN</td>\n",
              "      <td>Thu Aug 05 13:43:09 +0000 2021</td>\n",
              "      <td>NaN</td>\n",
              "      <td>NaN</td>\n",
              "      <td>NaN</td>\n",
              "      <td>1</td>\n",
              "      <td>1423278406167187458</td>\n",
              "      <td>tomo9000p</td>\n",
              "      <td>1.423265e+18</td>\n",
              "      <td>9.188923e+17</td>\n",
              "      <td>...</td>\n",
              "      <td>430</td>\n",
              "      <td>494</td>\n",
              "      <td>8</td>\n",
              "      <td>NaN</td>\n",
              "      <td>roboter</td>\n",
              "      <td>roboter15</td>\n",
              "      <td>5890</td>\n",
              "      <td>NaN</td>\n",
              "      <td>NaN</td>\n",
              "      <td>False</td>\n",
              "    </tr>\n",
              "    <tr>\n",
              "      <th>1</th>\n",
              "      <td>NaN</td>\n",
              "      <td>Thu Aug 05 12:12:01 +0000 2021</td>\n",
              "      <td>NaN</td>\n",
              "      <td>NaN</td>\n",
              "      <td>NaN</td>\n",
              "      <td>0</td>\n",
              "      <td>1423255469389406209</td>\n",
              "      <td>NaN</td>\n",
              "      <td>NaN</td>\n",
              "      <td>NaN</td>\n",
              "      <td>...</td>\n",
              "      <td>938</td>\n",
              "      <td>1335</td>\n",
              "      <td>10</td>\n",
              "      <td>NaN</td>\n",
              "      <td>WIKI WEST</td>\n",
              "      <td>west_wiki</td>\n",
              "      <td>122724</td>\n",
              "      <td>NaN</td>\n",
              "      <td>NaN</td>\n",
              "      <td>False</td>\n",
              "    </tr>\n",
              "    <tr>\n",
              "      <th>2</th>\n",
              "      <td>NaN</td>\n",
              "      <td>Thu Aug 05 13:51:38 +0000 2021</td>\n",
              "      <td>NaN</td>\n",
              "      <td>NaN</td>\n",
              "      <td>NaN</td>\n",
              "      <td>0</td>\n",
              "      <td>1423280539981602821</td>\n",
              "      <td>lukasz_nd</td>\n",
              "      <td>1.423278e+18</td>\n",
              "      <td>9.211491e+17</td>\n",
              "      <td>...</td>\n",
              "      <td>2544</td>\n",
              "      <td>1307</td>\n",
              "      <td>10</td>\n",
              "      <td>NaN</td>\n",
              "      <td>Karol Kaźmierczak</td>\n",
              "      <td>KKazmierczakK</td>\n",
              "      <td>20863</td>\n",
              "      <td>NaN</td>\n",
              "      <td>https://www.facebook.com/pages/Karol-Ka%C5%BAm...</td>\n",
              "      <td>False</td>\n",
              "    </tr>\n",
              "    <tr>\n",
              "      <th>3</th>\n",
              "      <td>NaN</td>\n",
              "      <td>Thu Aug 05 16:27:30 +0000 2021</td>\n",
              "      <td>NaN</td>\n",
              "      <td>NaN</td>\n",
              "      <td>NaN</td>\n",
              "      <td>0</td>\n",
              "      <td>1423319766320697345</td>\n",
              "      <td>NaN</td>\n",
              "      <td>NaN</td>\n",
              "      <td>NaN</td>\n",
              "      <td>...</td>\n",
              "      <td>617</td>\n",
              "      <td>954</td>\n",
              "      <td>1</td>\n",
              "      <td>Wielka Polska</td>\n",
              "      <td>Przemysław Świrta 🇵🇱🤝🇭🇺</td>\n",
              "      <td>primoszprawy</td>\n",
              "      <td>6612</td>\n",
              "      <td>NaN</td>\n",
              "      <td>https://konfederacja.pl/po-stronie-polski/</td>\n",
              "      <td>False</td>\n",
              "    </tr>\n",
              "    <tr>\n",
              "      <th>4</th>\n",
              "      <td>NaN</td>\n",
              "      <td>Thu Aug 05 11:21:15 +0000 2021</td>\n",
              "      <td>NaN</td>\n",
              "      <td>NaN</td>\n",
              "      <td>NaN</td>\n",
              "      <td>0</td>\n",
              "      <td>1423242694114091008</td>\n",
              "      <td>NaN</td>\n",
              "      <td>NaN</td>\n",
              "      <td>NaN</td>\n",
              "      <td>...</td>\n",
              "      <td>3093</td>\n",
              "      <td>5002</td>\n",
              "      <td>7</td>\n",
              "      <td>Polska</td>\n",
              "      <td>stefan wilczyński</td>\n",
              "      <td>stefanwilczysk1</td>\n",
              "      <td>125379</td>\n",
              "      <td>NaN</td>\n",
              "      <td>NaN</td>\n",
              "      <td>False</td>\n",
              "    </tr>\n",
              "    <tr>\n",
              "      <th>...</th>\n",
              "      <td>...</td>\n",
              "      <td>...</td>\n",
              "      <td>...</td>\n",
              "      <td>...</td>\n",
              "      <td>...</td>\n",
              "      <td>...</td>\n",
              "      <td>...</td>\n",
              "      <td>...</td>\n",
              "      <td>...</td>\n",
              "      <td>...</td>\n",
              "      <td>...</td>\n",
              "      <td>...</td>\n",
              "      <td>...</td>\n",
              "      <td>...</td>\n",
              "      <td>...</td>\n",
              "      <td>...</td>\n",
              "      <td>...</td>\n",
              "      <td>...</td>\n",
              "      <td>...</td>\n",
              "      <td>...</td>\n",
              "      <td>...</td>\n",
              "    </tr>\n",
              "    <tr>\n",
              "      <th>1391</th>\n",
              "      <td>NaN</td>\n",
              "      <td>Wed Jul 28 18:07:34 +0000 2021</td>\n",
              "      <td>Polaków Ukraińców Czechów</td>\n",
              "      <td>NaN</td>\n",
              "      <td>NaN</td>\n",
              "      <td>0</td>\n",
              "      <td>1420445844260761603</td>\n",
              "      <td>NaN</td>\n",
              "      <td>NaN</td>\n",
              "      <td>NaN</td>\n",
              "      <td>...</td>\n",
              "      <td>2928</td>\n",
              "      <td>4153</td>\n",
              "      <td>19</td>\n",
              "      <td>Warszawa</td>\n",
              "      <td>Radca Węgrowicz</td>\n",
              "      <td>RadcaW</td>\n",
              "      <td>601040</td>\n",
              "      <td>NaN</td>\n",
              "      <td>NaN</td>\n",
              "      <td>False</td>\n",
              "    </tr>\n",
              "    <tr>\n",
              "      <th>1392</th>\n",
              "      <td>NaN</td>\n",
              "      <td>Wed Jul 28 20:51:14 +0000 2021</td>\n",
              "      <td>NaN</td>\n",
              "      <td>NaN</td>\n",
              "      <td>https://biznesalert.pl/ukraina-chce-konsultacj...</td>\n",
              "      <td>0</td>\n",
              "      <td>1420487031831007234</td>\n",
              "      <td>NaN</td>\n",
              "      <td>NaN</td>\n",
              "      <td>NaN</td>\n",
              "      <td>...</td>\n",
              "      <td>516</td>\n",
              "      <td>272</td>\n",
              "      <td>19</td>\n",
              "      <td>NaN</td>\n",
              "      <td>Piotr Gaglik</td>\n",
              "      <td>PGaglik</td>\n",
              "      <td>166998</td>\n",
              "      <td>NaN</td>\n",
              "      <td>NaN</td>\n",
              "      <td>False</td>\n",
              "    </tr>\n",
              "    <tr>\n",
              "      <th>1393</th>\n",
              "      <td>NaN</td>\n",
              "      <td>Wed Jul 28 18:17:04 +0000 2021</td>\n",
              "      <td>NaN</td>\n",
              "      <td>NaN</td>\n",
              "      <td>NaN</td>\n",
              "      <td>0</td>\n",
              "      <td>1420448234250592257</td>\n",
              "      <td>NaN</td>\n",
              "      <td>NaN</td>\n",
              "      <td>NaN</td>\n",
              "      <td>...</td>\n",
              "      <td>526</td>\n",
              "      <td>335</td>\n",
              "      <td>1</td>\n",
              "      <td>Warszawa</td>\n",
              "      <td>Anna Maria</td>\n",
              "      <td>AnnaMar54928634</td>\n",
              "      <td>64514</td>\n",
              "      <td>NaN</td>\n",
              "      <td>NaN</td>\n",
              "      <td>False</td>\n",
              "    </tr>\n",
              "    <tr>\n",
              "      <th>1394</th>\n",
              "      <td>NaN</td>\n",
              "      <td>Wed Jul 28 19:41:36 +0000 2021</td>\n",
              "      <td>PilnujmyPolski włączprawdę TVRepublika</td>\n",
              "      <td>NaN</td>\n",
              "      <td>NaN</td>\n",
              "      <td>6</td>\n",
              "      <td>1420469508100198407</td>\n",
              "      <td>NaN</td>\n",
              "      <td>NaN</td>\n",
              "      <td>NaN</td>\n",
              "      <td>...</td>\n",
              "      <td>106895</td>\n",
              "      <td>1165</td>\n",
              "      <td>364</td>\n",
              "      <td>Polska</td>\n",
              "      <td>Telewizja Republika 🇵🇱 #włączprawdę</td>\n",
              "      <td>RepublikaTV</td>\n",
              "      <td>272801</td>\n",
              "      <td>NaN</td>\n",
              "      <td>http://www.tvrepublika.pl</td>\n",
              "      <td>False</td>\n",
              "    </tr>\n",
              "    <tr>\n",
              "      <th>1395</th>\n",
              "      <td>NaN</td>\n",
              "      <td>Wed Jul 28 17:29:33 +0000 2021</td>\n",
              "      <td>NordStream2</td>\n",
              "      <td>NaN</td>\n",
              "      <td>https://foreignpolicy.com/2021/07/27/ukraine-w...</td>\n",
              "      <td>0</td>\n",
              "      <td>1420436276004757504</td>\n",
              "      <td>NaN</td>\n",
              "      <td>NaN</td>\n",
              "      <td>NaN</td>\n",
              "      <td>...</td>\n",
              "      <td>2236</td>\n",
              "      <td>4790</td>\n",
              "      <td>1</td>\n",
              "      <td>NaN</td>\n",
              "      <td>Mariusz Kadłubowski 🇵🇱 🇬🇧</td>\n",
              "      <td>Marioosh80</td>\n",
              "      <td>54428</td>\n",
              "      <td>NaN</td>\n",
              "      <td>NaN</td>\n",
              "      <td>False</td>\n",
              "    </tr>\n",
              "  </tbody>\n",
              "</table>\n",
              "<p>1396 rows × 35 columns</p>\n",
              "</div>\n",
              "      <button class=\"colab-df-convert\" onclick=\"convertToInteractive('df-d6b94806-929a-4abf-b246-86f0bdb324d3')\"\n",
              "              title=\"Convert this dataframe to an interactive table.\"\n",
              "              style=\"display:none;\">\n",
              "        \n",
              "  <svg xmlns=\"http://www.w3.org/2000/svg\" height=\"24px\"viewBox=\"0 0 24 24\"\n",
              "       width=\"24px\">\n",
              "    <path d=\"M0 0h24v24H0V0z\" fill=\"none\"/>\n",
              "    <path d=\"M18.56 5.44l.94 2.06.94-2.06 2.06-.94-2.06-.94-.94-2.06-.94 2.06-2.06.94zm-11 1L8.5 8.5l.94-2.06 2.06-.94-2.06-.94L8.5 2.5l-.94 2.06-2.06.94zm10 10l.94 2.06.94-2.06 2.06-.94-2.06-.94-.94-2.06-.94 2.06-2.06.94z\"/><path d=\"M17.41 7.96l-1.37-1.37c-.4-.4-.92-.59-1.43-.59-.52 0-1.04.2-1.43.59L10.3 9.45l-7.72 7.72c-.78.78-.78 2.05 0 2.83L4 21.41c.39.39.9.59 1.41.59.51 0 1.02-.2 1.41-.59l7.78-7.78 2.81-2.81c.8-.78.8-2.07 0-2.86zM5.41 20L4 18.59l7.72-7.72 1.47 1.35L5.41 20z\"/>\n",
              "  </svg>\n",
              "      </button>\n",
              "      \n",
              "  <style>\n",
              "    .colab-df-container {\n",
              "      display:flex;\n",
              "      flex-wrap:wrap;\n",
              "      gap: 12px;\n",
              "    }\n",
              "\n",
              "    .colab-df-convert {\n",
              "      background-color: #E8F0FE;\n",
              "      border: none;\n",
              "      border-radius: 50%;\n",
              "      cursor: pointer;\n",
              "      display: none;\n",
              "      fill: #1967D2;\n",
              "      height: 32px;\n",
              "      padding: 0 0 0 0;\n",
              "      width: 32px;\n",
              "    }\n",
              "\n",
              "    .colab-df-convert:hover {\n",
              "      background-color: #E2EBFA;\n",
              "      box-shadow: 0px 1px 2px rgba(60, 64, 67, 0.3), 0px 1px 3px 1px rgba(60, 64, 67, 0.15);\n",
              "      fill: #174EA6;\n",
              "    }\n",
              "\n",
              "    [theme=dark] .colab-df-convert {\n",
              "      background-color: #3B4455;\n",
              "      fill: #D2E3FC;\n",
              "    }\n",
              "\n",
              "    [theme=dark] .colab-df-convert:hover {\n",
              "      background-color: #434B5C;\n",
              "      box-shadow: 0px 1px 3px 1px rgba(0, 0, 0, 0.15);\n",
              "      filter: drop-shadow(0px 1px 2px rgba(0, 0, 0, 0.3));\n",
              "      fill: #FFFFFF;\n",
              "    }\n",
              "  </style>\n",
              "\n",
              "      <script>\n",
              "        const buttonEl =\n",
              "          document.querySelector('#df-d6b94806-929a-4abf-b246-86f0bdb324d3 button.colab-df-convert');\n",
              "        buttonEl.style.display =\n",
              "          google.colab.kernel.accessAllowed ? 'block' : 'none';\n",
              "\n",
              "        async function convertToInteractive(key) {\n",
              "          const element = document.querySelector('#df-d6b94806-929a-4abf-b246-86f0bdb324d3');\n",
              "          const dataTable =\n",
              "            await google.colab.kernel.invokeFunction('convertToInteractive',\n",
              "                                                     [key], {});\n",
              "          if (!dataTable) return;\n",
              "\n",
              "          const docLinkHtml = 'Like what you see? Visit the ' +\n",
              "            '<a target=\"_blank\" href=https://colab.research.google.com/notebooks/data_table.ipynb>data table notebook</a>'\n",
              "            + ' to learn more about interactive tables.';\n",
              "          element.innerHTML = '';\n",
              "          dataTable['output_type'] = 'display_data';\n",
              "          await google.colab.output.renderOutput(dataTable, element);\n",
              "          const docLink = document.createElement('div');\n",
              "          docLink.innerHTML = docLinkHtml;\n",
              "          element.appendChild(docLink);\n",
              "        }\n",
              "      </script>\n",
              "    </div>\n",
              "  </div>\n",
              "  "
            ]
          },
          "metadata": {},
          "execution_count": 67
        }
      ]
    },
    {
      "cell_type": "markdown",
      "source": [
        "1"
      ],
      "metadata": {
        "id": "eOMQ4dU87E1S"
      }
    },
    {
      "cell_type": "code",
      "source": [
        "df"
      ],
      "metadata": {
        "colab": {
          "base_uri": "https://localhost:8080/",
          "height": 730
        },
        "id": "4Au0kBzh86xY",
        "outputId": "1fdd82be-11a5-457f-82d5-5518ab279dce"
      },
      "execution_count": 68,
      "outputs": [
        {
          "output_type": "execute_result",
          "data": {
            "text/plain": [
              "     coordinates                created_at  \\\n",
              "0            NaN 2021-08-05 13:43:09+00:00   \n",
              "1            NaN 2021-08-05 12:12:01+00:00   \n",
              "2            NaN 2021-08-05 13:51:38+00:00   \n",
              "3            NaN 2021-08-05 16:27:30+00:00   \n",
              "4            NaN 2021-08-05 11:21:15+00:00   \n",
              "...          ...                       ...   \n",
              "1391         NaN 2021-07-28 18:07:34+00:00   \n",
              "1392         NaN 2021-07-28 20:51:14+00:00   \n",
              "1393         NaN 2021-07-28 18:17:04+00:00   \n",
              "1394         NaN 2021-07-28 19:41:36+00:00   \n",
              "1395         NaN 2021-07-28 17:29:33+00:00   \n",
              "\n",
              "                                    hashtags media  \\\n",
              "0                                        NaN   NaN   \n",
              "1                                        NaN   NaN   \n",
              "2                                        NaN   NaN   \n",
              "3                                        NaN   NaN   \n",
              "4                                        NaN   NaN   \n",
              "...                                      ...   ...   \n",
              "1391               Polaków Ukraińców Czechów   NaN   \n",
              "1392                                     NaN   NaN   \n",
              "1393                                     NaN   NaN   \n",
              "1394  PilnujmyPolski włączprawdę TVRepublika   NaN   \n",
              "1395                             NordStream2   NaN   \n",
              "\n",
              "                                                   urls  favorite_count  \\\n",
              "0                                                   NaN               1   \n",
              "1                                                   NaN               0   \n",
              "2                                                   NaN               0   \n",
              "3                                                   NaN               0   \n",
              "4                                                   NaN               0   \n",
              "...                                                 ...             ...   \n",
              "1391                                                NaN               0   \n",
              "1392  https://biznesalert.pl/ukraina-chce-konsultacj...               0   \n",
              "1393                                                NaN               0   \n",
              "1394                                                NaN               6   \n",
              "1395  https://foreignpolicy.com/2021/07/27/ukraine-w...               0   \n",
              "\n",
              "                       id in_reply_to_screen_name  in_reply_to_status_id  \\\n",
              "0     1423278406167187458               tomo9000p           1.423265e+18   \n",
              "1     1423255469389406209                     NaN                    NaN   \n",
              "2     1423280539981602821               lukasz_nd           1.423278e+18   \n",
              "3     1423319766320697345                     NaN                    NaN   \n",
              "4     1423242694114091008                     NaN                    NaN   \n",
              "...                   ...                     ...                    ...   \n",
              "1391  1420445844260761603                     NaN                    NaN   \n",
              "1392  1420487031831007234                     NaN                    NaN   \n",
              "1393  1420448234250592257                     NaN                    NaN   \n",
              "1394  1420469508100198407                     NaN                    NaN   \n",
              "1395  1420436276004757504                     NaN                    NaN   \n",
              "\n",
              "      in_reply_to_user_id  ... user_followers_count user_friends_count  \\\n",
              "0            9.188923e+17  ...                  430                494   \n",
              "1                     NaN  ...                  938               1335   \n",
              "2            9.211491e+17  ...                 2544               1307   \n",
              "3                     NaN  ...                  617                954   \n",
              "4                     NaN  ...                 3093               5002   \n",
              "...                   ...  ...                  ...                ...   \n",
              "1391                  NaN  ...                 2928               4153   \n",
              "1392                  NaN  ...                  516                272   \n",
              "1393                  NaN  ...                  526                335   \n",
              "1394                  NaN  ...               106895               1165   \n",
              "1395                  NaN  ...                 2236               4790   \n",
              "\n",
              "     user_listed_count  user_location                            user_name  \\\n",
              "0                    8            NaN                              roboter   \n",
              "1                   10            NaN                            WIKI WEST   \n",
              "2                   10            NaN                    Karol Kaźmierczak   \n",
              "3                    1  Wielka Polska              Przemysław Świrta 🇵🇱🤝🇭🇺   \n",
              "4                    7         Polska                    stefan wilczyński   \n",
              "...                ...            ...                                  ...   \n",
              "1391                19      Warszawa                       Radca Węgrowicz   \n",
              "1392                19            NaN                         Piotr Gaglik   \n",
              "1393                 1       Warszawa                           Anna Maria   \n",
              "1394               364         Polska  Telewizja Republika 🇵🇱 #włączprawdę   \n",
              "1395                 1            NaN            Mariusz Kadłubowski 🇵🇱 🇬🇧   \n",
              "\n",
              "      user_screen_name user_statuses_count user_time_zone  \\\n",
              "0            roboter15                5890            NaN   \n",
              "1            west_wiki              122724            NaN   \n",
              "2        KKazmierczakK               20863            NaN   \n",
              "3         primoszprawy                6612            NaN   \n",
              "4      stefanwilczysk1              125379            NaN   \n",
              "...                ...                 ...            ...   \n",
              "1391            RadcaW              601040            NaN   \n",
              "1392           PGaglik              166998            NaN   \n",
              "1393   AnnaMar54928634               64514            NaN   \n",
              "1394       RepublikaTV              272801            NaN   \n",
              "1395        Marioosh80               54428            NaN   \n",
              "\n",
              "                                              user_urls user_verified  \n",
              "0                                                   NaN         False  \n",
              "1                                                   NaN         False  \n",
              "2     https://www.facebook.com/pages/Karol-Ka%C5%BAm...         False  \n",
              "3            https://konfederacja.pl/po-stronie-polski/         False  \n",
              "4                                                   NaN         False  \n",
              "...                                                 ...           ...  \n",
              "1391                                                NaN         False  \n",
              "1392                                                NaN         False  \n",
              "1393                                                NaN         False  \n",
              "1394                          http://www.tvrepublika.pl         False  \n",
              "1395                                                NaN         False  \n",
              "\n",
              "[1396 rows x 35 columns]"
            ],
            "text/html": [
              "\n",
              "  <div id=\"df-faa53bd1-0337-49fd-86e8-bbcba7104fda\">\n",
              "    <div class=\"colab-df-container\">\n",
              "      <div>\n",
              "<style scoped>\n",
              "    .dataframe tbody tr th:only-of-type {\n",
              "        vertical-align: middle;\n",
              "    }\n",
              "\n",
              "    .dataframe tbody tr th {\n",
              "        vertical-align: top;\n",
              "    }\n",
              "\n",
              "    .dataframe thead th {\n",
              "        text-align: right;\n",
              "    }\n",
              "</style>\n",
              "<table border=\"1\" class=\"dataframe\">\n",
              "  <thead>\n",
              "    <tr style=\"text-align: right;\">\n",
              "      <th></th>\n",
              "      <th>coordinates</th>\n",
              "      <th>created_at</th>\n",
              "      <th>hashtags</th>\n",
              "      <th>media</th>\n",
              "      <th>urls</th>\n",
              "      <th>favorite_count</th>\n",
              "      <th>id</th>\n",
              "      <th>in_reply_to_screen_name</th>\n",
              "      <th>in_reply_to_status_id</th>\n",
              "      <th>in_reply_to_user_id</th>\n",
              "      <th>...</th>\n",
              "      <th>user_followers_count</th>\n",
              "      <th>user_friends_count</th>\n",
              "      <th>user_listed_count</th>\n",
              "      <th>user_location</th>\n",
              "      <th>user_name</th>\n",
              "      <th>user_screen_name</th>\n",
              "      <th>user_statuses_count</th>\n",
              "      <th>user_time_zone</th>\n",
              "      <th>user_urls</th>\n",
              "      <th>user_verified</th>\n",
              "    </tr>\n",
              "  </thead>\n",
              "  <tbody>\n",
              "    <tr>\n",
              "      <th>0</th>\n",
              "      <td>NaN</td>\n",
              "      <td>2021-08-05 13:43:09+00:00</td>\n",
              "      <td>NaN</td>\n",
              "      <td>NaN</td>\n",
              "      <td>NaN</td>\n",
              "      <td>1</td>\n",
              "      <td>1423278406167187458</td>\n",
              "      <td>tomo9000p</td>\n",
              "      <td>1.423265e+18</td>\n",
              "      <td>9.188923e+17</td>\n",
              "      <td>...</td>\n",
              "      <td>430</td>\n",
              "      <td>494</td>\n",
              "      <td>8</td>\n",
              "      <td>NaN</td>\n",
              "      <td>roboter</td>\n",
              "      <td>roboter15</td>\n",
              "      <td>5890</td>\n",
              "      <td>NaN</td>\n",
              "      <td>NaN</td>\n",
              "      <td>False</td>\n",
              "    </tr>\n",
              "    <tr>\n",
              "      <th>1</th>\n",
              "      <td>NaN</td>\n",
              "      <td>2021-08-05 12:12:01+00:00</td>\n",
              "      <td>NaN</td>\n",
              "      <td>NaN</td>\n",
              "      <td>NaN</td>\n",
              "      <td>0</td>\n",
              "      <td>1423255469389406209</td>\n",
              "      <td>NaN</td>\n",
              "      <td>NaN</td>\n",
              "      <td>NaN</td>\n",
              "      <td>...</td>\n",
              "      <td>938</td>\n",
              "      <td>1335</td>\n",
              "      <td>10</td>\n",
              "      <td>NaN</td>\n",
              "      <td>WIKI WEST</td>\n",
              "      <td>west_wiki</td>\n",
              "      <td>122724</td>\n",
              "      <td>NaN</td>\n",
              "      <td>NaN</td>\n",
              "      <td>False</td>\n",
              "    </tr>\n",
              "    <tr>\n",
              "      <th>2</th>\n",
              "      <td>NaN</td>\n",
              "      <td>2021-08-05 13:51:38+00:00</td>\n",
              "      <td>NaN</td>\n",
              "      <td>NaN</td>\n",
              "      <td>NaN</td>\n",
              "      <td>0</td>\n",
              "      <td>1423280539981602821</td>\n",
              "      <td>lukasz_nd</td>\n",
              "      <td>1.423278e+18</td>\n",
              "      <td>9.211491e+17</td>\n",
              "      <td>...</td>\n",
              "      <td>2544</td>\n",
              "      <td>1307</td>\n",
              "      <td>10</td>\n",
              "      <td>NaN</td>\n",
              "      <td>Karol Kaźmierczak</td>\n",
              "      <td>KKazmierczakK</td>\n",
              "      <td>20863</td>\n",
              "      <td>NaN</td>\n",
              "      <td>https://www.facebook.com/pages/Karol-Ka%C5%BAm...</td>\n",
              "      <td>False</td>\n",
              "    </tr>\n",
              "    <tr>\n",
              "      <th>3</th>\n",
              "      <td>NaN</td>\n",
              "      <td>2021-08-05 16:27:30+00:00</td>\n",
              "      <td>NaN</td>\n",
              "      <td>NaN</td>\n",
              "      <td>NaN</td>\n",
              "      <td>0</td>\n",
              "      <td>1423319766320697345</td>\n",
              "      <td>NaN</td>\n",
              "      <td>NaN</td>\n",
              "      <td>NaN</td>\n",
              "      <td>...</td>\n",
              "      <td>617</td>\n",
              "      <td>954</td>\n",
              "      <td>1</td>\n",
              "      <td>Wielka Polska</td>\n",
              "      <td>Przemysław Świrta 🇵🇱🤝🇭🇺</td>\n",
              "      <td>primoszprawy</td>\n",
              "      <td>6612</td>\n",
              "      <td>NaN</td>\n",
              "      <td>https://konfederacja.pl/po-stronie-polski/</td>\n",
              "      <td>False</td>\n",
              "    </tr>\n",
              "    <tr>\n",
              "      <th>4</th>\n",
              "      <td>NaN</td>\n",
              "      <td>2021-08-05 11:21:15+00:00</td>\n",
              "      <td>NaN</td>\n",
              "      <td>NaN</td>\n",
              "      <td>NaN</td>\n",
              "      <td>0</td>\n",
              "      <td>1423242694114091008</td>\n",
              "      <td>NaN</td>\n",
              "      <td>NaN</td>\n",
              "      <td>NaN</td>\n",
              "      <td>...</td>\n",
              "      <td>3093</td>\n",
              "      <td>5002</td>\n",
              "      <td>7</td>\n",
              "      <td>Polska</td>\n",
              "      <td>stefan wilczyński</td>\n",
              "      <td>stefanwilczysk1</td>\n",
              "      <td>125379</td>\n",
              "      <td>NaN</td>\n",
              "      <td>NaN</td>\n",
              "      <td>False</td>\n",
              "    </tr>\n",
              "    <tr>\n",
              "      <th>...</th>\n",
              "      <td>...</td>\n",
              "      <td>...</td>\n",
              "      <td>...</td>\n",
              "      <td>...</td>\n",
              "      <td>...</td>\n",
              "      <td>...</td>\n",
              "      <td>...</td>\n",
              "      <td>...</td>\n",
              "      <td>...</td>\n",
              "      <td>...</td>\n",
              "      <td>...</td>\n",
              "      <td>...</td>\n",
              "      <td>...</td>\n",
              "      <td>...</td>\n",
              "      <td>...</td>\n",
              "      <td>...</td>\n",
              "      <td>...</td>\n",
              "      <td>...</td>\n",
              "      <td>...</td>\n",
              "      <td>...</td>\n",
              "      <td>...</td>\n",
              "    </tr>\n",
              "    <tr>\n",
              "      <th>1391</th>\n",
              "      <td>NaN</td>\n",
              "      <td>2021-07-28 18:07:34+00:00</td>\n",
              "      <td>Polaków Ukraińców Czechów</td>\n",
              "      <td>NaN</td>\n",
              "      <td>NaN</td>\n",
              "      <td>0</td>\n",
              "      <td>1420445844260761603</td>\n",
              "      <td>NaN</td>\n",
              "      <td>NaN</td>\n",
              "      <td>NaN</td>\n",
              "      <td>...</td>\n",
              "      <td>2928</td>\n",
              "      <td>4153</td>\n",
              "      <td>19</td>\n",
              "      <td>Warszawa</td>\n",
              "      <td>Radca Węgrowicz</td>\n",
              "      <td>RadcaW</td>\n",
              "      <td>601040</td>\n",
              "      <td>NaN</td>\n",
              "      <td>NaN</td>\n",
              "      <td>False</td>\n",
              "    </tr>\n",
              "    <tr>\n",
              "      <th>1392</th>\n",
              "      <td>NaN</td>\n",
              "      <td>2021-07-28 20:51:14+00:00</td>\n",
              "      <td>NaN</td>\n",
              "      <td>NaN</td>\n",
              "      <td>https://biznesalert.pl/ukraina-chce-konsultacj...</td>\n",
              "      <td>0</td>\n",
              "      <td>1420487031831007234</td>\n",
              "      <td>NaN</td>\n",
              "      <td>NaN</td>\n",
              "      <td>NaN</td>\n",
              "      <td>...</td>\n",
              "      <td>516</td>\n",
              "      <td>272</td>\n",
              "      <td>19</td>\n",
              "      <td>NaN</td>\n",
              "      <td>Piotr Gaglik</td>\n",
              "      <td>PGaglik</td>\n",
              "      <td>166998</td>\n",
              "      <td>NaN</td>\n",
              "      <td>NaN</td>\n",
              "      <td>False</td>\n",
              "    </tr>\n",
              "    <tr>\n",
              "      <th>1393</th>\n",
              "      <td>NaN</td>\n",
              "      <td>2021-07-28 18:17:04+00:00</td>\n",
              "      <td>NaN</td>\n",
              "      <td>NaN</td>\n",
              "      <td>NaN</td>\n",
              "      <td>0</td>\n",
              "      <td>1420448234250592257</td>\n",
              "      <td>NaN</td>\n",
              "      <td>NaN</td>\n",
              "      <td>NaN</td>\n",
              "      <td>...</td>\n",
              "      <td>526</td>\n",
              "      <td>335</td>\n",
              "      <td>1</td>\n",
              "      <td>Warszawa</td>\n",
              "      <td>Anna Maria</td>\n",
              "      <td>AnnaMar54928634</td>\n",
              "      <td>64514</td>\n",
              "      <td>NaN</td>\n",
              "      <td>NaN</td>\n",
              "      <td>False</td>\n",
              "    </tr>\n",
              "    <tr>\n",
              "      <th>1394</th>\n",
              "      <td>NaN</td>\n",
              "      <td>2021-07-28 19:41:36+00:00</td>\n",
              "      <td>PilnujmyPolski włączprawdę TVRepublika</td>\n",
              "      <td>NaN</td>\n",
              "      <td>NaN</td>\n",
              "      <td>6</td>\n",
              "      <td>1420469508100198407</td>\n",
              "      <td>NaN</td>\n",
              "      <td>NaN</td>\n",
              "      <td>NaN</td>\n",
              "      <td>...</td>\n",
              "      <td>106895</td>\n",
              "      <td>1165</td>\n",
              "      <td>364</td>\n",
              "      <td>Polska</td>\n",
              "      <td>Telewizja Republika 🇵🇱 #włączprawdę</td>\n",
              "      <td>RepublikaTV</td>\n",
              "      <td>272801</td>\n",
              "      <td>NaN</td>\n",
              "      <td>http://www.tvrepublika.pl</td>\n",
              "      <td>False</td>\n",
              "    </tr>\n",
              "    <tr>\n",
              "      <th>1395</th>\n",
              "      <td>NaN</td>\n",
              "      <td>2021-07-28 17:29:33+00:00</td>\n",
              "      <td>NordStream2</td>\n",
              "      <td>NaN</td>\n",
              "      <td>https://foreignpolicy.com/2021/07/27/ukraine-w...</td>\n",
              "      <td>0</td>\n",
              "      <td>1420436276004757504</td>\n",
              "      <td>NaN</td>\n",
              "      <td>NaN</td>\n",
              "      <td>NaN</td>\n",
              "      <td>...</td>\n",
              "      <td>2236</td>\n",
              "      <td>4790</td>\n",
              "      <td>1</td>\n",
              "      <td>NaN</td>\n",
              "      <td>Mariusz Kadłubowski 🇵🇱 🇬🇧</td>\n",
              "      <td>Marioosh80</td>\n",
              "      <td>54428</td>\n",
              "      <td>NaN</td>\n",
              "      <td>NaN</td>\n",
              "      <td>False</td>\n",
              "    </tr>\n",
              "  </tbody>\n",
              "</table>\n",
              "<p>1396 rows × 35 columns</p>\n",
              "</div>\n",
              "      <button class=\"colab-df-convert\" onclick=\"convertToInteractive('df-faa53bd1-0337-49fd-86e8-bbcba7104fda')\"\n",
              "              title=\"Convert this dataframe to an interactive table.\"\n",
              "              style=\"display:none;\">\n",
              "        \n",
              "  <svg xmlns=\"http://www.w3.org/2000/svg\" height=\"24px\"viewBox=\"0 0 24 24\"\n",
              "       width=\"24px\">\n",
              "    <path d=\"M0 0h24v24H0V0z\" fill=\"none\"/>\n",
              "    <path d=\"M18.56 5.44l.94 2.06.94-2.06 2.06-.94-2.06-.94-.94-2.06-.94 2.06-2.06.94zm-11 1L8.5 8.5l.94-2.06 2.06-.94-2.06-.94L8.5 2.5l-.94 2.06-2.06.94zm10 10l.94 2.06.94-2.06 2.06-.94-2.06-.94-.94-2.06-.94 2.06-2.06.94z\"/><path d=\"M17.41 7.96l-1.37-1.37c-.4-.4-.92-.59-1.43-.59-.52 0-1.04.2-1.43.59L10.3 9.45l-7.72 7.72c-.78.78-.78 2.05 0 2.83L4 21.41c.39.39.9.59 1.41.59.51 0 1.02-.2 1.41-.59l7.78-7.78 2.81-2.81c.8-.78.8-2.07 0-2.86zM5.41 20L4 18.59l7.72-7.72 1.47 1.35L5.41 20z\"/>\n",
              "  </svg>\n",
              "      </button>\n",
              "      \n",
              "  <style>\n",
              "    .colab-df-container {\n",
              "      display:flex;\n",
              "      flex-wrap:wrap;\n",
              "      gap: 12px;\n",
              "    }\n",
              "\n",
              "    .colab-df-convert {\n",
              "      background-color: #E8F0FE;\n",
              "      border: none;\n",
              "      border-radius: 50%;\n",
              "      cursor: pointer;\n",
              "      display: none;\n",
              "      fill: #1967D2;\n",
              "      height: 32px;\n",
              "      padding: 0 0 0 0;\n",
              "      width: 32px;\n",
              "    }\n",
              "\n",
              "    .colab-df-convert:hover {\n",
              "      background-color: #E2EBFA;\n",
              "      box-shadow: 0px 1px 2px rgba(60, 64, 67, 0.3), 0px 1px 3px 1px rgba(60, 64, 67, 0.15);\n",
              "      fill: #174EA6;\n",
              "    }\n",
              "\n",
              "    [theme=dark] .colab-df-convert {\n",
              "      background-color: #3B4455;\n",
              "      fill: #D2E3FC;\n",
              "    }\n",
              "\n",
              "    [theme=dark] .colab-df-convert:hover {\n",
              "      background-color: #434B5C;\n",
              "      box-shadow: 0px 1px 3px 1px rgba(0, 0, 0, 0.15);\n",
              "      filter: drop-shadow(0px 1px 2px rgba(0, 0, 0, 0.3));\n",
              "      fill: #FFFFFF;\n",
              "    }\n",
              "  </style>\n",
              "\n",
              "      <script>\n",
              "        const buttonEl =\n",
              "          document.querySelector('#df-faa53bd1-0337-49fd-86e8-bbcba7104fda button.colab-df-convert');\n",
              "        buttonEl.style.display =\n",
              "          google.colab.kernel.accessAllowed ? 'block' : 'none';\n",
              "\n",
              "        async function convertToInteractive(key) {\n",
              "          const element = document.querySelector('#df-faa53bd1-0337-49fd-86e8-bbcba7104fda');\n",
              "          const dataTable =\n",
              "            await google.colab.kernel.invokeFunction('convertToInteractive',\n",
              "                                                     [key], {});\n",
              "          if (!dataTable) return;\n",
              "\n",
              "          const docLinkHtml = 'Like what you see? Visit the ' +\n",
              "            '<a target=\"_blank\" href=https://colab.research.google.com/notebooks/data_table.ipynb>data table notebook</a>'\n",
              "            + ' to learn more about interactive tables.';\n",
              "          element.innerHTML = '';\n",
              "          dataTable['output_type'] = 'display_data';\n",
              "          await google.colab.output.renderOutput(dataTable, element);\n",
              "          const docLink = document.createElement('div');\n",
              "          docLink.innerHTML = docLinkHtml;\n",
              "          element.appendChild(docLink);\n",
              "        }\n",
              "      </script>\n",
              "    </div>\n",
              "  </div>\n",
              "  "
            ]
          },
          "metadata": {},
          "execution_count": 68
        }
      ]
    },
    {
      "cell_type": "code",
      "source": [
        "[wiersz.replace(\"Mon\", \"Poniedziałek\").replace(\"Tue\", \"Wtorek\").replace(\"Wed\", \"Środa\").replace(\"Thu\", \"Czwartek\").replace(\"Fri\", \"Piątek\").replace(\"Sat\", \"Sobota\").replace(\"Sun\", \"Niedziela\") for wiersz in df_Tweet['created_at']]"
      ],
      "metadata": {
        "id": "tgHj12Mpqxsf"
      },
      "execution_count": null,
      "outputs": []
    },
    {
      "cell_type": "code",
      "source": [
        "df_Tweet['created_at'] = [wiersz.replace(\"Mon\", \"Poniedziałek\").replace(\"Tue\", \"Wtorek\").replace(\"Wed\", \"Środa\").replace(\"Thu\", \"Czwartek\").replace(\"Fri\", \"Piątek\").replace(\"Sat\", \"Sobota\").replace(\"Sun\", \"Niedziela\") for wiersz in df_Tweet['created_at']]"
      ],
      "metadata": {
        "id": "we_tqRAGTcfb"
      },
      "execution_count": 70,
      "outputs": []
    },
    {
      "cell_type": "markdown",
      "source": [
        "2"
      ],
      "metadata": {
        "id": "Ug4YPIhb7Fmu"
      }
    },
    {
      "cell_type": "code",
      "source": [
        "[wiersz.replace(\"Aug\", \"Sierpień\").replace(\"Jul\", \"Lipiec\").replace(\"May\", \"Maj\").replace(\"Mar\", \"Marzec\").replace(\"Oct\", \"Październik\").replace(\"Jun\", \"Czerwiec\").replace(\"Nov\", \"Listopad\").replace(\"Feb\", \"Luty\").replace(\"Apr\", \"Kwiecień\").replace(\"Dec\", \"Grudzień\").replace(\"Sep\", \"Wrzesień\").replace(\"Jan\", \"Styczeń\") for wiersz in df_Tweet['user_created_at']] "
      ],
      "metadata": {
        "id": "YgRDJ7IItKgI"
      },
      "execution_count": null,
      "outputs": []
    },
    {
      "cell_type": "markdown",
      "source": [
        "3"
      ],
      "metadata": {
        "id": "_GcLJeud7HIF"
      }
    },
    {
      "cell_type": "code",
      "source": [
        "tweeturl_list = df['tweet_url'].tolist()"
      ],
      "metadata": {
        "id": "CaAnFf00zUIZ"
      },
      "execution_count": 27,
      "outputs": []
    },
    {
      "cell_type": "code",
      "source": [
        "print(tweeturl_list)"
      ],
      "metadata": {
        "colab": {
          "base_uri": "https://localhost:8080/"
        },
        "id": "EpM6L7rI6QdS",
        "outputId": "3e267c4e-3ad3-4f31-caf6-1debe44238f6"
      },
      "execution_count": 30,
      "outputs": [
        {
          "output_type": "stream",
          "name": "stdout",
          "text": [
            "['https://twitter.com/roboter15/status/1423278406167187458', 'https://twitter.com/west_wiki/status/1423255469389406209', 'https://twitter.com/KKazmierczakK/status/1423280539981602821', 'https://twitter.com/primoszprawy/status/1423319766320697345', 'https://twitter.com/stefanwilczysk1/status/1423242694114091008', 'https://twitter.com/Cukier77821679/status/1423252319706169346', 'https://twitter.com/PWidzenia/status/1423281395112108040', 'https://twitter.com/andrzej75_/status/1423210383586873345', 'https://twitter.com/lukasz_nd/status/1423254130559176710', 'https://twitter.com/dobieslav/status/1423227474368991232', 'https://twitter.com/MarioLus16/status/1423233663945351168', 'https://twitter.com/Mmagdab84/status/1423318000015396867', 'https://twitter.com/llukasz33_sz/status/1423318249090043906', 'https://twitter.com/krzcinska/status/1423299152067407872', 'https://twitter.com/bak_wanda/status/1423293221841502216', 'https://twitter.com/rafalkita93/status/1423222368286224388', 'https://twitter.com/USotysik/status/1423254774196183049', 'https://twitter.com/AntoniDebowy/status/1423217016228429825', 'https://twitter.com/TanioLatamy/status/1423220000588959748', 'https://twitter.com/SlawomiraR/status/1423234170642477056', 'https://twitter.com/Tk1JO8wRYk56OX9/status/1423218503415386112', 'https://twitter.com/Wadysaw86395513/status/1423314026323394561', 'https://twitter.com/JeremySidewell/status/1423306214050615296', 'https://twitter.com/cock4dick/status/1423276871588847625', 'https://twitter.com/JolaHolmes221B/status/1423280042155540486', 'https://twitter.com/JanekLassak/status/1423252518688145412', 'https://twitter.com/MariuszP1984/status/1423319804014956544', 'https://twitter.com/IZYKadam/status/1423267534128693249', 'https://twitter.com/HrKsawery/status/1423273227262988297', 'https://twitter.com/absprawa/status/1423302859332984836', 'https://twitter.com/Peter75989707/status/1423256633250140165', 'https://twitter.com/DariuszPeszko/status/1423317623882854410', 'https://twitter.com/Bellamy10840353/status/1423210335847297025', 'https://twitter.com/jar_lipke/status/1423321121882050561', 'https://twitter.com/cez_kosman/status/1423288799048585218', 'https://twitter.com/Rafa41014467/status/1423215900682039297', 'https://twitter.com/James18016580/status/1423291000055762956', 'https://twitter.com/Piotr_Malecki/status/1423210282281848832', 'https://twitter.com/Backyardbadboy/status/1423209760648749057', 'https://twitter.com/Andrzej54762271/status/1423214802042769408', 'https://twitter.com/UPukas/status/1423268751462572034', 'https://twitter.com/JerzyRydzewski/status/1423244886636122112', 'https://twitter.com/LubowiczDarek/status/1423253101205671938', 'https://twitter.com/dron_johnson/status/1423251857741426692', 'https://twitter.com/zeononk/status/1423322589833932800', 'https://twitter.com/00Linde/status/1423313203975659522', 'https://twitter.com/Marcin79476626/status/1423208233544585216', 'https://twitter.com/b_erawa/status/1423235419412602880', 'https://twitter.com/AndrzejGF/status/1423309875078172677', 'https://twitter.com/AleksanderKarw1/status/1423303085342998532', 'https://twitter.com/rudek_mirosaw/status/1423244620872421376', 'https://twitter.com/forthings4/status/1423297046992367617', 'https://twitter.com/LukaszNawrocki/status/1423208935167778817', 'https://twitter.com/n1ghtm4r3333/status/1423252415869071360', 'https://twitter.com/EluniaEla/status/1423278566377021443', 'https://twitter.com/PomeraniaUsarz/status/1423253515275804674', 'https://twitter.com/LukiBalboa1/status/1423247604943577089', 'https://twitter.com/Sl0wianinek/status/1423221710929776641', 'https://twitter.com/UkrinformP/status/1423240816420691974', 'https://twitter.com/LORDMELONPL/status/1423303530287403012', 'https://twitter.com/StanislawIskra/status/1423241826610339847', 'https://twitter.com/JotPaolo/status/1423266961539088384', 'https://twitter.com/KKazmierczakK/status/1423280285475434510', 'https://twitter.com/MaxpnM/status/1423316722115825669', 'https://twitter.com/VKouprich/status/1423211101500624900', 'https://twitter.com/jacek_ns/status/1423248626084679681', 'https://twitter.com/Pi0tr3kM/status/1423261329696169984', 'https://twitter.com/spartacus202020/status/1423247071545491456', 'https://twitter.com/etsaman2/status/1423266467735289856', 'https://twitter.com/Piotr48568589/status/1423241798613352453', 'https://twitter.com/EmiSi21/status/1423257781923164160', 'https://twitter.com/pepe_xy/status/1423248269866676225', 'https://twitter.com/nim237/status/1423231447868055557', 'https://twitter.com/maRcin00266814/status/1423255563727745024', 'https://twitter.com/Kumkumen/status/1423248119060381705', 'https://twitter.com/SpecGhost/status/1423221593350840322', 'https://twitter.com/BartoszKowara/status/1423273521292083204', 'https://twitter.com/Blackswan44444/status/1423238692039188483', 'https://twitter.com/Bukszpan3/status/1423256794487472129', 'https://twitter.com/KKazmierczakK/status/1423253386086998017', 'https://twitter.com/kumpkam1/status/1423304455878025230', 'https://twitter.com/Szymon30304371/status/1423241832067121152', 'https://twitter.com/kamilab35/status/1423243986710499330', 'https://twitter.com/HoffJadwiga/status/1423272162216054788', 'https://twitter.com/mariuszbonkowo/status/1423235586240954368', 'https://twitter.com/obserwator72/status/1423209465831116800', 'https://twitter.com/Iceflower_44/status/1423316100570357769', 'https://twitter.com/b_erawa/status/1423235368422367236', 'https://twitter.com/paw3lo/status/1423250354653835267', 'https://twitter.com/RadekPiasecki1/status/1423310737972281348', 'https://twitter.com/GolonkaMax/status/1423077478294331394', 'https://twitter.com/AdamPorba3/status/1423196435328163842', 'https://twitter.com/stoczniowiec666/status/1423200556101873664', 'https://twitter.com/P_Kaszubowski/status/1423103400141631488', 'https://twitter.com/21schilling/status/1423054714611064836', 'https://twitter.com/EdiAlekto/status/1423203893245366276', 'https://twitter.com/JaCicha/status/1423198458870177795', 'https://twitter.com/joan_bak/status/1423196838035927042', 'https://twitter.com/SlotaMysl/status/1423205209350811659', 'https://twitter.com/DominikKaroI/status/1423175123264233475', 'https://twitter.com/SadowskaSofia/status/1423094355800252418', 'https://twitter.com/MichauSum/status/1423201035166916608', 'https://twitter.com/Bartek93794875/status/1423024943747538953', 'https://twitter.com/mal_rem/status/1423204971986759682', 'https://twitter.com/PiotrPGR/status/1423168121746112517', 'https://twitter.com/CapitalistaPl/status/1423202764700672002', 'https://twitter.com/Blanch92Nucsha/status/1423192436424196098', 'https://twitter.com/r_groniak/status/1423197272259665921', 'https://twitter.com/RedneckRP/status/1423053857597296646', 'https://twitter.com/ssr57/status/1423187919813152771', 'https://twitter.com/TomaszKupisz/status/1423173563020894209', 'https://twitter.com/Ania31277401/status/1423025243522748422', 'https://twitter.com/Nitrov01/status/1423018629742960642', 'https://twitter.com/MagdaCDN2/status/1423018331456552972', 'https://twitter.com/Joe25124733/status/1423069279096909831', 'https://twitter.com/AdamKania1979/status/1423044993879531521', 'https://twitter.com/szlachciura2/status/1423146205434023936', 'https://twitter.com/Bill___Kilgore/status/1423201752233529345', 'https://twitter.com/SzczesliwaK/status/1423169496253095939', 'https://twitter.com/Dorota94877353/status/1423105220134023171', 'https://twitter.com/KRESYPL/status/1423028038783193094', 'https://twitter.com/Marian62448936/status/1423204346691563523', 'https://twitter.com/___wj___/status/1423197444964331521', 'https://twitter.com/Barbada21/status/1423187942172995586', 'https://twitter.com/Zenon92885454/status/1423205279966056452', 'https://twitter.com/Illderan/status/1423064432519827458', 'https://twitter.com/Anniken80483347/status/1423169207353683969', 'https://twitter.com/Blablab78594180/status/1423178354098855937', 'https://twitter.com/Jakub05794022/status/1423150870003437570', 'https://twitter.com/Duzymes/status/1423025836320608265', 'https://twitter.com/mefistofelleess/status/1423197850981343232', 'https://twitter.com/arielek31/status/1423202669779423232', 'https://twitter.com/Mateusz_Ozog/status/1423175445026050048', 'https://twitter.com/SebPelech/status/1423204351728836610', 'https://twitter.com/PoradaJanusz/status/1423204282090807296', 'https://twitter.com/fafarafa2020/status/1423148977323757568', 'https://twitter.com/TrawaCytrynowa/status/1423060987024969729', 'https://twitter.com/JkmMikke/status/1423042870223769606', 'https://twitter.com/Fishing_Fever69/status/1423199916420182016', 'https://twitter.com/incepcja_/status/1423106819602456581', 'https://twitter.com/_costerin/status/1423095952013942785', 'https://twitter.com/Erato001/status/1423176913896591362', 'https://twitter.com/basarab_m/status/1423196714689777664', 'https://twitter.com/billl_the/status/1423055231097708545', 'https://twitter.com/g_woda/status/1423200410123350017', 'https://twitter.com/kpawel81/status/1423196911553679361', 'https://twitter.com/AndrzejBaginski/status/1423068617969750016', 'https://twitter.com/krzysztofsienk3/status/1423197869700440064', 'https://twitter.com/MichauSum/status/1423200994230513665', 'https://twitter.com/Biay83318359/status/1423197424911372289', 'https://twitter.com/TajemniczyDon/status/1423085809335291904', 'https://twitter.com/Bogda62712791/status/1423024358499434499', 'https://twitter.com/Ziuta64374652/status/1423087369360715779', 'https://twitter.com/FreedomSnake1/status/1423205758192308227', 'https://twitter.com/Damian15456916/status/1423205324618706945', 'https://twitter.com/21schilling/status/1423197421941690373', 'https://twitter.com/kSliwowiecki/status/1423017175061876738', 'https://twitter.com/TOMASZBURZYNSKI/status/1423196284454936577', 'https://twitter.com/davoff994_d/status/1423198433599447047', 'https://twitter.com/CapitalistaPl/status/1423043722774732809', 'https://twitter.com/mefistofelleess/status/1423196721635528706', 'https://twitter.com/hubal63/status/1423028526727507970', 'https://twitter.com/FreedomSnake1/status/1423049426524938244', 'https://twitter.com/UwolnicMiernika/status/1423202754047221768', 'https://twitter.com/AdamMolde/status/1423179738915512324', 'https://twitter.com/Wincent19589186/status/1423204906693955585', 'https://twitter.com/forsalpl/status/1423136700771889154', 'https://twitter.com/michonXX/status/1423044447059779584', 'https://twitter.com/Ziuta64374652/status/1423084741746728963', 'https://twitter.com/perzaty/status/1423203677100195843', 'https://twitter.com/TomaszLachowsk1/status/1423017818275164162', 'https://twitter.com/tomaszewskim/status/1423173981880950785', 'https://twitter.com/AndrzejGF/status/1423142257704771589', 'https://twitter.com/szlachciura2/status/1423145974126551040', 'https://twitter.com/lecterro/status/1423199057292431360', 'https://twitter.com/krone333/status/1423002775001223172', 'https://twitter.com/StanislawIskra/status/1422943192115294213', 'https://twitter.com/Zalewski53/status/1422931292782530566', 'https://twitter.com/SkrzyniarzIrena/status/1422923564576018437', 'https://twitter.com/rammstejn4konto/status/1422925535886331906', 'https://twitter.com/InesAgnieszka/status/1422949277186338819', 'https://twitter.com/Maciek_FMJ88/status/1422923812870500357', 'https://twitter.com/alexmfrost/status/1422935204155506692', 'https://twitter.com/rodryg26a/status/1422923921125412865', 'https://twitter.com/Lewicy12/status/1422974675957731329', 'https://twitter.com/majowski1959/status/1422941431912673283', 'https://twitter.com/romulusata/status/1422922560694538243', 'https://twitter.com/roman62910146/status/1422914199475400706', 'https://twitter.com/AlicjaSiewiersk/status/1422993656533946370', 'https://twitter.com/basia_tuge/status/1422922833643163648', 'https://twitter.com/KMaminski/status/1422917464040558592', 'https://twitter.com/manakoniec/status/1422986087199346690', 'https://twitter.com/Falk0n66/status/1422981568121999363', 'https://twitter.com/JaremaWi/status/1422913165940170759', 'https://twitter.com/EwaBasiunia/status/1422934388623486983', 'https://twitter.com/THMA91/status/1422938682940698626', 'https://twitter.com/MarcinWilary/status/1422983018403307520', 'https://twitter.com/KatarzynaSokoo4/status/1422935326562177031', 'https://twitter.com/Bill___Kilgore/status/1422929212017610758', 'https://twitter.com/Wu_eM/status/1422964642511532033', 'https://twitter.com/Jacek_Tarnowski/status/1422937971909701632', 'https://twitter.com/Konstancjaukow2/status/1423001786584080387', 'https://twitter.com/tadekbiel/status/1422943539319672833', 'https://twitter.com/Swazbi/status/1422916452672225283', 'https://twitter.com/Bendezar_Drwn/status/1422976203741450244', 'https://twitter.com/ArturKacprzyk/status/1422930460200554503', 'https://twitter.com/JohnMadbot/status/1422934646975877124', 'https://twitter.com/maurerius/status/1422993266820231174', 'https://twitter.com/jan_xkowalski/status/1422986930837467141', 'https://twitter.com/Gregor_Kob/status/1422926246434979850', 'https://twitter.com/Net2Ayurveda/status/1422921603759976451', 'https://twitter.com/FuriosoVecchio/status/1422912088188538891', 'https://twitter.com/Wojciechomnicki/status/1422992622608601100', 'https://twitter.com/WedrowkiPyzy/status/1422992760383197192', 'https://twitter.com/Wassim96022466/status/1422911621844848644', 'https://twitter.com/Aga_W750/status/1422981200319295489', 'https://twitter.com/west_wiki/status/1422926463100129285', 'https://twitter.com/WolfElk77/status/1422973487300415488', 'https://twitter.com/Energetyka_24/status/1422919561029029893', 'https://twitter.com/CzasZmiany/status/1422993020845232130', 'https://twitter.com/PBeatap/status/1422945634160726027', 'https://twitter.com/DonKrainy/status/1422950929373048837', 'https://twitter.com/WorldNewsEO/status/1422944270986657792', 'https://twitter.com/JuliaGlowin/status/1422944326196375557', 'https://twitter.com/SALVATION33/status/1423011603063132165', 'https://twitter.com/fem_global/status/1422930713523990531', 'https://twitter.com/freshmarket2014/status/1422932556270510080', 'https://twitter.com/THMA91/status/1422943630902366210', 'https://twitter.com/dariuszbal/status/1422920119500554242', 'https://twitter.com/bak_wanda/status/1422916725096554499', 'https://twitter.com/_aniolpachole/status/1422970595025768448', 'https://twitter.com/dobieslav/status/1422929513818824704', 'https://twitter.com/PolakzPyrlandi2/status/1423008758813298693', 'https://twitter.com/OsaMorska/status/1423009323861561351', 'https://twitter.com/semperkresy/status/1422988755229683712', 'https://twitter.com/BacaPogorzelska/status/1422911460414480391', 'https://twitter.com/k23456345/status/1422980842901618688', 'https://twitter.com/Jestemkrzys/status/1422994267912515590', 'https://twitter.com/jarekzol/status/1422916011175596041', 'https://twitter.com/Oltom154/status/1422938110246236166', 'https://twitter.com/adinfo24/status/1422990739345117191', 'https://twitter.com/MarekWitol/status/1422994585677144067', 'https://twitter.com/MaciejZaniewicz/status/1422920819223769090', 'https://twitter.com/Defence24pl/status/1422980654631997443', 'https://twitter.com/urwis1977/status/1422975285994078218', 'https://twitter.com/AndrzejNowak/status/1422931928357945354', 'https://twitter.com/Andrzej28275539/status/1422910919332483078', 'https://twitter.com/waldemarb521/status/1422954876666064901', 'https://twitter.com/FMargaryna/status/1422925541137604617', 'https://twitter.com/BogeyPol/status/1422985385509105667', 'https://twitter.com/redpeter7604/status/1422925016195223558', 'https://twitter.com/tadeusz38725389/status/1422962366925479937', 'https://twitter.com/SirRincewind/status/1422968040296226819', 'https://twitter.com/kryztiandk/status/1422959780801433602', 'https://twitter.com/mohair_zone/status/1422940231146352643', 'https://twitter.com/MonitorWolynski/status/1422922152379092996', 'https://twitter.com/janekzzzz/status/1422932006938288130', 'https://twitter.com/jakub_wedrowycz/status/1422963987826855943', 'https://twitter.com/foralloo/status/1422912175589494792', 'https://twitter.com/ZaZdzislaw/status/1422974434709803012', 'https://twitter.com/ninjaacces/status/1422915268305637379', 'https://twitter.com/r_groniak/status/1423001445767524359', 'https://twitter.com/HugonDark/status/1422999298095124485', 'https://twitter.com/zielonalinia/status/1422917197979082759', 'https://twitter.com/ssr57/status/1422874775312076801', 'https://twitter.com/KsiadzRobak_/status/1422874648732217346', 'https://twitter.com/LukiBalboa1/status/1422827278023671809', 'https://twitter.com/Testudo_ds/status/1422898475683942406', 'https://twitter.com/MieczyslawRyba/status/1422862408637366276', 'https://twitter.com/Pawel_Badzio/status/1422870485386334209', 'https://twitter.com/2maciek/status/1422895698656247813', 'https://twitter.com/dszeligowski/status/1422909489175580675', 'https://twitter.com/nawschodzie/status/1422884028760444931', 'https://twitter.com/RadioMaryja/status/1422870078941503489', 'https://twitter.com/JadwigaSokolow1/status/1422858875183771650', 'https://twitter.com/amnestyPL/status/1422900476656472067', 'https://twitter.com/AndrzejLasu/status/1422853600468996099', 'https://twitter.com/EdiAlekto/status/1422909717282701321', 'https://twitter.com/21schilling/status/1422906162232573955', 'https://twitter.com/swentol/status/1422874776150974464', 'https://twitter.com/ForfiterP/status/1422902599926394881', 'https://twitter.com/BrandsIT_pl/status/1422896605309677571', 'https://twitter.com/zygzak357/status/1422904411538419712', 'https://twitter.com/Joannagrka61/status/1422907441331806209', 'https://twitter.com/KomentujeK/status/1422907730541662208', 'https://twitter.com/Agnieszka1957/status/1422905766952980482', 'https://twitter.com/Polak_I_Maly/status/1422883754419294214', 'https://twitter.com/pepe_xy/status/1422825656639971328', 'https://twitter.com/Tygodnik_Sieci/status/1422890059322191872', 'https://twitter.com/JadwigaSokolow1/status/1422876080768233473', 'https://twitter.com/michalmaciej_/status/1422894598825914371', 'https://twitter.com/wiktor_jakis_ta/status/1422900540518846475', 'https://twitter.com/semperkresy/status/1422905452103352320', 'https://twitter.com/robert_konserwa/status/1422894119710609424', 'https://twitter.com/wiktor_jakis_ta/status/1422902858811416581', 'https://twitter.com/STANIACH21/status/1422889897958985731', 'https://twitter.com/szybszy/status/1422906301777158147', 'https://twitter.com/ArturoZiel0903/status/1422871214092083205', 'https://twitter.com/HenrykOnski/status/1422868642472005635', 'https://twitter.com/OskWars/status/1422842236572667904', 'https://twitter.com/GazetaRoland/status/1422844769131241475', 'https://twitter.com/Maciej46703755/status/1422876155431067649', 'https://twitter.com/SzczesniakA/status/1422871398155014146', 'https://twitter.com/DanutaOwiecka/status/1422904197880635393', 'https://twitter.com/BrandsIT_pl/status/1422889041511518208', 'https://twitter.com/Arminiusz/status/1422824866894557189', 'https://twitter.com/Defence24pl/status/1422905185144381446', 'https://twitter.com/henkur60/status/1422861575740928002', 'https://twitter.com/ELKApw/status/1422878290575040513', 'https://twitter.com/UkrinformP/status/1422881231113494531', 'https://twitter.com/Lesio48417834/status/1422873776946089985', 'https://twitter.com/oliwer_c/status/1422903307484475395', 'https://twitter.com/bweglarczyk/status/1422861123800473601', 'https://twitter.com/tvp_info/status/1422843566888472576', 'https://twitter.com/m_pasierb/status/1422862230685618177', 'https://twitter.com/wiktor_jakis_ta/status/1422908850982768641', 'https://twitter.com/sbalcerac/status/1422902259902558214', 'https://twitter.com/KRESYPL/status/1422870032133021696', 'https://twitter.com/m_pasierb/status/1422862600065458184', 'https://twitter.com/pawelw86/status/1422849050123063298', 'https://twitter.com/Dominik368/status/1422846271535079426', 'https://twitter.com/M_Piechowska/status/1422890446355935248', 'https://twitter.com/Mikolaj_MikOS/status/1422892734688464898', 'https://twitter.com/XB11139637/status/1422894758935113731', 'https://twitter.com/DziennikPL/status/1422836088683393027', 'https://twitter.com/BellanaTorres/status/1422831376542441473', 'https://twitter.com/Kicius_The_Cat/status/1422894105898717190', 'https://twitter.com/OnetWiadomosci/status/1422834833730916352', 'https://twitter.com/Int_Wydarzenia/status/1422848860544720900', 'https://twitter.com/PolsatNewsPL/status/1422839866774130689', 'https://twitter.com/ViolaNewYork/status/1422907337845747716', 'https://twitter.com/PanKajetan/status/1422906359763308544', 'https://twitter.com/NiezOmna/status/1422908571440791562', 'https://twitter.com/Anakreontyk/status/1422876153023508485', 'https://twitter.com/PolskieSluzby/status/1422884047190114306', 'https://twitter.com/xzuranna/status/1422822598061314049', 'https://twitter.com/glinkus9/status/1422908659286396931', 'https://twitter.com/uszinek/status/1422905031699976194', 'https://twitter.com/alicjasuwalska1/status/1422861918155513859', 'https://twitter.com/Agnieszka6905/status/1422910825237401608', 'https://twitter.com/Joannagrka61/status/1422847367963947016', 'https://twitter.com/m_pasierb/status/1422832573684846592', 'https://twitter.com/M_Piechowska/status/1422889974639300610', 'https://twitter.com/Odin10282752/status/1422825451433697285', 'https://twitter.com/nieelektro/status/1422906067441364994', 'https://twitter.com/wirtualnapolska/status/1422839132166950916', 'https://twitter.com/KKazmierczakK/status/1422873698097369090', 'https://twitter.com/PalkaAndrzej/status/1422903094791352322', 'https://twitter.com/Dekra1975/status/1422889495154896907', 'https://twitter.com/jamrozpiotr1/status/1422868946282233857', 'https://twitter.com/Mandaryn62/status/1422822733906423808', 'https://twitter.com/gryfny/status/1422882719411879937', 'https://twitter.com/forsalpl/status/1422846282805112835', 'https://twitter.com/SpanialyChlopak/status/1422891221266096130', 'https://twitter.com/hokejnet/status/1422908290229473280', 'https://twitter.com/lpietrzczyk/status/1422678531583225856', 'https://twitter.com/Paul_Burgin/status/1422811622112993280', 'https://twitter.com/paw3lo/status/1422674216051224576', 'https://twitter.com/CharioTweets/status/1422684142437818375', 'https://twitter.com/RaportBialorus/status/1422618783403892739', 'https://twitter.com/exkostkarubikka/status/1422804251173179392', 'https://twitter.com/Jacek21911814/status/1422819345592369153', 'https://twitter.com/bweglarczyk/status/1422677050993823746', 'https://twitter.com/K_Gasior89/status/1422644284747096070', 'https://twitter.com/MaciejSad/status/1422578695831707651', 'https://twitter.com/K_Gasior89/status/1422644287964123143', 'https://twitter.com/AndrzejLasu/status/1422805544050511875', 'https://twitter.com/janudakrim/status/1422657345520287747', 'https://twitter.com/AndrzejSzary4/status/1422679146652737547', 'https://twitter.com/Anik_Wa85/status/1422599230955442189', 'https://twitter.com/neomarshal/status/1422703144933498880', 'https://twitter.com/KulejKarol/status/1422656965210222599', 'https://twitter.com/szybszy/status/1422616284622114823', 'https://twitter.com/ChAnnan137/status/1422634456914042880', 'https://twitter.com/ChmieluDota/status/1422657229833089025', 'https://twitter.com/adamptak6/status/1422807601872613380', 'https://twitter.com/InfoSecurity_24/status/1422625815695482881', 'https://twitter.com/kaminskiny/status/1422638238263558147', 'https://twitter.com/KacapMSK/status/1422586137365946368', 'https://twitter.com/SzPKrzysztof/status/1422813552398700546', 'https://twitter.com/PogodaEurop/status/1422581661837975554', 'https://twitter.com/KcFushiguro/status/1422674408020316160', 'https://twitter.com/adinfo24/status/1422658828831703051', 'https://twitter.com/JuliaWesoowska3/status/1422716266536652807', 'https://twitter.com/cyfrowaekonomia/status/1422636336046039045', 'https://twitter.com/culturovo/status/1422677156262469634', 'https://twitter.com/Zbignie00369606/status/1422809817446486022', 'https://twitter.com/EKaminski84/status/1422626467062718466', 'https://twitter.com/EmiliaKaminska/status/1422803832640360448', 'https://twitter.com/jrw_0/status/1422652308907823108', 'https://twitter.com/wjakobik/status/1422618519280263175', 'https://twitter.com/Kecaj120/status/1422647470086148098', 'https://twitter.com/IsakowiczZalesk/status/1422633094914486274', 'https://twitter.com/MatJanota/status/1422682165217832972', 'https://twitter.com/MarianDudo/status/1422619303396925442', 'https://twitter.com/RafalKrawczyk/status/1422603361409507337', 'https://twitter.com/kaczalnik/status/1422677261107482627', 'https://twitter.com/KrzysztofOmny/status/1422800715156709376', 'https://twitter.com/AndrzejzSanoka/status/1422590631109664768', 'https://twitter.com/neomarshal/status/1422703518243303424', 'https://twitter.com/AndrzejRosinski/status/1422597098424385537', 'https://twitter.com/tadreq/status/1422622685536952324', 'https://twitter.com/Mr___AJB/status/1422805197974347778', 'https://twitter.com/teresa_goz/status/1422782804866310146', 'https://twitter.com/megustaPW/status/1422677709457698819', 'https://twitter.com/ferrycy/status/1422587035727056903', 'https://twitter.com/Malgosiazych/status/1422773455032889348', 'https://twitter.com/emulatorsiersci/status/1422596204140056583', 'https://twitter.com/KRESYPL/status/1422652917346078725', 'https://twitter.com/UrszulMDPolska1/status/1422579175265906691', 'https://twitter.com/camruz99/status/1422660566771015684', 'https://twitter.com/JSetlis/status/1422663834985246720', 'https://twitter.com/BrandsIT_pl/status/1422639843364978690', 'https://twitter.com/ArturJerzy/status/1422623333561032708', 'https://twitter.com/EKaminski84/status/1422631323844349957', 'https://twitter.com/ValdiB78/status/1422677932699435008', 'https://twitter.com/SejmNiemy/status/1422691352853336067', 'https://twitter.com/DemencjuszX/status/1422583339475681286', 'https://twitter.com/RafalTeresin/status/1422589232233820169', 'https://twitter.com/Non_sequuntur/status/1422720146712498177', 'https://twitter.com/primoszprawy/status/1422608811760791559', 'https://twitter.com/OGospodarczy/status/1422629790943780865', 'https://twitter.com/rafwroc/status/1422762819641094146', 'https://twitter.com/EwaSkret/status/1422573541355139076', 'https://twitter.com/lukaszdab/status/1422660117124849669', 'https://twitter.com/kaminskiny/status/1422637901825941512', 'https://twitter.com/pigmalion55/status/1422677648732475401', 'https://twitter.com/RadioZET_NEWS/status/1422656136990310400', 'https://twitter.com/EndekDmoszczak/status/1422635953022291968', 'https://twitter.com/billl_the/status/1422671823444090885', 'https://twitter.com/Tomz877/status/1422656879658999809', 'https://twitter.com/NDziurdzinska/status/1422642593029050385', 'https://twitter.com/Jeregski/status/1422677824641634316', 'https://twitter.com/Nabuchodonozoor/status/1422680213608095746', 'https://twitter.com/joannakluzik/status/1422677290933264393', 'https://twitter.com/Magorza04071259/status/1422660297513447431', 'https://twitter.com/rudocvetkov/status/1422574773968715784', 'https://twitter.com/adinfo24/status/1422814592594583553', 'https://twitter.com/KacapMSK/status/1422587436849377293', 'https://twitter.com/StanleyPanama/status/1422806323008262147', 'https://twitter.com/TomaszMalkus/status/1422587405786288140', 'https://twitter.com/monky_macias/status/1422589291952234500', 'https://twitter.com/logicblogic/status/1422636175504912387', 'https://twitter.com/ipolska24/status/1422572524248969218', 'https://twitter.com/PR24_pl/status/1422552875348152323', 'https://twitter.com/olasempruch/status/1422536658621247488', 'https://twitter.com/stremidlowski/status/1422503684718596147', 'https://twitter.com/bweglarczyk/status/1422514647215837184', 'https://twitter.com/666Rafalelo/status/1422530907689426946', 'https://twitter.com/Szymon_K_Nowak/status/1422499536342224919', 'https://twitter.com/tisufcku/status/1422495112819511299', 'https://twitter.com/Robert87973310/status/1422500616341950492', 'https://twitter.com/KRESYPL/status/1422486765882023936', 'https://twitter.com/cassimors/status/1422513326236573711', 'https://twitter.com/vonScheffczyk/status/1422553458524270593', 'https://twitter.com/OnetWiadomosci/status/1422571228431220737', 'https://twitter.com/Dorota171716/status/1422483333125115918', 'https://twitter.com/polukrnet/status/1422564044863594496', 'https://twitter.com/BartoszFlorek_/status/1422546479210803204', 'https://twitter.com/Horus543/status/1422500674055573512', 'https://twitter.com/Oneofth1/status/1422488588885823524', 'https://twitter.com/msz2134/status/1422545489464016911', 'https://twitter.com/InstytutBiRM/status/1422490980071219200', 'https://twitter.com/etuk_ev76/status/1422548877295734797', 'https://twitter.com/Kamil13358120/status/1422531092628840459', 'https://twitter.com/JMadrjas/status/1422524121276162050', 'https://twitter.com/portal_ipl/status/1422503987077582854', 'https://twitter.com/OnetWiadomosci/status/1422483144024813569', 'https://twitter.com/trudneg/status/1422564998941921287', 'https://twitter.com/nawschodzie/status/1422491191807983618', 'https://twitter.com/Dzwiazkowy/status/1422560591349264385', 'https://twitter.com/RyszardMusial/status/1422553467151962115', 'https://twitter.com/MarioLus16/status/1422563282133700608', 'https://twitter.com/artix1969/status/1422532802814304263', 'https://twitter.com/CyberDefence24/status/1422550206479048715', 'https://twitter.com/InstytutG/status/1422490047203450880', 'https://twitter.com/KarolinaZby/status/1422563884595040266', 'https://twitter.com/MateuszMarzoch/status/1422502495520165910', 'https://twitter.com/OpiecSmutnych/status/1422515693770137604', 'https://twitter.com/jaksliwkawkompo/status/1422520814444945450', 'https://twitter.com/adinfo24/status/1422492457456054272', 'https://twitter.com/ProPol2020/status/1422506297027670016', 'https://twitter.com/tvn24/status/1422544087836672020', 'https://twitter.com/UKRinPL/status/1422529940575166497', 'https://twitter.com/trudneg/status/1422508747952431115', 'https://twitter.com/ProPol2020/status/1422516489442271235', 'https://twitter.com/GospoDyplomacja/status/1422504414468771884', 'https://twitter.com/Banasiak1/status/1422499565341642765', 'https://twitter.com/RobertWinnicki/status/1422513137568321537', 'https://twitter.com/Daniel_Czy/status/1422482499851231232', 'https://twitter.com/Wiktor99842152/status/1422486822031142912', 'https://twitter.com/MinstrelTheSane/status/1422514618044407810', 'https://twitter.com/nieelektro/status/1422523832104067090', 'https://twitter.com/atena0203/status/1422528254175551495', 'https://twitter.com/EwelinaGd/status/1422544915616124929', 'https://twitter.com/MS_Bellator/status/1422513135991275524', 'https://twitter.com/Blablab78594180/status/1422546955868250116', 'https://twitter.com/Edytazemla/status/1422499963473367062', 'https://twitter.com/TrillingDana/status/1422529061902028800', 'https://twitter.com/_kosmonauta_/status/1422509906897342464', 'https://twitter.com/MMoczar/status/1422538324921696257', 'https://twitter.com/ObiektywnyObse2/status/1422549748511346692', 'https://twitter.com/manakoniec/status/1422527830576013316', 'https://twitter.com/Grzesiek2475/status/1422549112671584257', 'https://twitter.com/Lester_pl/status/1422509092082442241', 'https://twitter.com/xgriszkax/status/1422549098406850563', 'https://twitter.com/InfoSecurity_24/status/1422497662021013512', 'https://twitter.com/_xTTTx_/status/1422569934870220806', 'https://twitter.com/przebitkowski/status/1422514160789860352', 'https://twitter.com/BurasMarula/status/1422522108337397760', 'https://twitter.com/Krzyszt30177975/status/1422510732911026181', 'https://twitter.com/_Tomathyy_/status/1422488225491390464', 'https://twitter.com/RynekKolejowy/status/1422483125880381440', 'https://twitter.com/corpomeow/status/1422549469917323269', 'https://twitter.com/AndrzejSzary4/status/1422518942405431299', 'https://twitter.com/Wiktor47030158/status/1422561640411709444', 'https://twitter.com/EurActivPoland/status/1422484820022767617', 'https://twitter.com/MeklerRafal/status/1422514612470263808', 'https://twitter.com/Mati__Rx/status/1422489495832772608', 'https://twitter.com/MariuszNocek/status/1422513659910230018', 'https://twitter.com/Kicius_The_Cat/status/1422530877637136384', 'https://twitter.com/X8zWEJt0ryATIW3/status/1422566986782060545', 'https://twitter.com/OlehKuts/status/1422530703540035586', 'https://twitter.com/NikFil12/status/1422514803478781955', 'https://twitter.com/Joanna73581117/status/1422519163776536577', 'https://twitter.com/Wanda55007086/status/1422505177613996048', 'https://twitter.com/Paul_Burgin/status/1422483054745079809', 'https://twitter.com/Mirosaw58/status/1422490767172452352', 'https://twitter.com/KarolCasper/status/1422486897876688898', 'https://twitter.com/Defence24pl/status/1422497700671524876', 'https://twitter.com/DaimSolon/status/1422524781786710017', 'https://twitter.com/ireneuszsoja1/status/1422491094839857156', 'https://twitter.com/piotr8193/status/1422528056770584576', 'https://twitter.com/Facecjonista/status/1422516437135110146', 'https://twitter.com/Wiktor99842152/status/1422485397284720641', 'https://twitter.com/wgospodarce/status/1422556687689568268', 'https://twitter.com/maria_pellowska/status/1422460750275153921', 'https://twitter.com/grzegorz_wa/status/1422471592425238537', 'https://twitter.com/SzczesniakA/status/1422456449746284552', 'https://twitter.com/EKryptowalut/status/1422454133362204674', 'https://twitter.com/Bartek93794875/status/1422472240847859761', 'https://twitter.com/aktoto/status/1422458281436590111', 'https://twitter.com/wjakobik/status/1422451754403303425', 'https://twitter.com/KKazmierczakK/status/1422473696749498380', 'https://twitter.com/AdrianGalach/status/1422472171226607663', 'https://twitter.com/Sarmatian12/status/1422478485684170789', 'https://twitter.com/mario76wawpl/status/1422466742161453072', 'https://twitter.com/JacekJtb/status/1422477663466369038', 'https://twitter.com/MarekMenkiszak/status/1422465986041688079', 'https://twitter.com/A_Traczyk/status/1422479758357639187', 'https://twitter.com/AndrzejWitczak1/status/1422474712354074659', 'https://twitter.com/mic_marek/status/1422451177506148353', 'https://twitter.com/ProPol2020/status/1422468757541298176', 'https://twitter.com/therealmichaal/status/1422481917623033856', 'https://twitter.com/Banasiak1/status/1422460449229049856', 'https://twitter.com/CWschodni/status/1422453430111506434', 'https://twitter.com/77Fidelio/status/1422473551844683803', 'https://twitter.com/hansstoss/status/1422461909366943770', 'https://twitter.com/pavluchenkos/status/1422453011570438155', 'https://twitter.com/Nario73438693/status/1422459348106817539', 'https://twitter.com/bs28320182/status/1422459843705778193', 'https://twitter.com/CasualsAG/status/1422460213001662512', 'https://twitter.com/_DamiPZ/status/1422465954416635915', 'https://twitter.com/Rafaus6/status/1422454268230049792', 'https://twitter.com/lukasz199090/status/1422452640198406145', 'https://twitter.com/Bartek93794875/status/1422472211072495635', 'https://twitter.com/bogdanadamkowsk/status/1422481137402892292', 'https://twitter.com/szpilkawoko1983/status/1422467209293672469', 'https://twitter.com/Zborowska/status/1422467739923460113', 'https://twitter.com/Biay83318359/status/1422473344956444705', 'https://twitter.com/Agniesz88103754/status/1422452589174693890', 'https://twitter.com/74Hho0g1snXbeYQ/status/1422470869826351122', 'https://twitter.com/SL__ukasz1981/status/1422451348524740610', 'https://twitter.com/OnetWiadomosci/status/1422452699782553600', 'https://twitter.com/Jakub05794022/status/1422454645465755670', 'https://twitter.com/21schilling/status/1422473206942871568', 'https://twitter.com/piotr_sikora_v/status/1422469904880578587', 'https://twitter.com/smoterpiotr/status/1422471396379275284', 'https://twitter.com/Tomi33433587/status/1422463952785715221', 'https://twitter.com/AlenaPosh1/status/1422451418787688464', 'https://twitter.com/nieelektro/status/1422471470362603551', 'https://twitter.com/ikropka/status/1422472407256870951', 'https://twitter.com/Bielsat_pl/status/1422463141166919685', 'https://twitter.com/robak_ma/status/1422466323959984153', 'https://twitter.com/PrincipalSkinn8/status/1422466824097181706', 'https://twitter.com/f1observer1/status/1422453501519663106', 'https://twitter.com/SekstusDecymus/status/1422453140922773514', 'https://twitter.com/Kot_Behemot_NSA/status/1422465754771886081', 'https://twitter.com/pyra_1922/status/1422452376162742272', 'https://twitter.com/UwolnicMiernika/status/1422481333893337103', 'https://twitter.com/zyczen_7/status/1422474520733102115', 'https://twitter.com/DoRzeczy_pl/status/1422465975966969942', 'https://twitter.com/ssr57/status/1422481087297736707', 'https://twitter.com/GasTSOua/status/1422475184318132250', 'https://twitter.com/in_my_judgement/status/1422450960740278273', 'https://twitter.com/czerwcowy/status/1422455149604319232', 'https://twitter.com/CzarnySebastian/status/1422473972998942729', 'https://twitter.com/Wyrwal/status/1422461896662339585', 'https://twitter.com/zyczen_7/status/1422461172025077767', 'https://twitter.com/EKlusek/status/1422477374206193698', 'https://twitter.com/DziennikPL/status/1422450800270270469', 'https://twitter.com/FMargaryna/status/1422481415522881540', 'https://twitter.com/BrandsIT_pl/status/1422451102553972737', 'https://twitter.com/mojo886/status/1422462389711249408', 'https://twitter.com/PaweGrzegorczy1/status/1422467398913962007', 'https://twitter.com/PjotreK_K/status/1422468313591001104', 'https://twitter.com/stach56_aw/status/1422466245937582080', 'https://twitter.com/JaremaWi/status/1422481183884054532', 'https://twitter.com/neomarshal/status/1422455352151396354', 'https://twitter.com/BrandsIT_pl/status/1422476388423118886', 'https://twitter.com/Wadysaw84759145/status/1422454264543260672', 'https://twitter.com/magdakodds/status/1422468463893884944', 'https://twitter.com/KacapMSK/status/1422472554481135628', 'https://twitter.com/rawskie/status/1422470861131558922', 'https://twitter.com/Euracy2/status/1422467850556616733', 'https://twitter.com/DanielDan83/status/1422479949001338905', 'https://twitter.com/swentol/status/1422462783292067841', 'https://twitter.com/GenderGosposia/status/1422452770230214657', 'https://twitter.com/doalasukiyo/status/1422464850492547072', 'https://twitter.com/Rafa640204893/status/1422471607617007647', 'https://twitter.com/ZaZdzislaw/status/1422458119385501696', 'https://twitter.com/zbignie39717795/status/1422463530654183440', 'https://twitter.com/WaitsTw/status/1422470332804444181', 'https://twitter.com/Leszek00672882/status/1422459599773446169', 'https://twitter.com/marzenaliliana/status/1422463071117881344', 'https://twitter.com/Maria55286820/status/1422477402391916577', 'https://twitter.com/Int_Wydarzenia/status/1422450141697560576', 'https://twitter.com/adamlubi/status/1422479335202697242', 'https://twitter.com/JanuszCichy/status/1422473040349311020', 'https://twitter.com/Barbara19275106/status/1422469150908297219', 'https://twitter.com/IzaSmazka/status/1422467732759588880', 'https://twitter.com/radio_szczecin/status/1422458086476992516', 'https://twitter.com/Bielsat_pl/status/1422240526976405510', 'https://twitter.com/TelukTomasz/status/1422222969628205059', 'https://twitter.com/annawcz2/status/1422143819152338946', 'https://twitter.com/a_posen/status/1422268963245985792', 'https://twitter.com/JDrewniany/status/1422201158278471686', 'https://twitter.com/RiwskiGeralt/status/1422134376423374850', 'https://twitter.com/Kazimie96940108/status/1422172670280577031', 'https://twitter.com/faktyoswiecie/status/1422445845816004608', 'https://twitter.com/ljlukaszewski/status/1422241687200489473', 'https://twitter.com/Pak0___0/status/1422407761317478400', 'https://twitter.com/Kazimie96940108/status/1422132782642368512', 'https://twitter.com/adamidmark/status/1422282406476849155', 'https://twitter.com/TerazSrodowisko/status/1422130487590629377', 'https://twitter.com/Maciej46703755/status/1422148788081266694', 'https://twitter.com/WagenaarMaurice/status/1422331666744414218', 'https://twitter.com/RadioZET_NEWS/status/1422222047002890251', 'https://twitter.com/ZKierowca/status/1422141809652813825', 'https://twitter.com/UkrinformP/status/1422134994433105923', 'https://twitter.com/RadcaW/status/1422436554333638670', 'https://twitter.com/KMetaKowalski/status/1422223389868036102', 'https://twitter.com/AndrzejzSanoka/status/1422134504093802499', 'https://twitter.com/GrazynkaLayla/status/1422247196309741577', 'https://twitter.com/Ania93607644/status/1422440621659279360', 'https://twitter.com/jarmarek_marek/status/1422225188985479168', 'https://twitter.com/Kryptowaluty_pl/status/1422213511241928707', 'https://twitter.com/BaosBasia/status/1422335143986016257', 'https://twitter.com/JMiziolek/status/1422445800710361089', 'https://twitter.com/KucharskiWitold/status/1422443090170818589', 'https://twitter.com/Bielsat_pl/status/1422152939087466497', 'https://twitter.com/MichaWalczak18/status/1422258424042119172', 'https://twitter.com/RadioZET_NEWS/status/1422446393856307242', 'https://twitter.com/AndrzejzSanoka/status/1422157370944376836', 'https://twitter.com/Paula01907774/status/1422209677530701824', 'https://twitter.com/Wujaszek_Billy/status/1422196951072874498', 'https://twitter.com/ParlamentarnyPL/status/1422214058535759873', 'https://twitter.com/Margare05304119/status/1422144091190702080', 'https://twitter.com/Kobza_Kaszub/status/1422137463573712900', 'https://twitter.com/Jarko_22/status/1422448302457491457', 'https://twitter.com/KRESYPL/status/1422274875742375942', 'https://twitter.com/JanuszCichy/status/1422446512366366746', 'https://twitter.com/SJABT34/status/1422140237099241474', 'https://twitter.com/GumowskaK/status/1422447336228335617', 'https://twitter.com/AustriackaPilka/status/1422159864885878791', 'https://twitter.com/Ewa1064/status/1422436011796221962', 'https://twitter.com/AgnKaminska/status/1422201784135786496', 'https://twitter.com/Tamerlan676/status/1422184680829423618', 'https://twitter.com/MaciejDomaski2/status/1422437104395636748', 'https://twitter.com/Blog_Bitmon/status/1422427888134017034', 'https://twitter.com/AntoniDebowy/status/1422217952246603780', 'https://twitter.com/lukasz_nd/status/1422304851229388806', 'https://twitter.com/JaroWart/status/1422435383028109318', 'https://twitter.com/George_Orwell__/status/1422292740138733568', 'https://twitter.com/adambartnicki1/status/1422283109450534917', 'https://twitter.com/misztal_m/status/1422445985628893187', 'https://twitter.com/DziennikPL/status/1422148054677741568', 'https://twitter.com/And_Szewczyk/status/1422221757516337155', 'https://twitter.com/ViolaNewYork/status/1422249284498567180', 'https://twitter.com/diana_jowita/status/1422446062502125574', 'https://twitter.com/marian_baczal/status/1422264537433190401', 'https://twitter.com/nawschodzie/status/1422200776223596552', 'https://twitter.com/aski_pu/status/1422219770527637504', 'https://twitter.com/Greg970517390/status/1422434161214771214', 'https://twitter.com/krzyszt98/status/1422221196867870721', 'https://twitter.com/2Xbobo/status/1422215211239546882', 'https://twitter.com/tw_witek/status/1422243942935011343', 'https://twitter.com/JDrewniany/status/1422200936555061249', 'https://twitter.com/TVN24BiS/status/1422445857727787008', 'https://twitter.com/JarentyDudzik/status/1422253188187570177', 'https://twitter.com/KWyszkowski/status/1422432932950593546', 'https://twitter.com/AndrzejzSanoka/status/1422156524743323648', 'https://twitter.com/Wojmac2/status/1422298845241921540', 'https://twitter.com/Przemek05930075/status/1422272047863017481', 'https://twitter.com/davvko/status/1422450091969888258', 'https://twitter.com/IvanSus14224235/status/1422134596041326593', 'https://twitter.com/vonHimbeere/status/1422447920666796032', 'https://twitter.com/WisniowieckiP/status/1422147117301354496', 'https://twitter.com/VKouprich/status/1422312695638921220', 'https://twitter.com/Waclaw1212/status/1422209669939048454', 'https://twitter.com/goffy1990/status/1422358151890866179', 'https://twitter.com/2225kuc/status/1422216275044995079', 'https://twitter.com/EurActivPoland/status/1422447038197870610', 'https://twitter.com/FaktyTVN/status/1422445834646478850', 'https://twitter.com/IronicznyH/status/1422426413190238222', 'https://twitter.com/IlczakMarek/status/1422446838054072333', 'https://twitter.com/profesor_Jan/status/1422412726769438722', 'https://twitter.com/tvn24/status/1422445616777547777', 'https://twitter.com/Bartek93794875/status/1421958252087189506', 'https://twitter.com/rafal016/status/1422120818159636481', 'https://twitter.com/Euromen1Tomasz/status/1421884543884308480', 'https://twitter.com/PalkaAndrzej/status/1421946372270567425', 'https://twitter.com/WisniowieckiP/status/1422104586127659008', 'https://twitter.com/PacynaAdrian/status/1422105623374745601', 'https://twitter.com/UwieraP/status/1421957694785789960', 'https://twitter.com/BrilovD96/status/1422110648629141504', 'https://twitter.com/WojtekBugala/status/1421891494089302019', 'https://twitter.com/MartinFelippo/status/1421921562635247616', 'https://twitter.com/SpecGhost/status/1421945579010236416', 'https://twitter.com/Bart1jeden/status/1422085479814635522', 'https://twitter.com/piotrpytasz/status/1421853711895257093', 'https://twitter.com/allrestaurants0/status/1422019822662131713', 'https://twitter.com/SBCPortal/status/1422106550315933697', 'https://twitter.com/MusiaAntoni/status/1422058416973963264', 'https://twitter.com/lamparto1/status/1422120936623546370', 'https://twitter.com/bartek2lp2/status/1422112741892968453', 'https://twitter.com/AndrzejNie1/status/1421949188947025923', 'https://twitter.com/SO_1906/status/1421914233181294592', 'https://twitter.com/RadioZET_NEWS/status/1422093365294866433', 'https://twitter.com/aga_kaminska/status/1421882444001775618', 'https://twitter.com/Tomasz220919900/status/1422078154676576257', 'https://twitter.com/wiarapl/status/1421842153521754118', 'https://twitter.com/Lubinkenneth_/status/1421927226082275331', 'https://twitter.com/bartek2lp2/status/1422114511268483073', 'https://twitter.com/Ahron34935862/status/1421858532543062016', 'https://twitter.com/SvartRavn89/status/1421902668071677958', 'https://twitter.com/BratProfCzelawy/status/1422089166259634176', 'https://twitter.com/hgru887/status/1421879266128666632', 'https://twitter.com/rafapiet/status/1421884538024779778', 'https://twitter.com/Rafi__X/status/1422079222319824897', 'https://twitter.com/VolleyTime1/status/1421899539603202061', 'https://twitter.com/ola25067272/status/1421872938769395712', 'https://twitter.com/2225kuc/status/1421936659852103681', 'https://twitter.com/goffy1990/status/1422120239651860488', 'https://twitter.com/Me__da__lata/status/1422113102250840064', 'https://twitter.com/gorczek/status/1421928383164960772', 'https://twitter.com/ProtestJan/status/1421943569129037828', 'https://twitter.com/MarekeN5/status/1421874589882327042', 'https://twitter.com/IsakowiczZalesk/status/1421909610760392704', 'https://twitter.com/T4T92523229/status/1421918057207894016', 'https://twitter.com/AdamMichalak11/status/1421974651530616838', 'https://twitter.com/PartiaKresowian/status/1421913118880325633', 'https://twitter.com/zyczen_7/status/1422086534572953601', 'https://twitter.com/OsowskiGrzegorz/status/1421915946374082566', 'https://twitter.com/RaportBialorus/status/1421882565900881922', 'https://twitter.com/DobreWiad/status/1421927024562638851', 'https://twitter.com/TeryAsic1/status/1421944602983084032', 'https://twitter.com/PiotrTomicki/status/1421912011013648385', 'https://twitter.com/kris4691/status/1422114456759414787', 'https://twitter.com/kmichalg/status/1421913101897711616', 'https://twitter.com/petirrrr_/status/1422018888267534336', 'https://twitter.com/DanMil14/status/1421936836629385219', 'https://twitter.com/JolJola358/status/1421913531532910600', 'https://twitter.com/PolitykaRealna/status/1422086008699441156', 'https://twitter.com/mirkobak/status/1421935169855008770', 'https://twitter.com/st33lr4t/status/1422054962381664257', 'https://twitter.com/zbignie39717795/status/1422089696251895809', 'https://twitter.com/CzerwonkaBart/status/1421889245824831500', 'https://twitter.com/RafalTeresin/status/1421985867837722634', 'https://twitter.com/Marcysia56789/status/1422084724630114305', 'https://twitter.com/manakoniec/status/1421934018015137794', 'https://twitter.com/marek_e_n/status/1421947032135163905', 'https://twitter.com/PawelHubal/status/1421917942879510528', 'https://twitter.com/rafapiet/status/1421883609632366596', 'https://twitter.com/Pak0___0/status/1422125167162036227', 'https://twitter.com/DenisonPaoro/status/1421988823613984769', 'https://twitter.com/AgnieszkaLada/status/1422110676345139203', 'https://twitter.com/BrownBartosz/status/1421882585731436544', 'https://twitter.com/Jantweeterowicz/status/1421864785038225409', 'https://twitter.com/jakubbandura1/status/1422129178216894466', 'https://twitter.com/stary_nick/status/1421851916070445057', 'https://twitter.com/BiznesAlert/status/1421858761455673344', 'https://twitter.com/wnorosiak/status/1422095099710824453', 'https://twitter.com/przeciwg/status/1422116242995957760', 'https://twitter.com/blacksodit/status/1422125265577299969', 'https://twitter.com/POPIS_Jedno_Zlo/status/1421886703611093002', 'https://twitter.com/CransacGeorges/status/1421906596280643589', 'https://twitter.com/SmolarMaciej/status/1421945210326724609', 'https://twitter.com/Remigiu16194093/status/1422067645004853251', 'https://twitter.com/budokuda/status/1421916250796593156', 'https://twitter.com/freemind_europe/status/1422082295767388160', 'https://twitter.com/Werny_Hora/status/1421916974695714816', 'https://twitter.com/tomasz_artemiak/status/1421488704036737025', 'https://twitter.com/pirocumulus/status/1421826146983989250', 'https://twitter.com/wSobnePatrzenie/status/1421791671252041728', 'https://twitter.com/rwatykanskie/status/1421833098853896206', 'https://twitter.com/FilipZielinski_/status/1421764714275737603', 'https://twitter.com/wjakobik/status/1421480017377234952', 'https://twitter.com/aliska541/status/1421580706073952260', 'https://twitter.com/fennshui/status/1421638394686459904', 'https://twitter.com/Jakub12092060/status/1421768004422049796', 'https://twitter.com/kogi_pl/status/1421581094558777350', 'https://twitter.com/semperkresy/status/1421580975839096837', 'https://twitter.com/AntoniDebowy/status/1421541840726151171', 'https://twitter.com/BeataGWinter/status/1421785306068623363', 'https://twitter.com/Horus543/status/1421754261306740741', 'https://twitter.com/pole_observer/status/1421610962927460356', 'https://twitter.com/kogi_pl/status/1421717723504070656', 'https://twitter.com/EWAWJCI47498219/status/1421600756944224258', 'https://twitter.com/ZielnikSportowy/status/1421768068770959360', 'https://twitter.com/pawel2673/status/1421745542992904192', 'https://twitter.com/Marcin_Ctb/status/1421741001438384136', 'https://twitter.com/igolpl/status/1421840334213062667', 'https://twitter.com/DorowskaDorota/status/1421819213145063424', 'https://twitter.com/George_Orwell__/status/1421561931790528513', 'https://twitter.com/George_Orwell__/status/1421583390621540362', 'https://twitter.com/kogi_pl/status/1421582762079838214', 'https://twitter.com/BurasMarula/status/1421578568291782658', 'https://twitter.com/SylwekB2/status/1421768964615593984', 'https://twitter.com/J_Janumir/status/1421774910200983555', 'https://twitter.com/Pawe10873831/status/1421542684485955589', 'https://twitter.com/angelslikeswift/status/1421506657562025985', 'https://twitter.com/jrw_0/status/1421586182748651534', 'https://twitter.com/anoyesfn/status/1421531912221478913', 'https://twitter.com/Ewa65781381/status/1421609666342174724', 'https://twitter.com/TitoniaT/status/1421509580975116296', 'https://twitter.com/Lutka321/status/1421835919682940937', 'https://twitter.com/WeszloCom/status/1421816038803574785', 'https://twitter.com/ksochanek/status/1421572766361325575', 'https://twitter.com/KATryksza/status/1421822109307875334', 'https://twitter.com/WalSzat/status/1421532875837542400', 'https://twitter.com/Przemek05930075/status/1421826974100635650', 'https://twitter.com/EurActivPoland/status/1421753791754473477', 'https://twitter.com/RafalKrawczyk/status/1421494267940417538', 'https://twitter.com/lacki222/status/1421491371580567554', 'https://twitter.com/Jzef13437877/status/1421819033876373507', 'https://twitter.com/GreatSzu/status/1421762031217168384', 'https://twitter.com/jakub_zaborski/status/1421586587750633479', 'https://twitter.com/NowakAleks1/status/1421783674312343552', 'https://twitter.com/LechNowacki/status/1421580583604531200', 'https://twitter.com/TechnologieWP/status/1421731330073767938', 'https://twitter.com/Pawel_Lewicki87/status/1421492132557336577', 'https://twitter.com/Horus543/status/1421797712689831937', 'https://twitter.com/Karol40000487/status/1421557339610652672', 'https://twitter.com/George_Orwell__/status/1421563664579145730', 'https://twitter.com/jarekp12/status/1421586528006983686', 'https://twitter.com/George_Orwell__/status/1421589709646700546', 'https://twitter.com/ttxyn1/status/1421593574995636225', 'https://twitter.com/kmksiezopolski/status/1421505033485668352', 'https://twitter.com/B_Olesinski/status/1421736568600109058', 'https://twitter.com/George_Orwell__/status/1421581900200689665', 'https://twitter.com/Zalewski53/status/1421488300360142849', 'https://twitter.com/pepe_xy/status/1421823068843003913', 'https://twitter.com/czuprynka71/status/1421483221527810048', 'https://twitter.com/PalukZPaluk/status/1421587461227139080', 'https://twitter.com/manakoniec/status/1421485303571914752', 'https://twitter.com/Longhost1/status/1421795539327258624', 'https://twitter.com/kogi_pl/status/1421584539072274432', 'https://twitter.com/Przemys96343965/status/1421544712469684235', 'https://twitter.com/KarolPrillwitz/status/1421819964634324999', 'https://twitter.com/NowakAleks1/status/1421783665353297921', 'https://twitter.com/RGembel/status/1421787424821293057', 'https://twitter.com/KATryksza/status/1421606236185825286', 'https://twitter.com/rocnat/status/1421592564663296003', 'https://twitter.com/LukaszJasina/status/1421784515534536705', 'https://twitter.com/Miron644/status/1421576507852525579', 'https://twitter.com/Przemys96343965/status/1421542476033236994', 'https://twitter.com/bartek2lp2/status/1421777955383136266', 'https://twitter.com/Grossmann_SE/status/1421734542583414784', 'https://twitter.com/2Xbobo/status/1421492186856710144', 'https://twitter.com/AdrianGalach/status/1421513269785862145', 'https://twitter.com/sVzems/status/1421724717334020097', 'https://twitter.com/WalSzat/status/1421533136723353604', 'https://twitter.com/Krzysztof_8888/status/1421580941294776322', 'https://twitter.com/peyskop05/status/1421528551745105920', 'https://twitter.com/ga_piotr/status/1421829246499135489', 'https://twitter.com/ChwaZapomnia/status/1421825734658625536', 'https://twitter.com/SebaVTR/status/1421423688994459651', 'https://twitter.com/mariaprzeomiec/status/1421367466312323074', 'https://twitter.com/JadowitaMeduza/status/1421360778163142662', 'https://twitter.com/pyrka_k/status/1421250175448895489', 'https://twitter.com/Barti95843049/status/1421357083560136707', 'https://twitter.com/EwaMac1/status/1421427398646566912', 'https://twitter.com/AndrzejSzyma/status/1421396820106825735', 'https://twitter.com/GustawRetweeted/status/1421447171455471617', 'https://twitter.com/A_Traczyk/status/1421411938337267715', 'https://twitter.com/rockabyeam/status/1421310785448513545', 'https://twitter.com/HenrykOnski/status/1421379294803243008', 'https://twitter.com/TomaszGrzywacz3/status/1421394330527440901', 'https://twitter.com/PrawyStrumyk/status/1421429881892655105', 'https://twitter.com/SkrzyniarzIrena/status/1421408123336773633', 'https://twitter.com/c00rty/status/1421401572509114370', 'https://twitter.com/Mosqit4/status/1421456761538625537', 'https://twitter.com/Negotium2016/status/1421249756484022274', 'https://twitter.com/Bartek93794875/status/1421377353461153792', 'https://twitter.com/BiznesAlert/status/1421416811237629954', 'https://twitter.com/reni_zm/status/1421218435619512326', 'https://twitter.com/ZaZdzislaw/status/1421479360494804996', 'https://twitter.com/ciynka/status/1421376222089695237', 'https://twitter.com/a_brzozowski/status/1421427689009958913', 'https://twitter.com/Bartek93794875/status/1421430655922147335', 'https://twitter.com/I_Piotrzkowicz/status/1421454809497063426', 'https://twitter.com/TurkawkaPL/status/1421368345807532034', 'https://twitter.com/edek_antyPO/status/1421383713674481665', 'https://twitter.com/EWAWJCI47498219/status/1421236416420405256', 'https://twitter.com/Lesio48417834/status/1421372037705179142', 'https://twitter.com/PartiaKresowian/status/1421368212592156677', 'https://twitter.com/GSwierczynska/status/1421376980444975105', 'https://twitter.com/Marek68349467/status/1421379014166462467', 'https://twitter.com/UkrinformP/status/1421385689531392007', 'https://twitter.com/nazimek77/status/1421428886252961796', 'https://twitter.com/Joannagrka61/status/1421219573332905996', 'https://twitter.com/docent_ws/status/1421398859880751104', 'https://twitter.com/ZieloniPiraci/status/1421366807110332419', 'https://twitter.com/maciej_szymczak/status/1421237310746677248', 'https://twitter.com/paul9_zzz/status/1421420010539454468', 'https://twitter.com/konstan21195741/status/1421417645547589633', 'https://twitter.com/halmys1/status/1421236484208840710', 'https://twitter.com/wiktor_jakis_ta/status/1421467215451336704', 'https://twitter.com/PartiaKresowian/status/1421378636096196610', 'https://twitter.com/AwskiSieros/status/1421366583402893312', 'https://twitter.com/DiplomacyFMD/status/1421398685301227523', 'https://twitter.com/foe_pl/status/1421405711192440832', 'https://twitter.com/ChAnnan137/status/1421237291356405773', 'https://twitter.com/JanPieklo/status/1421375070207938563', 'https://twitter.com/Wincent19589186/status/1421478651808423941', 'https://twitter.com/A_Traczyk/status/1421387272151314436', 'https://twitter.com/ELZBIETAO/status/1421376122235891716', 'https://twitter.com/KRESYPL/status/1421423101208838146', 'https://twitter.com/JSaryuszWolski/status/1421235341634285571', 'https://twitter.com/ZygmuntMolibden/status/1421385528285532171', 'https://twitter.com/AndrzejDabrowka/status/1421237237547687937', 'https://twitter.com/PawelKuki/status/1421374734088945669', 'https://twitter.com/allrestaurants0/status/1421267616463732742', 'https://twitter.com/Beata00238115/status/1421438333931118592', 'https://twitter.com/ckiszkowiak/status/1421229331603501058', 'https://twitter.com/TeresaChwasta/status/1421235996025360388', 'https://twitter.com/JSaryuszWolski/status/1421427542750343168', 'https://twitter.com/BokiJacek/status/1421313312881618944', 'https://twitter.com/Bartek93794875/status/1421433027268329476', 'https://twitter.com/free_warsaw/status/1421416927453405184', 'https://twitter.com/JanuszSibora/status/1421361318490255372', 'https://twitter.com/KRESYPL/status/1421469268923895809', 'https://twitter.com/mic_marek/status/1421407933108269061', 'https://twitter.com/Ro4ess/status/1421227461476556802', 'https://twitter.com/DemencjuszX/status/1421446617434046465', 'https://twitter.com/jarostangrecik/status/1421419540328730626', 'https://twitter.com/krysstaw/status/1421273477760397319', 'https://twitter.com/DanielBockowski/status/1421417867103322114', 'https://twitter.com/KoloniaPl/status/1421479686820044803', 'https://twitter.com/Kamil_Ma1/status/1421290358391115777', 'https://twitter.com/KZmiane/status/1421366550183952387', 'https://twitter.com/xaxelityx/status/1421237056571908105', 'https://twitter.com/AndrzejRosinski/status/1421367816855425027', 'https://twitter.com/KlaraBrodacka/status/1421240196310388742', 'https://twitter.com/Zenobiu25366322/status/1421365572114259970', 'https://twitter.com/PositStepan/status/1421237634693746698', 'https://twitter.com/SvetlanaSpero1/status/1421470774192480257', 'https://twitter.com/LORDMELONPL/status/1421461847849512965', 'https://twitter.com/HornowskaMaria/status/1421348306161111044', 'https://twitter.com/nightcoffeepunk/status/1421162090052599810', 'https://twitter.com/alePaleAlea/status/1421070852288917505', 'https://twitter.com/forsalpl/status/1421041894025437184', 'https://twitter.com/Blind_Sloth/status/1421082254344863745', 'https://twitter.com/KRESYPL/status/1421210346577141771', 'https://twitter.com/KoloniaPl/status/1421098304352530435', 'https://twitter.com/TurskaEl/status/1421084038257946631', 'https://twitter.com/SzczesniakA/status/1421097376308244486', 'https://twitter.com/antoni_stanley/status/1421085255579095040', 'https://twitter.com/KMetaKowalski/status/1421179214468898816', 'https://twitter.com/witam691/status/1421099568209530883', 'https://twitter.com/Ahron34935862/status/1421073865292357633', 'https://twitter.com/agnisiula/status/1421113844886294529', 'https://twitter.com/PogodaEurop/status/1421147255495610376', 'https://twitter.com/Martyna20007000/status/1421054250700922883', 'https://twitter.com/mamakatarzyna/status/1421173198448701453', 'https://twitter.com/julital96/status/1421111543702425602', 'https://twitter.com/WojciechLyskawa/status/1421106683741458439', 'https://twitter.com/forsalpl/status/1421065548738170882', 'https://twitter.com/KRESYPL/status/1421153633442349058', 'https://twitter.com/21schilling/status/1421188932667064332', 'https://twitter.com/NIKgovPL_Media/status/1421078165842272257', 'https://twitter.com/flakusrobakus/status/1421096669165281281', 'https://twitter.com/SWycinki/status/1421085670668324864', 'https://twitter.com/RafaBeder/status/1421044657195294727', 'https://twitter.com/KoloniaPl/status/1421041744427290626', 'https://twitter.com/Mariusz21648623/status/1421142735965327366', 'https://twitter.com/ekaipl/status/1421048170633650176', 'https://twitter.com/BrylAntoni/status/1421211891444162563', 'https://twitter.com/Greg970517390/status/1421122904125808646', 'https://twitter.com/IreneuszKuty/status/1421051890041868289', 'https://twitter.com/InstytutBiRM/status/1421094506598895618', 'https://twitter.com/49PawelG/status/1421101184803385344', 'https://twitter.com/bemebvb/status/1421199742281859077', 'https://twitter.com/Wincent19589186/status/1421187370628657154', 'https://twitter.com/PogodaEurop/status/1421041444685484032', 'https://twitter.com/Yakamoz19930171/status/1421181808654405637', 'https://twitter.com/PawelHubal/status/1421153801201934339', 'https://twitter.com/soton74/status/1421085977108439047', 'https://twitter.com/kminekes/status/1421078697218658305', 'https://twitter.com/PWspominki/status/1421089957754507269', 'https://twitter.com/offcatv/status/1421174669630230535', 'https://twitter.com/Energetyka_24/status/1421119389823340545', 'https://twitter.com/BTC_Polska/status/1421137008353845255', 'https://twitter.com/JSaryuszWolski/status/1421082640145334273', 'https://twitter.com/julital96/status/1421165068868366343', 'https://twitter.com/BoguslawPacek/status/1421113121310134278', 'https://twitter.com/alePaleAlea/status/1421057554675867650', 'https://twitter.com/mrmaster100/status/1421039021527113730', 'https://twitter.com/kibic17/status/1421089863844212738', 'https://twitter.com/ssr57/status/1421112171992342528', 'https://twitter.com/k_bobinska/status/1421082961462562816', 'https://twitter.com/KSapaa/status/1421120364424355847', 'https://twitter.com/Defence24pl/status/1421121294217748484', 'https://twitter.com/Defence24pl/status/1421102276924563465', 'https://twitter.com/ZofiaYgrek/status/1421108687855308800', 'https://twitter.com/JanMencwel/status/1421047331470860288', 'https://twitter.com/reni_zm/status/1421215673091493890', 'https://twitter.com/BeataGWinter/status/1421121732451127302', 'https://twitter.com/IMGWmeteo/status/1421212732171431947', 'https://twitter.com/mamakatarzyna/status/1421080690830020617', 'https://twitter.com/Paslawska/status/1421115900279787520', 'https://twitter.com/Defence24pl/status/1421178781138554881', 'https://twitter.com/Marek88846525/status/1421165089495859202', 'https://twitter.com/ForeignerInEden/status/1421050696082804741', 'https://twitter.com/zymnin/status/1421043714013765642', 'https://twitter.com/J_Klejszmit/status/1421205948476035078', 'https://twitter.com/AlterhistFHA/status/1421085698384441345', 'https://twitter.com/NIKgovPL/status/1421078105851154434', 'https://twitter.com/PartiaKresowian/status/1421094556666322947', 'https://twitter.com/Defence24pl/status/1421171230988664832', 'https://twitter.com/ynwstr/status/1421124611073314817', 'https://twitter.com/agraffka2/status/1421211815321743360', 'https://twitter.com/JacekAdamczyk5/status/1421185002721710084', 'https://twitter.com/Wincent19589186/status/1421102475701063681', 'https://twitter.com/apulejusz/status/1421137382875836421', 'https://twitter.com/AlenaPosh1/status/1421127776145494025', 'https://twitter.com/chesskask100/status/1421119137699540994', 'https://twitter.com/PolskieSluzby/status/1421216494776635403', 'https://twitter.com/aliska541/status/1421123757322690565', 'https://twitter.com/majaka60/status/1421172454316249091', 'https://twitter.com/HPolkki/status/1421124443657719814', 'https://twitter.com/AlenaPosh1/status/1421129368194125824', 'https://twitter.com/bartolini_omiej/status/1421143350204375042', 'https://twitter.com/futurologiae/status/1421021741405687808', 'https://twitter.com/Joanna_Jarosz_/status/1420984511119171585', 'https://twitter.com/KleszczDaniel/status/1420808190040678403', 'https://twitter.com/RepublikaTV/status/1421032050480631811', 'https://twitter.com/mic_marek/status/1421026402128760833', 'https://twitter.com/KotMruk/status/1420803919563874309', 'https://twitter.com/oshevchenko349/status/1420839815071866886', 'https://twitter.com/PiotrPGR/status/1421032790062247938', 'https://twitter.com/aw_kozub/status/1420811160308391943', 'https://twitter.com/FMargaryna/status/1420881603128176641', 'https://twitter.com/MartinFelippo/status/1420892150758264833', 'https://twitter.com/SohoOorti/status/1421016183629926403', 'https://twitter.com/darek2dk/status/1420992862464905221', 'https://twitter.com/ViolaNewYork/status/1420905788877545475', 'https://twitter.com/TOMAS8C/status/1420945662921912322', 'https://twitter.com/Grossmann_SE/status/1420809065744244741', 'https://twitter.com/Marek53444067/status/1420842407495618560', 'https://twitter.com/WiktorOster/status/1420843350660427776', 'https://twitter.com/joannabogusia/status/1420817172088119306', 'https://twitter.com/TomaszGajewski7/status/1420833901979766784', 'https://twitter.com/BasiaOstrowska2/status/1420814828877275140', 'https://twitter.com/Damian09733512/status/1420988398324654080', 'https://twitter.com/Joe25124733/status/1420926960696545282', 'https://twitter.com/astrobuz/status/1420889993271287809', 'https://twitter.com/EndriuAP14/status/1420853711790911495', 'https://twitter.com/Golbi84/status/1420815988119986178', 'https://twitter.com/AbigailAbiL3/status/1421035394213236736', 'https://twitter.com/AdamKania1979/status/1420832435579899911', 'https://twitter.com/KRESYPL/status/1420839831110836225', 'https://twitter.com/Konrad11638095/status/1420856942692556805', 'https://twitter.com/dzastina79/status/1420807083520311300', 'https://twitter.com/CarlossDee/status/1420837774891143174', 'https://twitter.com/ecpp_pl/status/1420831441387200515', 'https://twitter.com/GrzybAndrzej/status/1420807889057353733', 'https://twitter.com/Adameks9/status/1420802328874127362', 'https://twitter.com/ProPol2020/status/1421011615831535617', 'https://twitter.com/PTGWroclaw/status/1420998713993011201', 'https://twitter.com/k_bobinska/status/1420833103942148103', 'https://twitter.com/mariuszszulc555/status/1420871229213392899', 'https://twitter.com/JaremaWi/status/1421027578270396422', 'https://twitter.com/interszansa/status/1421016191070572547', 'https://twitter.com/DariuszChocyk/status/1421032948896309249', 'https://twitter.com/ObserwatorMiedz/status/1420844960778096643', 'https://twitter.com/pkgrabowski/status/1421029383624613888', 'https://twitter.com/nadmiarze/status/1420804403460780033', 'https://twitter.com/PolskieSluzby/status/1420891414813097988', 'https://twitter.com/OgarKosmosu/status/1420891940502056960', 'https://twitter.com/BrownBartosz/status/1420868833645142023', 'https://twitter.com/rawskie/status/1421034127831310336', 'https://twitter.com/GallowayGalleg1/status/1420977784848101376', 'https://twitter.com/macras8/status/1420805394755166209', 'https://twitter.com/PrawaStronaa/status/1420804453431750659', 'https://twitter.com/Gordon2014John/status/1420833085478916112', 'https://twitter.com/Andrzej66383664/status/1421006747603451904', 'https://twitter.com/lph20/status/1420806232760225792', 'https://twitter.com/Wincent19589186/status/1420881793142636546', 'https://twitter.com/ryszard47986736/status/1420816512135450628', 'https://twitter.com/Teresamyk1/status/1420938663857381376', 'https://twitter.com/numenoreon/status/1420850725463203841', 'https://twitter.com/mrmaster100/status/1421035099093671938', 'https://twitter.com/MartynaWM/status/1421035980220473344', 'https://twitter.com/BiznesAlert/status/1420976455836708866', 'https://twitter.com/elektrycznaowca/status/1421002417437659136', 'https://twitter.com/Krwawy_Zenon/status/1420860717952032778', 'https://twitter.com/Marek95283940/status/1420853240703463425', 'https://twitter.com/teresamaria_wo/status/1420813345490407425', 'https://twitter.com/adammmooo/status/1421014504041811971', 'https://twitter.com/DorotaPodlesna/status/1420856768121479170', 'https://twitter.com/GrazynaZeta/status/1420848294935339009', 'https://twitter.com/RemigiuszWilk/status/1421000667448086529', 'https://twitter.com/Wincent19589186/status/1420890733733715975', 'https://twitter.com/OrzeBiay1/status/1421017544975081473', 'https://twitter.com/mrmaster100/status/1421028515047219200', 'https://twitter.com/zenon_kition/status/1420864110636552201', 'https://twitter.com/edek_antyPO/status/1421032387425628165', 'https://twitter.com/tomasz_artemiak/status/1421034594044895234', 'https://twitter.com/obywatel321/status/1421030692834717699', 'https://twitter.com/Horus543/status/1420847491201765380', 'https://twitter.com/CWschodni/status/1420842128926781442', 'https://twitter.com/Anakreontyk/status/1420828185072218114', 'https://twitter.com/rawskie/status/1420817230414090245', 'https://twitter.com/Adameks9/status/1420802563314700291', 'https://twitter.com/Polesie1922/status/1421006070332395520', 'https://twitter.com/Ania_belferka/status/1420984171904786436', 'https://twitter.com/wjakobik/status/1420976654831194112', 'https://twitter.com/Anna85260958/status/1420783635507130369', 'https://twitter.com/RafalPrzemysl/status/1420774747475005445', 'https://twitter.com/MaZaborowski/status/1420717409950908425', 'https://twitter.com/AdamSJasser/status/1420713431938764800', 'https://twitter.com/IPowiatu/status/1420730845585870849', 'https://twitter.com/Jo13400107/status/1420708926786572294', 'https://twitter.com/wPolityce_pl/status/1420787166054125569', 'https://twitter.com/ZaZdzislaw/status/1420799500390748166', 'https://twitter.com/pollini77/status/1420770671953649668', 'https://twitter.com/gazetaprawnapl/status/1420795397279084547', 'https://twitter.com/mlwn22/status/1420720212421353472', 'https://twitter.com/Bartek93794875/status/1420708323255533568', 'https://twitter.com/joan_bak/status/1420711901785436163', 'https://twitter.com/KRESYPL/status/1420794416936230918', 'https://twitter.com/Tyrol65/status/1420733914277163009', 'https://twitter.com/Dawid43446927/status/1420767542335922179', 'https://twitter.com/tomdrabowicz/status/1420781801556033537', 'https://twitter.com/AdamLutostanski/status/1420766411236990982', 'https://twitter.com/Ewa88940012/status/1420782339437826050', 'https://twitter.com/west_wiki/status/1420710284256284672', 'https://twitter.com/oredownik/status/1420706696331243520', 'https://twitter.com/Joe25124733/status/1420774067091775488', 'https://twitter.com/no_kopaczan/status/1420742442093998096', 'https://twitter.com/ViolaNewYork/status/1420709350608343042', 'https://twitter.com/figurant4/status/1420739904951099399', 'https://twitter.com/daga772/status/1420769725316046848', 'https://twitter.com/Dawid43446927/status/1420769021327200261', 'https://twitter.com/Kicius_The_Cat/status/1420718296115077123', 'https://twitter.com/Mr___AJB/status/1420732839704866819', 'https://twitter.com/Micha14482274/status/1420733970665385984', 'https://twitter.com/qurdequrde/status/1420776831846952964', 'https://twitter.com/semperkresy/status/1420739182918443010', 'https://twitter.com/Ewa96629103/status/1420790323857461255', 'https://twitter.com/wjakobik/status/1420785564320677891', 'https://twitter.com/SChecinska/status/1420717644236328961', 'https://twitter.com/AnnaKoszewska/status/1420788204731523077', 'https://twitter.com/PrzemysZurawski/status/1420732000944758785', 'https://twitter.com/JozefR8/status/1420713659525906434', 'https://twitter.com/dawid_adamczyk/status/1420774028944547841', 'https://twitter.com/JuliuszSabak/status/1420706010294013956', 'https://twitter.com/Jacaw1/status/1420725624000454658', 'https://twitter.com/OlaWasilewska77/status/1420721625876639748', 'https://twitter.com/Storczyk2/status/1420753849334206472', 'https://twitter.com/WosztylArtur/status/1420707321613897730', 'https://twitter.com/pdjezierski/status/1420716248644694016', 'https://twitter.com/alePaleAlea/status/1420788201359294470', 'https://twitter.com/Kpelczynska/status/1420751847493554190', 'https://twitter.com/no_kopaczan/status/1420739410631397381', 'https://twitter.com/Horus543/status/1420798158402166786', 'https://twitter.com/PanWKratke/status/1420764216206794755', 'https://twitter.com/tvn24/status/1420791384781594624', 'https://twitter.com/JSaryuszWolski/status/1420732271439536132', 'https://twitter.com/sikorskiradek/status/1420752447383822340', 'https://twitter.com/z_przemyskiego/status/1420710919705870338', 'https://twitter.com/Tempelhof13/status/1420712164378152963', 'https://twitter.com/RamzesShogun/status/1420754958035558423', 'https://twitter.com/forsalpl/status/1420780678866558977', 'https://twitter.com/Kamil_Ma1/status/1420734963293593601', 'https://twitter.com/PiotrBuras1/status/1420764503952838657', 'https://twitter.com/tomdrabowicz/status/1420744547630415879', 'https://twitter.com/DariuszRomanow3/status/1420710664994271232', 'https://twitter.com/mirkobak/status/1420788405546463232', 'https://twitter.com/rusiecki_jacek/status/1420738597188214787', 'https://twitter.com/adamkulk/status/1420754299290750978', 'https://twitter.com/mamakatarzyna/status/1420737175524577284', 'https://twitter.com/TOPTVPINFO/status/1420735948220993541', 'https://twitter.com/AnnaSernawit/status/1420764929523650565', 'https://twitter.com/DziennikPL/status/1420782703306178562', 'https://twitter.com/LegiArsenaL/status/1420727749606531082', 'https://twitter.com/MarekWivaxxa/status/1420729958549295108', 'https://twitter.com/ViolaNewYork/status/1420709495404126211', 'https://twitter.com/Zulus_pl/status/1420789474259312649', 'https://twitter.com/PanKajetan/status/1420720363886063619', 'https://twitter.com/JadwigaSokolow1/status/1420765960902905861', 'https://twitter.com/7seadragon/status/1420766589431992327', 'https://twitter.com/semperkresy/status/1420739184243843072', 'https://twitter.com/Kazimie50242219/status/1420778869045538827', 'https://twitter.com/Defence24pl/status/1420801293623435266', 'https://twitter.com/dzikisusel75/status/1420798617372274689', 'https://twitter.com/PolskieSluzby/status/1420769070165774336', 'https://twitter.com/PaweGrzegorczy1/status/1420775896974336008', 'https://twitter.com/Defence24pl/status/1420707559372206085', 'https://twitter.com/tomasz_artemiak/status/1420772365475229696', 'https://twitter.com/forsalpl/status/1420800424085360642', 'https://twitter.com/marek0252/status/1420746408471060481', 'https://twitter.com/Zygmunt99026458/status/1420709373832306689', 'https://twitter.com/MKonferowicz/status/1420713370676772871', 'https://twitter.com/dszeligowski/status/1420705215863562244', 'https://twitter.com/Dosia1960/status/1420741919236231174', 'https://twitter.com/Wieslaw58659566/status/1420729743465398274', 'https://twitter.com/ProPol2020/status/1420676510894206976', 'https://twitter.com/Arkadiusz21/status/1420650021637218312', 'https://twitter.com/tvp_info/status/1420698621658468352', 'https://twitter.com/Tomasz46452915/status/1420703619771404288', 'https://twitter.com/preterem/status/1420673283805097984', 'https://twitter.com/PalkaAndrzej/status/1420684080405000195', 'https://twitter.com/mic_marek/status/1420649530974932992', 'https://twitter.com/mariusz50000/status/1420698264886775811', 'https://twitter.com/KomornickiLeon/status/1420645905624076293', 'https://twitter.com/Robert39937010/status/1420680110995300353', 'https://twitter.com/kwintera_wojtek/status/1420626360943484933', 'https://twitter.com/ZygmuntMolibden/status/1420522396205862915', 'https://twitter.com/Carcharus/status/1420681638447616000', 'https://twitter.com/GolonkaMax/status/1420562259508703232', 'https://twitter.com/T_Lator/status/1420677072746385408', 'https://twitter.com/Rampapa32498271/status/1420674929247223813', 'https://twitter.com/MaleHammer/status/1420695654670782464', 'https://twitter.com/Jola24965934/status/1420685493168136192', 'https://twitter.com/KurierWilenski/status/1420659880344662019', 'https://twitter.com/sopot100/status/1420620382076289024', 'https://twitter.com/PawelHubal/status/1420575222437191680', 'https://twitter.com/ViolaNewYork/status/1420699203542700040', 'https://twitter.com/DziennikPL/status/1420665419958943755', 'https://twitter.com/MilkowskPawel/status/1420685077764321282', 'https://twitter.com/PanKajetan/status/1420628444199669763', 'https://twitter.com/___wj___/status/1420690466731929600', 'https://twitter.com/T_Lator/status/1420674965758750720', 'https://twitter.com/cegieu/status/1420635561455460352', 'https://twitter.com/OnetWiadomosci/status/1420674348784881669', 'https://twitter.com/Krzyszt30177975/status/1420701495713058825', 'https://twitter.com/rczyzewski1/status/1420632653724889090', 'https://twitter.com/ANastkiewicz/status/1420692517922779141', 'https://twitter.com/Storczyk2/status/1420640316613349378', 'https://twitter.com/robertol04/status/1420669416929468419', 'https://twitter.com/enrico81952873/status/1420664124036485127', 'https://twitter.com/Thx1164Jediwexa/status/1420643934150201345', 'https://twitter.com/jaksliwkawkompo/status/1420680238158200850', 'https://twitter.com/janekzzzz/status/1420637566655778817', 'https://twitter.com/YarlYOMSBORG/status/1420609101470605314', 'https://twitter.com/KubikBozena/status/1420669739341385729', 'https://twitter.com/tomek_wyszynski/status/1420627286710231043', 'https://twitter.com/mic_marek/status/1420652913874116612', 'https://twitter.com/TomczykHubert/status/1420610497976614915', 'https://twitter.com/Gornik1956/status/1420677873971703811', 'https://twitter.com/MarianWaligora/status/1420618493251231751', 'https://twitter.com/michaelcapala/status/1420670150630596608', 'https://twitter.com/ASztejn/status/1420622193587851266', 'https://twitter.com/slawekjanczar/status/1420629935966859266', 'https://twitter.com/wittarkowski/status/1420682452092215297', 'https://twitter.com/arekprotas/status/1420645001416126472', 'https://twitter.com/MMultarzynski/status/1420694613619318784', 'https://twitter.com/Grzesiek_Kozik/status/1420681476430090243', 'https://twitter.com/farmerjanek/status/1420630398200172549', 'https://twitter.com/trojmorze_pl/status/1420661818251517952', 'https://twitter.com/TurskiPrezesK/status/1420516834495942661', 'https://twitter.com/ProtestJan/status/1420680698457993216', 'https://twitter.com/arielg38937444/status/1420640107070214146', 'https://twitter.com/janekzzzz/status/1420672935719800837', 'https://twitter.com/forsalpl/status/1420668929324634118', 'https://twitter.com/edek_antyPO/status/1420639126790021123', 'https://twitter.com/voss_joanna/status/1420673843681763329', 'https://twitter.com/Franz2602/status/1420625328213532672', 'https://twitter.com/sportpl/status/1420651332340523009', 'https://twitter.com/hokejnet/status/1420699772529295364', 'https://twitter.com/PalaczAG/status/1420696881668186115', 'https://twitter.com/T_Lator/status/1420676734853292035', 'https://twitter.com/_Boreyko_/status/1420699847137562624', 'https://twitter.com/1972tomek/status/1420672608236883972', 'https://twitter.com/Wiktor47030158/status/1420703590520430595', 'https://twitter.com/konrad_cybulski/status/1420676900658335745', 'https://twitter.com/mkpieczynski/status/1420672237175197698', 'https://twitter.com/YarlYOMSBORG/status/1420613370533892098', 'https://twitter.com/Mariusz54960705/status/1420657666184130561', 'https://twitter.com/PolsatNewsPL/status/1420701014760505345', 'https://twitter.com/Defence24pl/status/1420690434406354944', 'https://twitter.com/OnetWiadomosci/status/1420668442034663425', 'https://twitter.com/OlaWasilewska77/status/1420649845631639552', 'https://twitter.com/ChrisMaslanka/status/1420669624316801024', 'https://twitter.com/RKrolicki/status/1420652706218352642', 'https://twitter.com/zelsta5312/status/1420685612693270528', 'https://twitter.com/ssr57/status/1420696727259074560', 'https://twitter.com/grzegorz_rogus/status/1420685274787495939', 'https://twitter.com/OlaWasilewska77/status/1420649748348944384', 'https://twitter.com/BrawoPolacy_/status/1420526094848045057', 'https://twitter.com/MarcelGrauc/status/1420673037557452802', 'https://twitter.com/DarekS_100/status/1420696445037027329', 'https://twitter.com/bweglarczyk/status/1420680984400379906', 'https://twitter.com/ChAnnan137/status/1420505683682807810', 'https://twitter.com/Isidorium1/status/1420452358308388874', 'https://twitter.com/szaja1955/status/1420434615915978764', 'https://twitter.com/xpost1/status/1420512624987582475', 'https://twitter.com/dron_johnson/status/1420473796138573824', 'https://twitter.com/manakoniec/status/1420432964106739714', 'https://twitter.com/PrzemysZurawski/status/1420442446341840897', 'https://twitter.com/StefekBurczymu7/status/1420495730599415815', 'https://twitter.com/Marek88846525/status/1420514831266947073', 'https://twitter.com/VKouprich/status/1420457310439284739', 'https://twitter.com/VKouprich/status/1420494047605661699', 'https://twitter.com/JacekYa/status/1420431875328380931', 'https://twitter.com/Krzysztof_8888/status/1420439687634817030', 'https://twitter.com/adinfo24/status/1420454023241637888', 'https://twitter.com/ViolaNewYork/status/1420507872153190403', 'https://twitter.com/Joe25124733/status/1420505350470574082', 'https://twitter.com/T_Lator/status/1420491498861305856', 'https://twitter.com/micha_puzak/status/1420455227069771776', 'https://twitter.com/michonXX/status/1420505148254793729', 'https://twitter.com/Ryszard67992848/status/1420439024578310145', 'https://twitter.com/joannalazarow/status/1420476700945682439', 'https://twitter.com/ciemnachmurka/status/1420458726050435074', 'https://twitter.com/Grzegor55127426/status/1420447267908202496', 'https://twitter.com/Mateusz18173736/status/1420486616947302404', 'https://twitter.com/rwatykanskie/status/1420459042544099338', 'https://twitter.com/MIborz/status/1420494401906806789', 'https://twitter.com/Richard79612018/status/1420503530604015619', 'https://twitter.com/CasualsAG/status/1420506048994099208', 'https://twitter.com/redpeter7604/status/1420457109460815873', 'https://twitter.com/dyzma_endrju/status/1420507591961190403', 'https://twitter.com/CezarPol/status/1420473742753402884', 'https://twitter.com/Magdaiks/status/1420506142225182721', 'https://twitter.com/Richard79612018/status/1420503480154869761', 'https://twitter.com/Jacek54/status/1420436645711650827', 'https://twitter.com/starapralka/status/1420494489135767555', 'https://twitter.com/AlicjaSiewiersk/status/1420456528788742156', 'https://twitter.com/KWyszkowski/status/1420502954470223872', 'https://twitter.com/michonXX/status/1420446937392816129', 'https://twitter.com/AlicjaAlicja18/status/1420477321321005065', 'https://twitter.com/Macierewicz_A/status/1420469732915007511', 'https://twitter.com/Tomek_Bl/status/1420440795967074309', 'https://twitter.com/OrzeBiay1/status/1420486124733140995', 'https://twitter.com/pilum_eminus/status/1420469742796742657', 'https://twitter.com/TurskiPrezesK/status/1420503060195971072', 'https://twitter.com/sbalcerac/status/1420504941324603398', 'https://twitter.com/joan_bak/status/1420473529678680069', 'https://twitter.com/Z_from_Poland/status/1420447834759893002', 'https://twitter.com/AdamLutostanski/status/1420479823479197699', 'https://twitter.com/GaltJanek/status/1420445502349488132', 'https://twitter.com/Kecaj120/status/1420505841535537156', 'https://twitter.com/InesAgnieszka/status/1420474410927071238', 'https://twitter.com/r_groniak/status/1420473877482856460', 'https://twitter.com/ochocki_adam/status/1420485732611891200', 'https://twitter.com/YarlYOMSBORG/status/1420483909813428228', 'https://twitter.com/MaleHammer/status/1420431524399403010', 'https://twitter.com/DonKrainy/status/1420430030983794691', 'https://twitter.com/xRytel/status/1420498139950288898', 'https://twitter.com/MariuszPer/status/1420445405343633408', 'https://twitter.com/KRESYPL/status/1420477675064410118', 'https://twitter.com/pidybi/status/1420478152770457604', 'https://twitter.com/Wanda71600343/status/1420438559140552705', 'https://twitter.com/majowski1959/status/1420477384491511816', 'https://twitter.com/marcin_kleiv/status/1420459655835361280', 'https://twitter.com/JirayaArtur/status/1420494480382349320', 'https://twitter.com/tadeusz38725389/status/1420436227954814980', 'https://twitter.com/MarcoMari18/status/1420454245598388230', 'https://twitter.com/J_Janumir/status/1420506302187507715', 'https://twitter.com/EZrotehexe/status/1420490344853118978', 'https://twitter.com/TurkawkaPL/status/1420444425508036626', 'https://twitter.com/Mariamarta410/status/1420505273442123779', 'https://twitter.com/KATryksza/status/1420439402128543744', 'https://twitter.com/Miczurin_38/status/1420490674395389959', 'https://twitter.com/KRESYPL/status/1420429609280184328', 'https://twitter.com/niedziela_pl/status/1420443610970009601', 'https://twitter.com/AndrzejTalecki/status/1420490460267782146', 'https://twitter.com/RadcaW/status/1420445844260761603', 'https://twitter.com/PGaglik/status/1420487031831007234', 'https://twitter.com/AnnaMar54928634/status/1420448234250592257', 'https://twitter.com/RepublikaTV/status/1420469508100198407', 'https://twitter.com/Marioosh80/status/1420436276004757504']\n"
          ]
        }
      ]
    },
    {
      "cell_type": "markdown",
      "source": [
        "4"
      ],
      "metadata": {
        "id": "2DQFO2Qy7I8O"
      }
    },
    {
      "cell_type": "code",
      "source": [
        "linki = []"
      ],
      "metadata": {
        "id": "WDWTXeBx7IF-"
      },
      "execution_count": 37,
      "outputs": []
    },
    {
      "cell_type": "code",
      "source": [
        "linki = df.loc[df['urls'].str.contains('http', na=False), 'urls'].str.extract('(http.*)', expand=False).tolist()"
      ],
      "metadata": {
        "id": "DBCWCBxp8_w7"
      },
      "execution_count": 39,
      "outputs": []
    },
    {
      "cell_type": "code",
      "source": [
        "print(linki)"
      ],
      "metadata": {
        "colab": {
          "base_uri": "https://localhost:8080/"
        },
        "id": "uujOHFc690dy",
        "outputId": "887e3713-8c78-40a9-8341-b1c6ee0b24cb"
      },
      "execution_count": 40,
      "outputs": [
        {
          "output_type": "stream",
          "name": "stdout",
          "text": [
            "['https://ift.tt/3fxx9kq', 'https://twitter.com/TomaszGolonko/status/1423199797364903945', 'https://help.twitch.tv/s/article/local-sub-price-countries?language=en_US#latam', 'https://www.ukrinform.pl/rubric-economy/3292538-ukraina-wyemituje-obligacje-na-sume-20-mld-w-ramach-programu-dostepna-hipoteka.html', 'https://energetyka24.com/ukraina-czujemy-sie-zdradzeni-przez-europe-rosja-narzuci-wlasne-reguly-gry', 'https://twitter.com/WislokaDebica08/status/1423172069555150849', 'https://www.rmf24.pl/sport/news-jan-krzysztof-duda-vs-siergiej-kariakin-pierwsza-partia-fina,nId,5400026#crp_state=1', 'https://kurs-na-funta.pl/informacje/podatki-w-europie-srodkowej-i-wschodniej/', 'https://forsal.pl/swiat/ukraina/artykuly/8220106,ukraina-glowi-sie-co-zrobic-z-szara-strefa-gospodarki.html?utm_source=dlvr.it&utm_medium=twitter', 'https://www.youtube.com/watch?v=jJB7QIMA1xY', 'https://tvn24.pl/swiat/ukraina-wital-szyszou-nie-zyje-wolodymyr-zelenski-zleca-dodatkowa-ochrone-dla-bialorusinow-5165822', 'https://twitter.com/Anna1Kwiecien/status/1423141249037524998', 'https://www.radiomaryja.pl/informacje/ukraina-wojenny-weteran-grozil-detonacja-granatu-w-siedzibie-rzadu/', 'https://www.defence24.pl/ukraina-weteran-wojny-w-donbasie-chcial-wysadzic-budynek-rzadu', 'https://www.defence24.pl/ukraina-weteran-wojny-w-donbasie-chcial-wysadzic-budynek-rzadu', 'https://www.energetyka24.com/ukraina-czujemy-sie-zdradzeni-przez-europe-rosja-narzuci-wlasne-reguly-gry', 'https://nczas.com/2021/08/04/pilne-mezczyzna-grozi-detonacja-ewakuowano-rzad/', 'https://ift.tt/3yrviVo', 'https://twitter.com/dumingtups/status/1422966929904619523', 'https://kresy24.pl/tokio-2020-ukraina-zdobyla-dzisiaj-cztery-medale-olimpijskie/', 'http://adinfo24.pl/swiat/1682554,bialorusini_z_dodatkowa_ochrona_od_ukrainy_jest_deklaracja_prezydenta_zelenskiego.html', 'https://www.defence24.pl/ukraina-weteran-wojny-w-donbasie-chcial-wysadzic-budynek-rzadu', 'https://monitor-press.com/pl/konkursy/9516-28616.html', 'https://strana.ua/news/347071-v-senate-podnjali-vopros-o-domashnem-areste-medvedchuka-i-zakrytii-telekanalov-.html https://twitter.com/ZaZdzislaw/status/1422973580040708098', 'https://strategyandfuture.org/wschodnie-obserwatorium-ukraincy-dyskutuja-a-ich-debata-w-zaskakujacy-sposob-przypomina-polskie-spory/', 'https://kresy.pl/?p=756523', 'https://twitter.com/PISM_Poland/status/1422848824285011972', 'https://buff.ly/3fs1rVm', 'https://www.radiomaryja.pl/informacje/ukraina-wojenny-weteran-grozil-detonacja-granatu-w-siedzibie-rzadu/', 'https://twitter.com/ArturoZiel0903/status/1422857535934115843', 'https://www.amnesty.org/en/latest/news/2021/08/ukraine-authorities-must-conduct-effective-investigation-into-suspicious-death-of-prominent-belarusian-exile', 'https://brandsit.pl/ukraina-dodatkowa-ochrona-dla-bialorusinow-ktorym-moze-grozic-niebezpieczenstwo/', 'https://wpolityce.pl/swiat/561202-mezczyzna-grozil-detonacja-granatu-w-budynku-rzadu-w-kijowie', 'https://sjp.pwn.pl/poradnia/haslo/w-Ukrainie-czy-na-Ukrainie;16214.html', 'https://kresy24.pl/lukasz-adamski-martyrologia-i-walka-ukraina-w-czasie-ii-wojnie-swiatowej-czego-nie-wiedza-polacy-a-czego-nie-rozumieja-ukraincy/', 'https://www.roland-gazeta.pl/najnowsze/wycieczka-na-trasie-lwow-podole-stanislawow-lukowiec-ostanie-wolne-miejsca', 'https://brandsit.pl/ukraina-komentatorzy-nie-wykluczaja-zabojstwa-bialoruskiego-aktywisty-szyszoua-wskazuja-na-rosyjski-slad/', 'https://www.defence24.pl/ukraina-weteran-wojny-w-donbasie-chcial-wysadzic-budynek-rzadu', 'https://www.gov.pl/web/poland-businessharbour', 'https://www.ukrinform.pl/rubric-economy/3291850-ukraina-zajea-54-miejsce-w-swiatowym-indeksie-konkurencyjnosci.html', 'https://wiadomosci.onet.pl/swiat/ukraina-mezczyzna-grozil-detonacja-granatu-w-siedzibie-rzadu-w-kijowie/6ekcfxc', 'https://www.tvp.info/55203524/ukraina-mezczyzna-grozi-detonacja-granatu-w-siedzibie-rzadu', 'https://kresy24.pl/kijow-policja-zatrzymala-mezczyzne-z-granatem-ktory-wtargnal-do-pomieszczen-kancelarii-rady-ministrow/ https://twitter.com/m_pasierb/status/1422832573684846592', 'https://www.strazgraniczna.pl/pl/aktualnosci/9342,Udawali-surwiwalowcow.html', 'https://kresy.pl/?p=756523', 'https://kresy24.pl/kijow-policja-zatrzymala-mezczyzne-z-granatem-ktory-wtargnal-do-pomieszczen-kancelarii-rady-ministrow/', 'https://twitter.com/censor_net/status/1422889900119109636', 'https://wiadomosci.dziennik.pl/swiat/artykuly/8220771,kijow-ukraina-siedziba-rzadu-granat-detonacja-grozby.html?utm_source=dlvr.it&utm_medium=twitter', 'http://dlvr.it/S50lrz', 'https://wydarzenia.interia.pl/swiat/news-ukraina-mezczyzna-z-granatem-grozil-wysadzeniem-budynku,nId,5399948', 'https://www.polsatnews.pl/wiadomosc/2021-08-04/ukraina-mezczyzna-grozi-detonacja-w-siedzibie-rzadu/?ref=aside_najnowsze', 'https://www.polsatnews.pl/wiadomosc/2021-08-04/ukraina-mezczyzna-grozi-detonacja-w-siedzibie-rzadu/?ref=aside_najnowsze', 'https://wiadomosci.dziennik.pl/swiat/artykuly/8220771,kijow-ukraina-siedziba-rzadu-granat-detonacja-grozby.html?utm_source=dlvr.it&utm_medium=twitter', 'https://twitter.com/MatkaPredstave/status/1422829802319454210', 'https://wiadomosci.wp.pl/ukraina-mezczyzna-grozi-detonacja-granatu-w-siedzibie-rzadu-6668558359652864a?utm_source=twitter&utm_medium=social&utm_campaign=ttwp&utm_term=post&utm_content=wiadomosci', 'https://forsal.pl/swiat/ukraina/artykuly/8220784,atak-terrorystyczny-na-rzad-w-kijowie-mezczyzna-granat-aresztowany.html?utm_source=dlvr.it&utm_medium=twitter', 'https://bit.ly/3ytO3HW', 'http://paulburgin.blogspot.com/2021/08/meeting-between-belarus-opposition.html', 'https://twitter.com/MStefan92/status/1422620148050141185?s=19', 'https://tvn24.pl/swiat/ukraina-kijow-wital-szyszou-bialoruski-aktywista-zostal-znaleziony-martwy-w-parku-poinformowala-kijowska-policja-5164251', 'https://www.infosecurity24.pl/bialoruski-aktywista-znaleziony-powieszony-w-parku-w-kijowie', 'https://ift.tt/2GYnLCk', 'http://adinfo24.pl/swiat/1682519,specjalna_akcja_przed_ambasada_bialorusi_w_kijowie_upamietniono_aktywiste_witala_szyszoua.html', 'https://cyfrowaekonomia.pl/ukraina-bedzie-miala-cbdc-podsumowanie-tygodnia-377/', 'http://xn--gnbi-ota9h.Co', 'https://twitter.com/PLsalamanderPL/status/1422801020636340228', 'https://www.facebook.com/permalink.php?story_fbid=2989226114691165&id=100008114164039', 'https://twitter.com/RafalKrawczyk/status/1421494267940417538', 'http://m.in https://kresy.pl/?p=756422', 'http://dlvr.it/S4yNyz', 'https://brandsit.pl/ukraina-przed-ambasada-bialorusi-w-kijowie-akcja-upamietniajaca-aktywiste-witala-szyszoua/', 'https://www.pap.pl/aktualnosci/news%2C922834%2Cukraina-przed-ambasada-bialorusi-w-kijowie-akcja-upamietniajaca-aktywiste', 'http://adinfo24.pl/swiat/1682529,wital_szyszou_znaleziony_martwy_w_kijowie_upamietnili_aktywiste_przed_ambasada_bialorusi.html', 'https://ipolska24.pl/bialoruski-aktywista-znaleziony-martwy-w-parku-w-kijowie-pomagal-rodakom-uciekajacym-z-ojczyzny/', 'https://polskieradio24.pl/5/1223/Artykul/2783341,Szef-ukrainskiego-MSZ-zrobimy-wszystko-co-mozliwe-by-wyjasnic-sprawe-Szyszoua', 'https://belsat.eu/pl/news/03-08-2021-ukraina-bialoruski-aktywista-znaleziony-powieszony-w-parku/', 'https://wiadomosci.onet.pl/swiat/ukraina-bialoruski-aktywista-znaleziony-powieszony-w-parku/b1ne4b6', 'https://kresy.pl/?p=756303', 'http://dlvr.it/S4yNyz', 'http://dlvr.it/S4xMlG', 'https://tvn24.pl/swiat/ukraina-wital-szyszou-bialoruski-aktywista-zostal-znaleziony-martwy-policja-bada-przyczyny-smierci-5164625', 'https://polskatimes.pl/ukraina-tajemnicza-smierc-bialoruskiego-opozycjonisty-cialo-witalija-szyszowa-znaleziono-w-kijowskim-parku/ar/c1-15738982', 'http://dlvr.it/S4xMlG', 'https://buff.ly/3lmbsrb', 'https://dziennikzwiazkowy.com/swiat/ukraina-policja-bialoruski-aktywista-znaleziony-powieszony-w-parku/', 'http://bit.ly/2TPKrkq', 'http://adinfo24.pl/swiat/1682495,aktywista_znaleziony_powieszony_w_parku_to_szef_domu_bialoruskiego_na_ukrainie.html', 'https://tvn24.pl/swiat/ukraina-wital-szyszou-bialoruski-aktywista-zostal-znaleziony-martwy-policja-bada-przyczyny-smierci-5164625', 'https://twitter.com/DmytroKuleba/status/1422526651573936138', 'https://twitter.com/KKazmierczakK/status/1422473696749498380', 'https://wiadomosci.onet.pl/swiat/ukraina-bialoruski-aktywista-znaleziony-powieszony-w-parku/b1ne4b6', 'https://www.infosecurity24.pl/bialoruski-aktywista-znaleziony-powieszony-w-parku-w-kijowie', 'https://www.rynek-kolejowy.pl/wiadomosci/ukraina-pierwsze-slupy-trakcyjne-na-elektryfikowanej-linii-kolejowej-do-polski-103732.html', 'https://wiadomosci.onet.pl/swiat/ukraina-bialoruski-aktywista-znaleziony-powieszony-w-parku/b1ne4b6', 'https://www.euractiv.pl/section/demokracja/news/ukraina-szyszow-bialorus-lukaszenka-bialoruski-dom/', 'https://tvn24.pl/swiat/ukraina-kijow-wital-szyszou-bialoruski-aktywista-zostal-znaleziony-martwy-w-parku-poinformowala-kijowska-policja-5164251', 'http://paulburgin.blogspot.com/2021/08/vitaly-shishov-and-unelected-government.html', 'https://tvn24.pl/swiat/ukraina-kijow-wital-szyszou-bialoruski-aktywista-zostal-znaleziony-martwy-w-parku-poinformowala-kijowska-policja-5164251', 'https://wgospodarce.pl/informacje/99569-ukraina-kolega-szyszoua-wedlug-policji-mial-zlamany-nos', 'https://tvn24.pl/swiat/ukraina-w-parku-w-kijowie-znaleziono-we-wtorek-cialo-bialoruskiego-aktywisty-witala-szyszoua-5164251', 'https://www.youtube.com/watch?v=xc24doofd58', 'https://tvn24.pl/swiat/ukraina-w-parku-w-kijowie-znaleziono-we-wtorek-cialo-bialoruskiego-aktywisty-witala-szyszoua-5164251', 'https://twitter.com/jodynaa/status/1422451517135728657', 'https://twitter.com/mikercarpenter/status/1422283787333947406', 'https://tvn24.pl/swiat/ukraina-w-parku-w-kijowie-znaleziono-we-wtorek-cialo-bialoruskiego-aktywisty-witala-szyszoua-5164251', 'http://czaswschodni.pl/art/wiadomosci/walka-z-nord-stream-2-nadal-trwa_d5cb3cb7-0a4b-4e57-92a4-037a692fcff5', 'http://dlvr.it/S4x3rt', 'https://tvn24.pl/swiat/ukraina-w-parku-w-kijowie-znaleziono-we-wtorek-cialo-bialoruskiego-aktywisty-witala-szyszoua-5164251?fbclid=IwAR1v8tW29U6mammKPEvg7ZW74DpuFU_fagCYilHRjiiIu67HuhoJQdHS2dY', 'https://tvn24.pl/swiat/ukraina-kijow-wital-szyszou-bialoruski-aktywista-zostal-znaleziony-martwy-w-parku-poinformowala-kijowska-policja-5164251', 'http://dlvr.it/S4x3rt', 'https://streamable.com/s/ro7rz1', 'https://belsat.eu/pl/news/03-08-2021-ukraina-bialoruski-aktywista-znaleziony-powieszony-w-parku/ https://twitter.com/Bielsat_pl/status/1422257639849959435', 'https://dorzeczy.pl/swiat/193618/ukraina-bialoruski-aktywista-wital-szyszou-znaleziony-martwy.html', 'https://leonardo.neon24.pl/post/162967,litwa-i-estonia-i-lotwa-tak-jak-banderowska-ukraina-hanba', 'https://uacrisis.org/en/fallen-defenders-of-july-2021', 'https://wiadomosci.dziennik.pl/swiat/artykuly/8219997,powieszenie-bialoruski-aktywista-wital-szyszoua-ukraina-kijow.html?utm_source=dlvr.it&utm_medium=twitter', 'https://brandsit.pl/ukraina-bialoruski-aktywista-znaleziony-powieszony-w-parku/', 'https://youtu.be/M5entt08_fg', 'https://brandsit.pl/ukraina-bialoruski-aktywista-znaleziony-powieszony-w-parku-2/', 'https://wiadomosci.dziennik.pl/swiat/artykuly/8219997,powieszenie-bialoruski-aktywista-wital-szyszoua-ukraina-kijow.html?utm_source=dlvr.it&utm_medium=twitter', 'https://www.onet.pl/informacje/onetwiadomosci/ukraina-bialoruski-aktywista-znaleziony-powieszony-w-parku/b1ne4b6,79cfc278', 'https://www.onet.pl/informacje/onetwiadomosci/ukraina-bialoruski-aktywista-znaleziony-powieszony-w-parku/b1ne4b6,79cfc278', 'http://dlvr.it/S4x3rt', 'https://tvn24.pl/swiat/ukraina-w-parku-w-kijowie-znaleziono-we-wtorek-cialo-bialoruskiego-aktywisty-witala-szyszoua-5164251', 'https://wydarzenia.interia.pl/swiat/news-ukraina-bialorusin-wital-szyszou-powieszony-w-parku,nId,5397771#utm_source=paste&utm_medium=paste&utm_campaign=chrome', 'http://m.in https://www.onet.pl/informacje/onetwiadomosci/ukraina-bialoruski-aktywista-znaleziony-powieszony-w-parku/b1ne4b6,79cfc278', 'https://dorzeczy.pl/swiat/193618/ukraina-bialoruski-aktywista-wital-szyszou-znaleziony-martwy.html', 'https://radioszczecin.pl/6,426928,szef-domu-bialoruskiego-na-ukrainie-nie-zyje', 'https://belsat.eu/pl/news/02-08-2021-apel-ministra-zdrowia-ukrainy-zadnego-alkoholu-podczas-obchodow-rocznicy-niepodleglosci/', 'https://youtu.be/aYWUoGeiGVA', 'https://www.teraz-srodowisko.pl/aktualnosci/kontrola-raport-odpady-niebezpieczne-przewoz-Polska-Ukraina-Slowacja-10670.html', 'https://www.ukrinform.pl/rubric-economy/3290525-ukraina-ma-wszelkie-mozliwosci-aby-uniemozliwic-komercyjne-wykorzystanie-nord-stream-2-witrenko.html', 'https://kryptowaluty.info.pl/ukraina-coraz-blizej-cyfrowej-hrywny/', 'https://belsat.eu/pl/news/02-08-2021-ukraina-rozwaza-objecie-ograniczeniami-niezaszczepionych/', 'https://bit.ly/2VqlCvQ', 'https://kresy.pl/?p=756230', 'https://www.polskieradio24.pl/5/1223/Artykul/2782064,Trojkat-Lubelski-Ekspert-PISM-Polska-Litwa-i-Ukraina-musza-byc-aktywne-dzialac-razem-w-obliczu-budowy-NS2', 'http://ow.ly/jDTl50FJ435', 'https://wiadomosci.onet.pl/swiat/cimanouska-otrzymala-od-polski-wize-humanitarna-jej-maz-uciekl-z-bialorusi/l1enspm', 'https://wiadomosci.dziennik.pl/swiat/artykuly/8219466,ukraina-ograniczenia-niezaszczepieni.html?utm_source=dlvr.it&utm_medium=twitter', 'https://buff.ly/3iiGgXY', 'http://www.fsb.ru/fsb/press/message/single.htm%21id%3D10439260%40fsbMessage.html', 'https://www.euractiv.pl/section/gospodarka/news/politycy-z-usa-i-europy-ponord-stream-2-usa-rosja-polska-kraje-baltyckie-niemcy-ukraina-gazociag-putin-merkel-klich-menendez-pgnig/', 'https://tvn24.pl/swiat/ukraina-w-parku-w-kijowie-znaleziono-we-wtorek-cialo-bialoruskiego-aktywisty-witalija-sziszowa-5164251', 'https://tvn24.pl/swiat/ukraina-elektroniczny-spis-ludnosci-3228087', 'https://allrestaurants.eu/ru/restorany/evropeyskaya/ukraina-1/luts-k/kurin', 'http://GazetaPrawna.pl https://serwisy.gazetaprawna.pl/zdrowie/artykuly/8208328,szczepionki-z-polski-partnerstwo-wschodnie-ukraina-gruzja.html', 'https://kosciol.wiara.pl/doc/7004263.Ukraina-rocznica-smierci-duszpasterza-czasow-sowieckich', 'https://twitter.com/Rybitzky/status/1422087620985856005', 'https://twitter.com/Rafi__X/status/1422078223685390337', \"https://www.google.com/maps/place/Dom+Franciszka+Biesiadeckiego,+Henerala+Chuprynky+St,+52,+L'viv,+L'vivs'ka+oblast,+Ukraina,+79000/@49.8314698,24.0103183,3a,83.3y,323.96h,102.74t/data=!3m6!1e1!3m4!1s6oKrqHWif6VoaeQGxAX4HA!2e0!7i13312!8i6656!4m5!3m4!1s0x473add7e9db08349:0x12d0ff75be581c08!8m2!3d49.8316648!4d24.0100935\", 'https://dobrewiadomosci.net.pl/52397-ukraina-12-latka-uratowala-czworo-dzieci-podczas-powodzi-dostala-medal-od-prezydenta/', 'https://biznesalert.pl/polska-i-ukraina-przeszkody-nord-stream-2-certyfikacja-sankcje-usa-energetyka-gaz/', 'https://www.vaticannews.va/pl/swiat/news/2021-08/ukraina-rocznica-smierci-ks-maczynskiego.html', 'https://www.vaticannews.va/pl/swiat/news/2021-08/ukraina-rocznica-smierci-ks-maczynskiego.html', 'https://sport.poinformowani.pl/artykul/38062-tokio-2020-1-sierpnia-live?rel=popular', 'http://wjakobik.com/2021/07/31/polska-i-ukraina-tworza-nowe-przeszkody-dla-nord-stream-2-pomimo-propozycji-ukladu-usa-niemcy/', 'https://biznesalert.pl/polska-i-ukraina-przeszkody-nord-stream-2-certyfikacja-sankcje-usa-energetyka-gaz/', 'https://kresy24.pl/polska-i-ukraina-tworza-nowe-przeszkody-dla-nord-stream-2/', 'https://maps.app.goo.gl/9kMBrnzxmSL79VGv5', 'https://twitter.com/cezarygmyz/status/1421773074513506309', 'https://weszlo.com/2021/08/01/ukraina-bez-selekcjonera-szewczenko-zrezygnowal/', 'https://wyborcza.pl/magazyn/7,124059,27384029,petro-poroszenko-dla-wyborczej-ukraincy-nie-pretenduja-do.html', 'https://www.euractiv.pl/section/polityka-zagraniczna-ue/news/niemcy-rosja-berlin-moskwa-angela-merkel-wladimir-putin-scholz-laschet-baerbock-cdu-spd-zieloni-wybory-nord-stream-ukraina/', 'https://ift.tt/3xjPfw9', 'http://wjakobik.com/2021/07/24/uklad-o-nord-stream-2-zbiera-ponadpartyjna-krytyke-w-usa-polska-i-ukraina-lacza-sily/', 'https://twitter.com/kasia_dw/status/1421725449672171520', 'https://biznesalert.pl/polska-i-ukraina-przeszkody-nord-stream-2-certyfikacja-sankcje-usa-energetyka-gaz/', 'https://tech.wp.pl/znalezli-pomysl-na-czarnobyl-wiemy-co-ukraina-bedzie-tam-trzymac-6667474618018688a', 'https://biznesalert.pl/polska-i-ukraina-przeszkody-nord-stream-2-certyfikacja-sankcje-usa-energetyka-gaz/', 'https://www.polskieradio24.pl/5/1223/Artykul/2782064,Trojkat-Lubelski-Ekspert-PISM-Polska-Litwa-i-Ukraina-musza-byc-aktywne-dzialac-razem-w-obliczu-budowy-NS2', 'https://wyborcza.pl/magazyn/7,124059,27388209,wladimir-putin-o-historycznej-jednosci-rosjan-i-ukraincow.html', 'https://wyborcza.pl/magazyn/7,124059,27388209,wladimir-putin-o-historycznej-jednosci-rosjan-i-ukraincow.html', 'https://biznesalert.pl/polska-i-ukraina-przeszkody-nord-stream-2-certyfikacja-sankcje-usa-energetyka-gaz/', 'https://twitter.com/Arteem_05/status/1421424894840037385', 'https://biznesalert.pl/polska-i-ukraina-przeszkody-nord-stream-2-certyfikacja-sankcje-usa-energetyka-gaz/', 'http://m.in', 'https://biznesalert.pl/polska-i-ukraina-przeszkody-nord-stream-2-certyfikacja-sankcje-usa-energetyka-gaz/', 'https://twitter.com/c00rty/status/1421401283437727744', 'https://biznesalert.pl/polska-i-ukraina-przeszkody-nord-stream-2-certyfikacja-sankcje-usa-energetyka-gaz/', 'https://biznesalert.pl/ukraina-czarnobyl-paliwo-jadrowe-atom/', 'https://kresy.pl/wydarzenia/regiony/ukraina/w-centrum-stolicy-wolynia-zostanie-wzniesiony-pomnik-stepana-bandery/', 'https://biznesalert.pl/polska-i-ukraina-przeszkody-nord-stream-2-certyfikacja-sankcje-usa-energetyka-gaz/', 'https://biznesalert.pl/polska-i-ukraina-przeszkody-nord-stream-2-certyfikacja-sankcje-usa-energetyka-gaz/', 'https://biznesalert.pl/polska-i-ukraina-przeszkody-nord-stream-2-certyfikacja-sankcje-usa-energetyka-gaz/', 'https://biznesalert.pl/polska-i-ukraina-przeszkody-nord-stream-2-certyfikacja-sankcje-usa-energetyka-gaz/', 'https://biznesalert.pl/polska-i-ukraina-przeszkody-nord-stream-2-certyfikacja-sankcje-usa-energetyka-gaz/', 'https://biznesalert.pl/polska-i-ukraina-przeszkody-nord-stream-2-certyfikacja-sankcje-usa-energetyka-gaz/', 'https://biznesalert.pl/polska-i-ukraina-przeszkody-nord-stream-2-certyfikacja-sankcje-usa-energetyka-gaz/', 'https://www.ukrinform.pl/rubric-polytics/3289945-po-raz-pierwszy-od-uzyskania-niepodlegosci-ukraina-zatwierdzia-strategie-polityki-zagranicznej.html', 'https://biznesalert.pl/polska-i-ukraina-przeszkody-nord-stream-2-certyfikacja-sankcje-usa-energetyka-gaz/', 'https://biznesalert.pl/polska-i-ukraina-przeszkody-nord-stream-2-certyfikacja-sankcje-usa-energetyka-gaz/', 'https://twitter.com/p_zuchowski/status/1421347821203202049', 'https://kresy.pl/wydarzenia/regiony/ukraina/w-centrum-stolicy-wolynia-zostanie-wzniesiony-pomnik-stepana-bandery/', 'https://biznesalert.pl/polska-i-ukraina-przeszkody-nord-stream-2-certyfikacja-sankcje-usa-energetyka-gaz/', 'https://biznesalert.pl/polska-i-ukraina-przeszkody-nord-stream-2-certyfikacja-sankcje-usa-energetyka-gaz/', 'https://biznesalert.pl/polska-i-ukraina-przeszkody-nord-stream-2-certyfikacja-sankcje-usa-energetyka-gaz/', 'https://biznesalert.pl/polska-i-ukraina-przeszkody-nord-stream-2-certyfikacja-sankcje-usa-energetyka-gaz/', 'https://biznesalert.pl/polska-i-ukraina-przeszkody-nord-stream-2-certyfikacja-sankcje-usa-energetyka-gaz/', 'https://biznesalert.pl/polska-i-ukraina-przeszkody-nord-stream-2-certyfikacja-sankcje-usa-energetyka-gaz/', 'https://allrestaurants.eu/ru/restorany/evropeyskaya/ukraina-1/kiev/kozachok-centralna', 'https://biznesalert.pl/polska-i-ukraina-przeszkody-nord-stream-2-certyfikacja-sankcje-usa-energetyka-gaz/', 'https://biznesalert.pl/polska-i-ukraina-przeszkody-nord-stream-2-certyfikacja-sankcje-usa-energetyka-gaz/', 'https://kresy.pl/wydarzenia/regiony/ukraina/w-centrum-stolicy-wolynia-zostanie-wzniesiony-pomnik-stepana-bandery/', 'https://kresy.pl/?p=755922', 'https://www.salon24.pl/u/marek-w/1154556,reanimacja-polskiej-polityki-wschodniej', 'https://biznesalert.pl/polska-i-ukraina-przeszkody-nord-stream-2-certyfikacja-sankcje-usa-energetyka-gaz/', 'https://biznesalert.pl/polska-i-ukraina-przeszkody-nord-stream-2-certyfikacja-sankcje-usa-energetyka-gaz/', 'https://biznesalert.pl/polska-i-ukraina-przeszkody-nord-stream-2-certyfikacja-sankcje-usa-energetyka-gaz/', 'https://biznesalert.pl/polska-i-ukraina-przeszkody-nord-stream-2-certyfikacja-sankcje-usa-energetyka-gaz/', 'https://biznesalert.pl/polska-i-ukraina-przeszkody-nord-stream-2-certyfikacja-sankcje-usa-energetyka-gaz/', 'https://forsal.pl/swiat/ukraina/artykuly/8218279,dlugo-oczekiwana-zmiana-pokoleniowa-w-ukrainskiej-armii.html?utm_source=dlvr.it&utm_medium=twitter', 'https://kresy.pl/?p=755806', 'https://www.thepaper.cn/newsDetail_forward_13709733', 'https://foreignpolicy.com/2021/07/27/ukraine-wont-stop-fighting-nord-stream-deal-germany-us/', 'https://www.thepaper.cn/newsDetail_forward_13709733', 'https://www.thepaper.cn/newsDetail_forward_13709733', 'https://ift.tt/2Fhq0n2', 'https://forsal.pl/swiat/ukraina/artykuly/8218390,tory-w-strefie-czarnobylskiej-sa-gotowe-do-przewozu-zuzytego-paliwa-jadrowego.html?utm_source=dlvr.it&utm_medium=twitter', 'https://kresy.pl/?p=755784', 'https://www.portalmorski.pl/porty-logistyka/10593-baltycka-ukraina https://radioolsztyn.pl/port-w-elblagu-dedykujemy-ukrainie-i-bialorusi/01301058 http://www.maritime.com.pl/newsletter/indexm.php?id_term=43958', 'https://bit.ly/3fcoZ0y', 'https://www.thepaper.cn/newsDetail_forward_13709733', 'https://youtu.be/geNpA3b4yWs', 'https://www.portalmorski.pl/porty-logistyka/10593-baltycka-ukraina https://radioolsztyn.pl/port-w-elblagu-dedykujemy-ukrainie-i-bialorusi/01301058 http://www.maritime.com.pl/newsletter/indexm.php?id_term=43958', 'https://ift.tt/2pqaTyT', 'https://kresy.pl/?p=755784', 'https://www.energetyka24.com/ukraina-bedziemy-przygladac-sie-certyfikacji-ns2-liczymy-na-wsparcie-polski-i-ke', 'https://btcpolska.com/1451-newsy-z-dnia-30-07-2021/', 'https://foreignpolicy.com/2021/07/27/ukraine-wont-stop-fighting-nord-stream-deal-germany-us/', 'https://foreignpolicy.com/2021/07/27/ukraine-wont-stop-fighting-nord-stream-deal-germany-us/', 'https://www.defence24.pl/ukraina-poligonowe-test-rakiet-toczka-u-i-tajfun-1-wideo', 'https://www.defence24.pl/ukraina-w-armii-trwa-zmiana-pokoleniowa', 'https://www.defence24.pl/ukraina-poligonowe-test-rakiet-toczka-u-i-tajfun-1-wideo', 'https://twitter.com/AnnaSk75324313/status/1421145741372837889', 'https://twitter.com/zus_pl/status/1421032903828455428', 'http://bit.ly/3zT5tOC', 'https://www.nik.gov.pl/aktualnosci/ukrainsko-polsko-slowacka-kontrola-przewozu-odpadow-niebezpiecznych.html', 'https://www.defence24.pl/ukraina-w-armii-trwa-zmiana-pokoleniowa', 'https://www.thepaper.cn/newsDetail_forward_13709733', 'https://www.defence24.pl/ukraina-w-armii-trwa-zmiana-pokoleniowa', 'https://www.energetyka24.com/ukraina-bedziemy-przygladac-sie-certyfikacji-ns2-liczymy-na-wsparcie-polski-i-ke', 'https://tvrepublika.pl/Abp-Szewczuk-Ukraina-obawia-sie-nowej-inwazji-wojsk-rosyjskich,124296.html', 'https://www.defence24.pl/technologie/ukraina-kontrakt-na-pociski-r-27-za-200-mln-dolarow', 'https://www.onet.pl/informacje/onetwiadomosci/ue-ukraina-przytarla-nosa-europie-za-dopuszczenie-do-realizacji-nord-stream-2/fegg4gg,79cfc278', 'https://kresy.pl/?p=755695', 'https://www.ecpp.org.pl/shevchenko-przyczyny-powstania-stowarzyszonego-trio-sa-takie-same-jak-w-przypadku-v4/', 'https://wiadomosci.onet.pl/politico/ue-ukraina-przytarla-nosa-europie-za-dopuszczenie-do-realizacji-nord-stream-2/fegg4gg', 'https://www.defence24.pl/ukraina-kontrakt-na-pociski-r-27-za-200-mln-dolarow', 'https://twitter.com/Jzef13437877/status/1420367797176176642', 'https://www.defence24.pl/ukraina-kontrakt-na-pociski-r-27-za-200-mln-dolarow', 'https://twitter.com/Jzef13437877/status/1420367797176176642', 'https://twitter.com/Mediavenir/status/1420799799188725764', 'https://twitter.com/Mediavenir/status/1420799799188725764', 'https://twitter.com/dominikpiechota/status/1420770485365772291', 'https://twitter.com/Mediavenir/status/1420799799188725764', 'https://biznesalert.pl/polska-i-ukraina-przeszkody-nord-stream-2-certyfikacja-sankcje-usa-energetyka-gaz/', 'https://wiadomosci.onet.pl/swiat/ukraina-szef-frakcji-rzadzacej-moglibysmy-szantazowac-caly-swiat/837c3d0', 'https://www.stockwatch.pl/wiadomosci/pkn-orlen-mozejki-z-nowym-polaczeniem-kolejowym-z-ukraina,akcje,284459', 'https://www.defence24.pl/technologie/ukraina-kontrakt-na-pociski-r-27-za-200-mln-dolarow', 'https://www.defence24.pl/ukraina-kontrakt-na-pociski-r-27-za-200-mln-dolarow', 'https://www.defence24.pl/jak-ukraina-broni-wybrzeza-analiza#.YQMA-OZ3ALY.twitter', 'https://forsal.pl/swiat/ukraina/artykuly/8217976,republikanie-zapowiadaja-blokowanie-kandydatow-bidena-w-zwiazku-z-polityka-wobec-ns2.html?utm_source=dlvr.it&utm_medium=twitter', 'https://bit.ly/3ldbVvE', 'https://foreignpolicy.com/2021/07/27/ukraine-wont-stop-fighting-nord-stream-deal-germany-us/', 'https://wiadomosci.onet.pl/politico/ue-ukraina-przytarla-nosa-europie-za-dopuszczenie-do-realizacji-nord-stream-2/fegg4gg', 'https://www.onet.pl/informacje/onetwiadomosci/ue-ukraina-przytarla-nosa-europie-za-dopuszczenie-do-realizacji-nord-stream-2/fegg4gg,79cfc278', 'https://www.tvp.info/55109561/lubelskie-proba-przemytu-papierosow-z-uzyciem-drona-przy-granicy-z-ukraina', 'https://wpolityce.pl/swiat/560570-ukraina-czujemy-sie-zdradzeni-sytuacja-wokol-ns2', 'https://biznes.gazetaprawna.pl/energetyka/artykuly/8217950,ukraina-czujemy-sie-zdradzeni-sytuacja-wokol-nord-stream-2.html?utm_source=dlvr.it&utm_medium=twitter', 'https://www.tvp.info/55109561/lubelskie-proba-przemytu-papierosow-z-uzyciem-drona-przy-granicy-z-ukraina', 'https://kresy.pl/?p=755660', 'https://wiadomosci.onet.pl/politico/ue-ukraina-przytarla-nosa-europie-za-dopuszczenie-do-realizacji-nord-stream-2/fegg4gg', 'https://kresy24.pl/ukraina-zdobyla-czwarty-medal-na-igrzyskach-olimpijskich-w-tokio/', 'http://wjakobik.com/2021/07/29/ukraina-chce-konsultacji-w-sprawie-nord-stream-2-i-uzywa-zwyciestwa-polski-w-sprawie-opal/', 'https://wiadomosci.onet.pl/politico/ue-ukraina-przytarla-nosa-europie-za-dopuszczenie-do-realizacji-nord-stream-2/fegg4gg', 'https://twitter.com/Defence24pl/status/1420690434406354944', 'https://twitter.com/aarniss/status/1420628773045743620', 'https://www.tvp.info/55109561/lubelskie-proba-przemytu-papierosow-z-uzyciem-drona-przy-granicy-z-ukraina', 'https://www.tvp.info/55109561/lubelskie-proba-przemytu-papierosow-z-uzyciem-drona-przy-granicy-z-ukraina', 'https://strategie2050.pl/analiza-nord-stream-czyli-witamy-w-nowym-swiecie/', 'https://tvn24.pl/swiat/ukraina-katastrofa-sportowego-samolotu-uderzyl-w-prywatny-dom-kobieta-i-dwoje-dzieci-zdolali-wybiec-na-zewnatrz-5160849', 'https://wiadomosci.dziennik.pl/swiat/artykuly/8217660,ukraina-bron-jadrowa.html', 'https://forsal.pl/swiat/ukraina/artykuly/8217917,szef-ukrainskiego-czujemy-sie-zdradzeni-sytuacja-wokol-ns2.html?utm_source=dlvr.it&utm_medium=twitter', 'https://wpolityce.pl/swiat/560570-ukraina-czujemy-sie-zdradzeni-sytuacja-wokol-ns2', 'https://www.tvp.info/55109561/lubelskie-proba-przemytu-papierosow-z-uzyciem-drona-przy-granicy-z-ukraina', 'https://www.tvp.info/55109561/lubelskie-proba-przemytu-papierosow-z-uzyciem-drona-przy-granicy-z-ukraina', 'https://gospodarka.dziennik.pl/news/artykuly/8217915,serhij-makohon-ukraina-nord-stream-2.html?utm_source=dlvr.it&utm_medium=twitter', 'https://foreignpolicy.com/2021/07/27/ukraine-wont-stop-fighting-nord-stream-deal-germany-us/', 'https://kresy24.pl/ukraina-zdobyla-czwarty-medal-na-igrzyskach-olimpijskich-w-tokio/', 'https://www.defence24.pl/ukraina-kontrakt-na-pociski-r-27-za-200-mln-dolarow', 'https://www.polsatnews.pl/wiadomosc/2021-07-29/lubelskie-proba-przemytu-papierosow-z-uzyciem-drona-przy-granicy-z-ukraina/?ref=kafle', 'https://forsal.pl/swiat/ukraina/artykuly/8217976,republikanie-zapowiadaja-blokowanie-kandydatow-bidena-w-zwiazku-z-polityka-wobec-ns2.html?utm_source=dlvr.it&utm_medium=twitter', 'https://www.tvp.info/55109561/lubelskie-proba-przemytu-papierosow-z-uzyciem-drona-przy-granicy-z-ukraina', 'https://foreignpolicy.com/2021/07/27/ukraine-wont-stop-fighting-nord-stream-deal-germany-us/', 'https://dorzeczy.pl/zdrowie/193051/ukraina-kwarantanna-dla-niezaszczepionych-wjezdzajacych-z-rosji-i-indii.html', 'https://www.tvp.info/55109561/lubelskie-proba-przemytu-papierosow-z-uzyciem-drona-przy-granicy-z-ukraina', 'https://serwisy.gazetaprawna.pl/zdrowie/artykuly/8208328,szczepionki-z-polski-partnerstwo-wschodnie-ukraina-gruzja.html', 'https://foreignpolicy.com/2021/07/27/ukraine-wont-stop-fighting-nord-stream-deal-germany-us/', 'https://biznesalert.pl/ukraina-chce-konsultacji-w-sprawie-nord-stream-2-i-uzywa-zwyciestwa-polski-w-sprawie-opal/', 'https://foreignpolicy.com/2021/07/27/ukraine-wont-stop-fighting-nord-stream-deal-germany-us/', 'http://Polski.To https://wiadomosci.onet.pl/swiat/ue-ukraina-przytarla-nosa-europie-za-dopuszczenie-do-realizacji-nord-stream-2/64xknsf', 'https://kurierwilenski.lt/2021/07/29/ukraina-przekaze-litwie-drut-kolczasty-do-budowy-ogrodzenia-na-granicy/', 'https://biznesalert.pl/ukraina-chce-konsultacji-w-sprawie-nord-stream-2-i-uzywa-zwyciestwa-polski-w-sprawie-opal/', 'https://wiadomosci.dziennik.pl/swiat/artykuly/8217660,ukraina-bron-jadrowa.html?utm_source=dlvr.it&utm_medium=twitter', 'https://wiadomosci.onet.pl/politico/ue-ukraina-przytarla-nosa-europie-za-dopuszczenie-do-realizacji-nord-stream-2/fegg4gg', 'https://twitter.com/OnetWiadomosci/status/1420668442034663425', 'http://dlvr.it/S4dsmR', 'https://biznesalert.pl/ukraina-chce-konsultacji-w-sprawie-nord-stream-2-i-uzywa-zwyciestwa-polski-w-sprawie-opal/', 'https://wiadomosci.onet.pl/politico/ue-ukraina-przytarla-nosa-europie-za-dopuszczenie-do-realizacji-nord-stream-2/fegg4gg', 'https://forsal.pl/swiat/ukraina/artykuly/8217665,szef-frakcji-rzadzacej-na-ukrainie-gdybysmy-mieli-potencjal-jadrowy-moglibysmy-szantazowac-swiat.html?utm_source=dlvr.it&utm_medium=twitter', 'https://www.defensenews.com/naval/2021/07/28/ukrainian-official-reveals-number-of-ada-class-corvettes-on-order-from-turkey/', 'https://trimarium.pl/ukraina-chce-wykorzystac-prawodawstwo-unijne-do-walki-z-nord-stream-2/', 'https://forsal.pl/swiat/ukraina/artykuly/8217665,szef-frakcji-rzadzacej-na-ukrainie-gdybysmy-mieli-potencjal-jadrowy-moglibysmy-szantazowac-swiat.html?utm_source=dlvr.it&utm_medium=twitter', 'https://biznesalert.pl/ukraina-chce-konsultacji-w-sprawie-nord-stream-2-i-uzywa-zwyciestwa-polski-w-sprawie-opal/', 'http://www.hokej.net/pl/news,artykul,5,58804', 'http://Polski.To', 'https://twitter.com/konrad_cybulski/status/1420676287182643201', 'https://foreignpolicy.com/2021/07/27/ukraine-wont-stop-fighting-nord-stream-deal-germany-us/', 'https://www.polsatnews.pl/wiadomosc/2021-07-29/lubelskie-proba-przemytu-papierosow-z-uzyciem-drona-przy-granicy-z-ukraina/?ref=aside_najnowsze', 'https://www.defence24.pl/ukraina-kontrakt-na-pociski-r-27-za-200-mln-dolarow', 'http://dlvr.it/S4dpRn', 'https://foreignpolicy.com/2021/07/27/ukraine-wont-stop-fighting-nord-stream-deal-germany-us/', 'https://foreignpolicy.com/2021/07/27/ukraine-wont-stop-fighting-nord-stream-deal-germany-us/', 'https://sott.net/en456111', 'https://foreignpolicy.com/2021/07/27/ukraine-wont-stop-fighting-nord-stream-deal-germany-us/', 'https://www.onet.pl/informacje/onetwiadomosci/ue-ukraina-przytarla-nosa-europie-za-dopuszczenie-do-realizacji-nord-stream-2/fegg4gg,79cfc278', 'https://wiadomosci.onet.pl/politico/ue-ukraina-przytarla-nosa-europie-za-dopuszczenie-do-realizacji-nord-stream-2/fegg4gg', 'https://isidorium.info/2021/07/28/ukraina-rozbili-siatke-handlujaca-dziecmi-na-skale-miedzynarodowa/', 'https://biznesalert.pl/ukraina-chce-konsultacji-w-sprawie-nord-stream-2-i-uzywa-zwyciestwa-polski-w-sprawie-opal/', 'https://foreignpolicy.com/2021/07/27/ukraine-wont-stop-fighting-nord-stream-deal-germany-us/', 'https://ssu.gov.ua/novyny/sbu-vykryla-skhemu-prodazhu-nemovliat-za-kordon-dytyna-pid-kliuch-koshtuvala-60-tysiach-dolariv', 'https://foreignpolicy.com/2021/07/27/ukraine-wont-stop-fighting-nord-stream-deal-germany-us/', 'http://adinfo24.pl/swiat/1682307,katastrofa_lotnicza_na_ukrainie_samolot_spadl_na_dom.html', 'https://foreignpolicy.com/2021/07/27/ukraine-wont-stop-fighting-nord-stream-deal-germany-us/', 'https://foreignpolicy.com/2021/07/27/ukraine-wont-stop-fighting-nord-stream-deal-germany-us/', 'https://biznesalert.pl/ukraina-chce-konsultacji-w-sprawie-nord-stream-2-i-uzywa-zwyciestwa-polski-w-sprawie-opal/', 'https://www.vaticannews.va/pl/swiat/news/2021-07/ukraina-pamiec-o-tych-ktorzy-podczas-ii-wojny-ratowali-zydow.html', 'https://www.radiomaryja.pl/informacje/ukraina-przekaze-litwie-drut-kolczasty-do-ochrony-granicy/', 'https://biznesalert.pl/ukraina-chce-konsultacji-w-sprawie-nord-stream-2-i-uzywa-zwyciestwa-polski-w-sprawie-opal/', 'https://twitter.com/mariaprzeomiec/status/1420318954661240835', 'https://www.strazgraniczna.pl/pl/aktualnosci/9317,Nielegalni-imigranci-zatrzymani-po-poscigu.html', 'https://foreignpolicy.com/2021/07/27/ukraine-wont-stop-fighting-nord-stream-deal-germany-us/', 'https://kresy.pl/?p=755560', 'http://tinyurl.com/yfaphkml', 'https://foreignpolicy.com/2021/07/27/ukraine-wont-stop-fighting-nord-stream-deal-germany-us/', 'https://foreignpolicy.com/2021/07/27/ukraine-wont-stop-fighting-nord-stream-deal-germany-us/', 'https://biznesalert.pl/ukraina-chce-konsultacji-w-sprawie-nord-stream-2-i-uzywa-zwyciestwa-polski-w-sprawie-opal/', 'https://foreignpolicy.com/2021/07/27/ukraine-wont-stop-fighting-nord-stream-deal-germany-us/', 'https://kresy.pl/?p=755521', 'https://www.niedziela.pl/artykul/70573/Pamiec-o-tych-ktorzy-podczas-II-wojny', 'https://foreignpolicy.com/2021/07/27/ukraine-wont-stop-fighting-nord-stream-deal-germany-us/', 'https://biznesalert.pl/ukraina-chce-konsultacji-w-sprawie-nord-stream-2-i-uzywa-zwyciestwa-polski-w-sprawie-opal/', 'https://foreignpolicy.com/2021/07/27/ukraine-wont-stop-fighting-nord-stream-deal-germany-us/']\n"
          ]
        }
      ]
    },
    {
      "cell_type": "markdown",
      "source": [
        "5 \n"
      ],
      "metadata": {
        "id": "oyuErwzD-yvA"
      }
    },
    {
      "cell_type": "code",
      "source": [
        "obrazki = df.loc[df['media'].str.contains('http', na=False), 'urls'].str.extract('(http.*)', expand=False).tolist()"
      ],
      "metadata": {
        "id": "zWYvEmYw96kl"
      },
      "execution_count": 41,
      "outputs": []
    },
    {
      "cell_type": "code",
      "source": [
        "print(obrazki)"
      ],
      "metadata": {
        "colab": {
          "base_uri": "https://localhost:8080/"
        },
        "id": "rDN-WWqY_JIg",
        "outputId": "debe2b8a-8029-4cc1-85cd-304e37435bda"
      },
      "execution_count": 42,
      "outputs": [
        {
          "output_type": "stream",
          "name": "stdout",
          "text": [
            "['https://help.twitch.tv/s/article/local-sub-price-countries?language=en_US#latam', nan, nan, nan, nan, 'https://kurs-na-funta.pl/informacje/podatki-w-europie-srodkowej-i-wschodniej/', nan, 'https://kresy24.pl/tokio-2020-ukraina-zdobyla-dzisiaj-cztery-medale-olimpijskie/', 'http://adinfo24.pl/swiat/1682554,bialorusini_z_dodatkowa_ochrona_od_ukrainy_jest_deklaracja_prezydenta_zelenskiego.html', nan, 'https://monitor-press.com/pl/konkursy/9516-28616.html', 'https://strategyandfuture.org/wschodnie-obserwatorium-ukraincy-dyskutuja-a-ich-debata-w-zaskakujacy-sposob-przypomina-polskie-spory/', 'https://buff.ly/3fs1rVm', 'https://www.amnesty.org/en/latest/news/2021/08/ukraine-authorities-must-conduct-effective-investigation-into-suspicious-death-of-prominent-belarusian-exile', 'https://kresy24.pl/lukasz-adamski-martyrologia-i-walka-ukraina-w-czasie-ii-wojnie-swiatowej-czego-nie-wiedza-polacy-a-czego-nie-rozumieja-ukraincy/', 'https://www.roland-gazeta.pl/najnowsze/wycieczka-na-trasie-lwow-podole-stanislawow-lukowiec-ostanie-wolne-miejsca', 'https://kresy24.pl/kijow-policja-zatrzymala-mezczyzne-z-granatem-ktory-wtargnal-do-pomieszczen-kancelarii-rady-ministrow/ https://twitter.com/m_pasierb/status/1422832573684846592', 'https://www.strazgraniczna.pl/pl/aktualnosci/9342,Udawali-surwiwalowcow.html', 'https://kresy24.pl/kijow-policja-zatrzymala-mezczyzne-z-granatem-ktory-wtargnal-do-pomieszczen-kancelarii-rady-ministrow/', nan, 'http://dlvr.it/S50lrz', nan, nan, 'https://bit.ly/3ytO3HW', 'http://adinfo24.pl/swiat/1682519,specjalna_akcja_przed_ambasada_bialorusi_w_kijowie_upamietniono_aktywiste_witala_szyszoua.html', 'http://dlvr.it/S4yNyz', nan, 'http://adinfo24.pl/swiat/1682529,wital_szyszou_znaleziony_martwy_w_kijowie_upamietnili_aktywiste_przed_ambasada_bialorusi.html', 'http://dlvr.it/S4yNyz', 'http://dlvr.it/S4xMlG', 'https://buff.ly/3lmbsrb', 'http://bit.ly/2TPKrkq', 'http://adinfo24.pl/swiat/1682495,aktywista_znaleziony_powieszony_w_parku_to_szef_domu_bialoruskiego_na_ukrainie.html', 'https://www.rynek-kolejowy.pl/wiadomosci/ukraina-pierwsze-slupy-trakcyjne-na-elektryfikowanej-linii-kolejowej-do-polski-103732.html', 'https://www.youtube.com/watch?v=xc24doofd58', nan, 'http://dlvr.it/S4x3rt', 'https://belsat.eu/pl/news/03-08-2021-ukraina-bialoruski-aktywista-znaleziony-powieszony-w-parku/ https://twitter.com/Bielsat_pl/status/1422257639849959435', 'https://leonardo.neon24.pl/post/162967,litwa-i-estonia-i-lotwa-tak-jak-banderowska-ukraina-hanba', 'https://belsat.eu/pl/news/02-08-2021-apel-ministra-zdrowia-ukrainy-zadnego-alkoholu-podczas-obchodow-rocznicy-niepodleglosci/', nan, 'https://kryptowaluty.info.pl/ukraina-coraz-blizej-cyfrowej-hrywny/', nan, nan, 'https://buff.ly/3iiGgXY', nan, 'https://tvn24.pl/swiat/ukraina-w-parku-w-kijowie-znaleziono-we-wtorek-cialo-bialoruskiego-aktywisty-witalija-sziszowa-5164251', 'https://allrestaurants.eu/ru/restorany/evropeyskaya/ukraina-1/luts-k/kurin', nan, 'https://kresy24.pl/polska-i-ukraina-tworza-nowe-przeszkody-dla-nord-stream-2/', nan, 'https://ift.tt/3xjPfw9', nan, nan, 'https://allrestaurants.eu/ru/restorany/evropeyskaya/ukraina-1/kiev/kozachok-centralna', nan, nan, nan, 'https://youtu.be/geNpA3b4yWs', nan, nan, nan, 'http://bit.ly/3zT5tOC', 'https://www.nik.gov.pl/aktualnosci/ukrainsko-polsko-slowacka-kontrola-przewozu-odpadow-niebezpiecznych.html', nan, 'https://www.ecpp.org.pl/shevchenko-przyczyny-powstania-stowarzyszonego-trio-sa-takie-same-jak-w-przypadku-v4/', nan, nan, 'https://kresy24.pl/ukraina-zdobyla-czwarty-medal-na-igrzyskach-olimpijskich-w-tokio/', nan, 'https://kresy24.pl/ukraina-zdobyla-czwarty-medal-na-igrzyskach-olimpijskich-w-tokio/', nan, nan, 'http://dlvr.it/S4dsmR', nan, 'https://trimarium.pl/ukraina-chce-wykorzystac-prawodawstwo-unijne-do-walki-z-nord-stream-2/', 'http://www.hokej.net/pl/news,artykul,5,58804', 'http://dlvr.it/S4dpRn', nan, 'http://adinfo24.pl/swiat/1682307,katastrofa_lotnicza_na_ukrainie_samolot_spadl_na_dom.html', 'https://www.strazgraniczna.pl/pl/aktualnosci/9317,Nielegalni-imigranci-zatrzymani-po-poscigu.html']\n"
          ]
        }
      ]
    },
    {
      "cell_type": "markdown",
      "source": [
        "6"
      ],
      "metadata": {
        "id": "KopqjzE7Ltzj"
      }
    },
    {
      "cell_type": "code",
      "source": [
        "def remove_stopwords(text):\n",
        "    doc = nlp(text)\n",
        "    text_without_stopwords = \" \".join([token.text for token in doc if not token.is_stop])\n",
        "    return text_without_stopwords\n",
        "\n",
        "# wczytanie pliku csv\n",
        "df_Tweet = pd.read_csv(\"/content/czerw.csv\")\n",
        "\n",
        "# dodanie nowej kolumny z oczyszczonym tekstem\n",
        "df_Tweet[\"text_without_stopwords\"] = df[\"text\"].apply(remove_stopwords)"
      ],
      "metadata": {
        "id": "7EumghFOLtWt"
      },
      "execution_count": 135,
      "outputs": []
    },
    {
      "cell_type": "code",
      "source": [
        "df_Tweet"
      ],
      "metadata": {
        "colab": {
          "base_uri": "https://localhost:8080/",
          "height": 834
        },
        "id": "giFzlFW3Oqqd",
        "outputId": "63dc9177-d4bf-4bbb-e834-d6ceff1229e8"
      },
      "execution_count": 136,
      "outputs": [
        {
          "output_type": "execute_result",
          "data": {
            "text/plain": [
              "     coordinates                      created_at  \\\n",
              "0            NaN  Thu Aug 05 13:43:09 +0000 2021   \n",
              "1            NaN  Thu Aug 05 12:12:01 +0000 2021   \n",
              "2            NaN  Thu Aug 05 13:51:38 +0000 2021   \n",
              "3            NaN  Thu Aug 05 16:27:30 +0000 2021   \n",
              "4            NaN  Thu Aug 05 11:21:15 +0000 2021   \n",
              "...          ...                             ...   \n",
              "1391         NaN  Wed Jul 28 18:07:34 +0000 2021   \n",
              "1392         NaN  Wed Jul 28 20:51:14 +0000 2021   \n",
              "1393         NaN  Wed Jul 28 18:17:04 +0000 2021   \n",
              "1394         NaN  Wed Jul 28 19:41:36 +0000 2021   \n",
              "1395         NaN  Wed Jul 28 17:29:33 +0000 2021   \n",
              "\n",
              "                                    hashtags media  \\\n",
              "0                                        NaN   NaN   \n",
              "1                                        NaN   NaN   \n",
              "2                                        NaN   NaN   \n",
              "3                                        NaN   NaN   \n",
              "4                                        NaN   NaN   \n",
              "...                                      ...   ...   \n",
              "1391               Polaków Ukraińców Czechów   NaN   \n",
              "1392                                     NaN   NaN   \n",
              "1393                                     NaN   NaN   \n",
              "1394  PilnujmyPolski włączprawdę TVRepublika   NaN   \n",
              "1395                             NordStream2   NaN   \n",
              "\n",
              "                                                   urls  favorite_count  \\\n",
              "0                                                   NaN               1   \n",
              "1                                                   NaN               0   \n",
              "2                                                   NaN               0   \n",
              "3                                                   NaN               0   \n",
              "4                                                   NaN               0   \n",
              "...                                                 ...             ...   \n",
              "1391                                                NaN               0   \n",
              "1392  https://biznesalert.pl/ukraina-chce-konsultacj...               0   \n",
              "1393                                                NaN               0   \n",
              "1394                                                NaN               6   \n",
              "1395  https://foreignpolicy.com/2021/07/27/ukraine-w...               0   \n",
              "\n",
              "                       id in_reply_to_screen_name  in_reply_to_status_id  \\\n",
              "0     1423278406167187458               tomo9000p           1.423265e+18   \n",
              "1     1423255469389406209                     NaN                    NaN   \n",
              "2     1423280539981602821               lukasz_nd           1.423278e+18   \n",
              "3     1423319766320697345                     NaN                    NaN   \n",
              "4     1423242694114091008                     NaN                    NaN   \n",
              "...                   ...                     ...                    ...   \n",
              "1391  1420445844260761603                     NaN                    NaN   \n",
              "1392  1420487031831007234                     NaN                    NaN   \n",
              "1393  1420448234250592257                     NaN                    NaN   \n",
              "1394  1420469508100198407                     NaN                    NaN   \n",
              "1395  1420436276004757504                     NaN                    NaN   \n",
              "\n",
              "      in_reply_to_user_id  ... user_friends_count user_listed_count  \\\n",
              "0            9.188923e+17  ...                494                 8   \n",
              "1                     NaN  ...               1335                10   \n",
              "2            9.211491e+17  ...               1307                10   \n",
              "3                     NaN  ...                954                 1   \n",
              "4                     NaN  ...               5002                 7   \n",
              "...                   ...  ...                ...               ...   \n",
              "1391                  NaN  ...               4153                19   \n",
              "1392                  NaN  ...                272                19   \n",
              "1393                  NaN  ...                335                 1   \n",
              "1394                  NaN  ...               1165               364   \n",
              "1395                  NaN  ...               4790                 1   \n",
              "\n",
              "      user_location                            user_name  user_screen_name  \\\n",
              "0               NaN                              roboter         roboter15   \n",
              "1               NaN                            WIKI WEST         west_wiki   \n",
              "2               NaN                    Karol Kaźmierczak     KKazmierczakK   \n",
              "3     Wielka Polska              Przemysław Świrta 🇵🇱🤝🇭🇺      primoszprawy   \n",
              "4            Polska                    stefan wilczyński   stefanwilczysk1   \n",
              "...             ...                                  ...               ...   \n",
              "1391      Warszawa                       Radca Węgrowicz            RadcaW   \n",
              "1392            NaN                         Piotr Gaglik           PGaglik   \n",
              "1393       Warszawa                           Anna Maria   AnnaMar54928634   \n",
              "1394         Polska  Telewizja Republika 🇵🇱 #włączprawdę       RepublikaTV   \n",
              "1395            NaN            Mariusz Kadłubowski 🇵🇱 🇬🇧        Marioosh80   \n",
              "\n",
              "      user_statuses_count user_time_zone  \\\n",
              "0                    5890            NaN   \n",
              "1                  122724            NaN   \n",
              "2                   20863            NaN   \n",
              "3                    6612            NaN   \n",
              "4                  125379            NaN   \n",
              "...                   ...            ...   \n",
              "1391               601040            NaN   \n",
              "1392               166998            NaN   \n",
              "1393                64514            NaN   \n",
              "1394               272801            NaN   \n",
              "1395                54428            NaN   \n",
              "\n",
              "                                              user_urls user_verified  \\\n",
              "0                                                   NaN         False   \n",
              "1                                                   NaN         False   \n",
              "2     https://www.facebook.com/pages/Karol-Ka%C5%BAm...         False   \n",
              "3            https://konfederacja.pl/po-stronie-polski/         False   \n",
              "4                                                   NaN         False   \n",
              "...                                                 ...           ...   \n",
              "1391                                                NaN         False   \n",
              "1392                                                NaN         False   \n",
              "1393                                                NaN         False   \n",
              "1394                          http://www.tvrepublika.pl         False   \n",
              "1395                                                NaN         False   \n",
              "\n",
              "                                 text_without_stopwords  \n",
              "0     @tomo9000p @SilverMarketFan @ESPI_Operator @sy...  \n",
              "1     zaszczepimy , umrzemy wraz falą , kraje zaszcz...  \n",
              "2     @lukasz_nd spekulacje wbrew faktom . źródła mó...  \n",
              "3     zaszczepimy , umrzemy wraz falą , kraje zaszcz...  \n",
              "4     zaszczepimy , umrzemy wraz falą , kraje zaszcz...  \n",
              "...                                                 ...  \n",
              "1391  🙏 👉 🤲 Pamięć # Polaków , # Ukraińców # Czechów...  \n",
              "1392  Ukraina konsultacji sprawie Nord Stream 2 używ...  \n",
              "1393  Kompozytor Krzesimir Dębski zakłamaniu Ukraini...  \n",
              "1394  # PilnujmyPolski | @Macierewicz_A : Moskwa imp...  \n",
              "1395  „ Ukraina zaprzestanie walki paktem ws # NordS...  \n",
              "\n",
              "[1396 rows x 36 columns]"
            ],
            "text/html": [
              "\n",
              "  <div id=\"df-33496840-aad9-4be0-b8b6-afecff2df78a\">\n",
              "    <div class=\"colab-df-container\">\n",
              "      <div>\n",
              "<style scoped>\n",
              "    .dataframe tbody tr th:only-of-type {\n",
              "        vertical-align: middle;\n",
              "    }\n",
              "\n",
              "    .dataframe tbody tr th {\n",
              "        vertical-align: top;\n",
              "    }\n",
              "\n",
              "    .dataframe thead th {\n",
              "        text-align: right;\n",
              "    }\n",
              "</style>\n",
              "<table border=\"1\" class=\"dataframe\">\n",
              "  <thead>\n",
              "    <tr style=\"text-align: right;\">\n",
              "      <th></th>\n",
              "      <th>coordinates</th>\n",
              "      <th>created_at</th>\n",
              "      <th>hashtags</th>\n",
              "      <th>media</th>\n",
              "      <th>urls</th>\n",
              "      <th>favorite_count</th>\n",
              "      <th>id</th>\n",
              "      <th>in_reply_to_screen_name</th>\n",
              "      <th>in_reply_to_status_id</th>\n",
              "      <th>in_reply_to_user_id</th>\n",
              "      <th>...</th>\n",
              "      <th>user_friends_count</th>\n",
              "      <th>user_listed_count</th>\n",
              "      <th>user_location</th>\n",
              "      <th>user_name</th>\n",
              "      <th>user_screen_name</th>\n",
              "      <th>user_statuses_count</th>\n",
              "      <th>user_time_zone</th>\n",
              "      <th>user_urls</th>\n",
              "      <th>user_verified</th>\n",
              "      <th>text_without_stopwords</th>\n",
              "    </tr>\n",
              "  </thead>\n",
              "  <tbody>\n",
              "    <tr>\n",
              "      <th>0</th>\n",
              "      <td>NaN</td>\n",
              "      <td>Thu Aug 05 13:43:09 +0000 2021</td>\n",
              "      <td>NaN</td>\n",
              "      <td>NaN</td>\n",
              "      <td>NaN</td>\n",
              "      <td>1</td>\n",
              "      <td>1423278406167187458</td>\n",
              "      <td>tomo9000p</td>\n",
              "      <td>1.423265e+18</td>\n",
              "      <td>9.188923e+17</td>\n",
              "      <td>...</td>\n",
              "      <td>494</td>\n",
              "      <td>8</td>\n",
              "      <td>NaN</td>\n",
              "      <td>roboter</td>\n",
              "      <td>roboter15</td>\n",
              "      <td>5890</td>\n",
              "      <td>NaN</td>\n",
              "      <td>NaN</td>\n",
              "      <td>False</td>\n",
              "      <td>@tomo9000p @SilverMarketFan @ESPI_Operator @sy...</td>\n",
              "    </tr>\n",
              "    <tr>\n",
              "      <th>1</th>\n",
              "      <td>NaN</td>\n",
              "      <td>Thu Aug 05 12:12:01 +0000 2021</td>\n",
              "      <td>NaN</td>\n",
              "      <td>NaN</td>\n",
              "      <td>NaN</td>\n",
              "      <td>0</td>\n",
              "      <td>1423255469389406209</td>\n",
              "      <td>NaN</td>\n",
              "      <td>NaN</td>\n",
              "      <td>NaN</td>\n",
              "      <td>...</td>\n",
              "      <td>1335</td>\n",
              "      <td>10</td>\n",
              "      <td>NaN</td>\n",
              "      <td>WIKI WEST</td>\n",
              "      <td>west_wiki</td>\n",
              "      <td>122724</td>\n",
              "      <td>NaN</td>\n",
              "      <td>NaN</td>\n",
              "      <td>False</td>\n",
              "      <td>zaszczepimy , umrzemy wraz falą , kraje zaszcz...</td>\n",
              "    </tr>\n",
              "    <tr>\n",
              "      <th>2</th>\n",
              "      <td>NaN</td>\n",
              "      <td>Thu Aug 05 13:51:38 +0000 2021</td>\n",
              "      <td>NaN</td>\n",
              "      <td>NaN</td>\n",
              "      <td>NaN</td>\n",
              "      <td>0</td>\n",
              "      <td>1423280539981602821</td>\n",
              "      <td>lukasz_nd</td>\n",
              "      <td>1.423278e+18</td>\n",
              "      <td>9.211491e+17</td>\n",
              "      <td>...</td>\n",
              "      <td>1307</td>\n",
              "      <td>10</td>\n",
              "      <td>NaN</td>\n",
              "      <td>Karol Kaźmierczak</td>\n",
              "      <td>KKazmierczakK</td>\n",
              "      <td>20863</td>\n",
              "      <td>NaN</td>\n",
              "      <td>https://www.facebook.com/pages/Karol-Ka%C5%BAm...</td>\n",
              "      <td>False</td>\n",
              "      <td>@lukasz_nd spekulacje wbrew faktom . źródła mó...</td>\n",
              "    </tr>\n",
              "    <tr>\n",
              "      <th>3</th>\n",
              "      <td>NaN</td>\n",
              "      <td>Thu Aug 05 16:27:30 +0000 2021</td>\n",
              "      <td>NaN</td>\n",
              "      <td>NaN</td>\n",
              "      <td>NaN</td>\n",
              "      <td>0</td>\n",
              "      <td>1423319766320697345</td>\n",
              "      <td>NaN</td>\n",
              "      <td>NaN</td>\n",
              "      <td>NaN</td>\n",
              "      <td>...</td>\n",
              "      <td>954</td>\n",
              "      <td>1</td>\n",
              "      <td>Wielka Polska</td>\n",
              "      <td>Przemysław Świrta 🇵🇱🤝🇭🇺</td>\n",
              "      <td>primoszprawy</td>\n",
              "      <td>6612</td>\n",
              "      <td>NaN</td>\n",
              "      <td>https://konfederacja.pl/po-stronie-polski/</td>\n",
              "      <td>False</td>\n",
              "      <td>zaszczepimy , umrzemy wraz falą , kraje zaszcz...</td>\n",
              "    </tr>\n",
              "    <tr>\n",
              "      <th>4</th>\n",
              "      <td>NaN</td>\n",
              "      <td>Thu Aug 05 11:21:15 +0000 2021</td>\n",
              "      <td>NaN</td>\n",
              "      <td>NaN</td>\n",
              "      <td>NaN</td>\n",
              "      <td>0</td>\n",
              "      <td>1423242694114091008</td>\n",
              "      <td>NaN</td>\n",
              "      <td>NaN</td>\n",
              "      <td>NaN</td>\n",
              "      <td>...</td>\n",
              "      <td>5002</td>\n",
              "      <td>7</td>\n",
              "      <td>Polska</td>\n",
              "      <td>stefan wilczyński</td>\n",
              "      <td>stefanwilczysk1</td>\n",
              "      <td>125379</td>\n",
              "      <td>NaN</td>\n",
              "      <td>NaN</td>\n",
              "      <td>False</td>\n",
              "      <td>zaszczepimy , umrzemy wraz falą , kraje zaszcz...</td>\n",
              "    </tr>\n",
              "    <tr>\n",
              "      <th>...</th>\n",
              "      <td>...</td>\n",
              "      <td>...</td>\n",
              "      <td>...</td>\n",
              "      <td>...</td>\n",
              "      <td>...</td>\n",
              "      <td>...</td>\n",
              "      <td>...</td>\n",
              "      <td>...</td>\n",
              "      <td>...</td>\n",
              "      <td>...</td>\n",
              "      <td>...</td>\n",
              "      <td>...</td>\n",
              "      <td>...</td>\n",
              "      <td>...</td>\n",
              "      <td>...</td>\n",
              "      <td>...</td>\n",
              "      <td>...</td>\n",
              "      <td>...</td>\n",
              "      <td>...</td>\n",
              "      <td>...</td>\n",
              "      <td>...</td>\n",
              "    </tr>\n",
              "    <tr>\n",
              "      <th>1391</th>\n",
              "      <td>NaN</td>\n",
              "      <td>Wed Jul 28 18:07:34 +0000 2021</td>\n",
              "      <td>Polaków Ukraińców Czechów</td>\n",
              "      <td>NaN</td>\n",
              "      <td>NaN</td>\n",
              "      <td>0</td>\n",
              "      <td>1420445844260761603</td>\n",
              "      <td>NaN</td>\n",
              "      <td>NaN</td>\n",
              "      <td>NaN</td>\n",
              "      <td>...</td>\n",
              "      <td>4153</td>\n",
              "      <td>19</td>\n",
              "      <td>Warszawa</td>\n",
              "      <td>Radca Węgrowicz</td>\n",
              "      <td>RadcaW</td>\n",
              "      <td>601040</td>\n",
              "      <td>NaN</td>\n",
              "      <td>NaN</td>\n",
              "      <td>False</td>\n",
              "      <td>🙏 👉 🤲 Pamięć # Polaków , # Ukraińców # Czechów...</td>\n",
              "    </tr>\n",
              "    <tr>\n",
              "      <th>1392</th>\n",
              "      <td>NaN</td>\n",
              "      <td>Wed Jul 28 20:51:14 +0000 2021</td>\n",
              "      <td>NaN</td>\n",
              "      <td>NaN</td>\n",
              "      <td>https://biznesalert.pl/ukraina-chce-konsultacj...</td>\n",
              "      <td>0</td>\n",
              "      <td>1420487031831007234</td>\n",
              "      <td>NaN</td>\n",
              "      <td>NaN</td>\n",
              "      <td>NaN</td>\n",
              "      <td>...</td>\n",
              "      <td>272</td>\n",
              "      <td>19</td>\n",
              "      <td>NaN</td>\n",
              "      <td>Piotr Gaglik</td>\n",
              "      <td>PGaglik</td>\n",
              "      <td>166998</td>\n",
              "      <td>NaN</td>\n",
              "      <td>NaN</td>\n",
              "      <td>False</td>\n",
              "      <td>Ukraina konsultacji sprawie Nord Stream 2 używ...</td>\n",
              "    </tr>\n",
              "    <tr>\n",
              "      <th>1393</th>\n",
              "      <td>NaN</td>\n",
              "      <td>Wed Jul 28 18:17:04 +0000 2021</td>\n",
              "      <td>NaN</td>\n",
              "      <td>NaN</td>\n",
              "      <td>NaN</td>\n",
              "      <td>0</td>\n",
              "      <td>1420448234250592257</td>\n",
              "      <td>NaN</td>\n",
              "      <td>NaN</td>\n",
              "      <td>NaN</td>\n",
              "      <td>...</td>\n",
              "      <td>335</td>\n",
              "      <td>1</td>\n",
              "      <td>Warszawa</td>\n",
              "      <td>Anna Maria</td>\n",
              "      <td>AnnaMar54928634</td>\n",
              "      <td>64514</td>\n",
              "      <td>NaN</td>\n",
              "      <td>NaN</td>\n",
              "      <td>False</td>\n",
              "      <td>Kompozytor Krzesimir Dębski zakłamaniu Ukraini...</td>\n",
              "    </tr>\n",
              "    <tr>\n",
              "      <th>1394</th>\n",
              "      <td>NaN</td>\n",
              "      <td>Wed Jul 28 19:41:36 +0000 2021</td>\n",
              "      <td>PilnujmyPolski włączprawdę TVRepublika</td>\n",
              "      <td>NaN</td>\n",
              "      <td>NaN</td>\n",
              "      <td>6</td>\n",
              "      <td>1420469508100198407</td>\n",
              "      <td>NaN</td>\n",
              "      <td>NaN</td>\n",
              "      <td>NaN</td>\n",
              "      <td>...</td>\n",
              "      <td>1165</td>\n",
              "      <td>364</td>\n",
              "      <td>Polska</td>\n",
              "      <td>Telewizja Republika 🇵🇱 #włączprawdę</td>\n",
              "      <td>RepublikaTV</td>\n",
              "      <td>272801</td>\n",
              "      <td>NaN</td>\n",
              "      <td>http://www.tvrepublika.pl</td>\n",
              "      <td>False</td>\n",
              "      <td># PilnujmyPolski | @Macierewicz_A : Moskwa imp...</td>\n",
              "    </tr>\n",
              "    <tr>\n",
              "      <th>1395</th>\n",
              "      <td>NaN</td>\n",
              "      <td>Wed Jul 28 17:29:33 +0000 2021</td>\n",
              "      <td>NordStream2</td>\n",
              "      <td>NaN</td>\n",
              "      <td>https://foreignpolicy.com/2021/07/27/ukraine-w...</td>\n",
              "      <td>0</td>\n",
              "      <td>1420436276004757504</td>\n",
              "      <td>NaN</td>\n",
              "      <td>NaN</td>\n",
              "      <td>NaN</td>\n",
              "      <td>...</td>\n",
              "      <td>4790</td>\n",
              "      <td>1</td>\n",
              "      <td>NaN</td>\n",
              "      <td>Mariusz Kadłubowski 🇵🇱 🇬🇧</td>\n",
              "      <td>Marioosh80</td>\n",
              "      <td>54428</td>\n",
              "      <td>NaN</td>\n",
              "      <td>NaN</td>\n",
              "      <td>False</td>\n",
              "      <td>„ Ukraina zaprzestanie walki paktem ws # NordS...</td>\n",
              "    </tr>\n",
              "  </tbody>\n",
              "</table>\n",
              "<p>1396 rows × 36 columns</p>\n",
              "</div>\n",
              "      <button class=\"colab-df-convert\" onclick=\"convertToInteractive('df-33496840-aad9-4be0-b8b6-afecff2df78a')\"\n",
              "              title=\"Convert this dataframe to an interactive table.\"\n",
              "              style=\"display:none;\">\n",
              "        \n",
              "  <svg xmlns=\"http://www.w3.org/2000/svg\" height=\"24px\"viewBox=\"0 0 24 24\"\n",
              "       width=\"24px\">\n",
              "    <path d=\"M0 0h24v24H0V0z\" fill=\"none\"/>\n",
              "    <path d=\"M18.56 5.44l.94 2.06.94-2.06 2.06-.94-2.06-.94-.94-2.06-.94 2.06-2.06.94zm-11 1L8.5 8.5l.94-2.06 2.06-.94-2.06-.94L8.5 2.5l-.94 2.06-2.06.94zm10 10l.94 2.06.94-2.06 2.06-.94-2.06-.94-.94-2.06-.94 2.06-2.06.94z\"/><path d=\"M17.41 7.96l-1.37-1.37c-.4-.4-.92-.59-1.43-.59-.52 0-1.04.2-1.43.59L10.3 9.45l-7.72 7.72c-.78.78-.78 2.05 0 2.83L4 21.41c.39.39.9.59 1.41.59.51 0 1.02-.2 1.41-.59l7.78-7.78 2.81-2.81c.8-.78.8-2.07 0-2.86zM5.41 20L4 18.59l7.72-7.72 1.47 1.35L5.41 20z\"/>\n",
              "  </svg>\n",
              "      </button>\n",
              "      \n",
              "  <style>\n",
              "    .colab-df-container {\n",
              "      display:flex;\n",
              "      flex-wrap:wrap;\n",
              "      gap: 12px;\n",
              "    }\n",
              "\n",
              "    .colab-df-convert {\n",
              "      background-color: #E8F0FE;\n",
              "      border: none;\n",
              "      border-radius: 50%;\n",
              "      cursor: pointer;\n",
              "      display: none;\n",
              "      fill: #1967D2;\n",
              "      height: 32px;\n",
              "      padding: 0 0 0 0;\n",
              "      width: 32px;\n",
              "    }\n",
              "\n",
              "    .colab-df-convert:hover {\n",
              "      background-color: #E2EBFA;\n",
              "      box-shadow: 0px 1px 2px rgba(60, 64, 67, 0.3), 0px 1px 3px 1px rgba(60, 64, 67, 0.15);\n",
              "      fill: #174EA6;\n",
              "    }\n",
              "\n",
              "    [theme=dark] .colab-df-convert {\n",
              "      background-color: #3B4455;\n",
              "      fill: #D2E3FC;\n",
              "    }\n",
              "\n",
              "    [theme=dark] .colab-df-convert:hover {\n",
              "      background-color: #434B5C;\n",
              "      box-shadow: 0px 1px 3px 1px rgba(0, 0, 0, 0.15);\n",
              "      filter: drop-shadow(0px 1px 2px rgba(0, 0, 0, 0.3));\n",
              "      fill: #FFFFFF;\n",
              "    }\n",
              "  </style>\n",
              "\n",
              "      <script>\n",
              "        const buttonEl =\n",
              "          document.querySelector('#df-33496840-aad9-4be0-b8b6-afecff2df78a button.colab-df-convert');\n",
              "        buttonEl.style.display =\n",
              "          google.colab.kernel.accessAllowed ? 'block' : 'none';\n",
              "\n",
              "        async function convertToInteractive(key) {\n",
              "          const element = document.querySelector('#df-33496840-aad9-4be0-b8b6-afecff2df78a');\n",
              "          const dataTable =\n",
              "            await google.colab.kernel.invokeFunction('convertToInteractive',\n",
              "                                                     [key], {});\n",
              "          if (!dataTable) return;\n",
              "\n",
              "          const docLinkHtml = 'Like what you see? Visit the ' +\n",
              "            '<a target=\"_blank\" href=https://colab.research.google.com/notebooks/data_table.ipynb>data table notebook</a>'\n",
              "            + ' to learn more about interactive tables.';\n",
              "          element.innerHTML = '';\n",
              "          dataTable['output_type'] = 'display_data';\n",
              "          await google.colab.output.renderOutput(dataTable, element);\n",
              "          const docLink = document.createElement('div');\n",
              "          docLink.innerHTML = docLinkHtml;\n",
              "          element.appendChild(docLink);\n",
              "        }\n",
              "      </script>\n",
              "    </div>\n",
              "  </div>\n",
              "  "
            ]
          },
          "metadata": {},
          "execution_count": 136
        }
      ]
    },
    {
      "cell_type": "markdown",
      "source": [
        "II CZĘŚĆ\n"
      ],
      "metadata": {
        "id": "HCH88mwnlJug"
      }
    },
    {
      "cell_type": "markdown",
      "source": [
        "7"
      ],
      "metadata": {
        "id": "96J3IfLpN_Z5"
      }
    },
    {
      "cell_type": "code",
      "source": [
        "df['created_at'] = pd.to_datetime(df['created_at'])\n",
        "most_common_day = df['created_at'].dt.strftime('%A').mode()[0]\n",
        "print('Najczęściej tweetowano w dniu:', most_common_day)"
      ],
      "metadata": {
        "colab": {
          "base_uri": "https://localhost:8080/"
        },
        "id": "i7_FNYIVOAs7",
        "outputId": "d40a270e-f7e7-46a1-a4b5-b2b8120e2352"
      },
      "execution_count": 71,
      "outputs": [
        {
          "output_type": "stream",
          "name": "stdout",
          "text": [
            "Najczęściej tweetowano w dniu: Thursday\n"
          ]
        }
      ]
    },
    {
      "cell_type": "code",
      "source": [
        "most_common_day = most_common_day.replace(\"Monday\", \"Poniedziałek\").replace(\"Tuesday\", \"Wtorek\").replace(\"Wednesday\", \"Środa\").replace(\"Thursday\", \"Czwartek\").replace(\"Friday\", \"Piątek\").replace(\"Saturday\", \"Sobota\").replace(\"Sunday\", \"Niedziela\")\n"
      ],
      "metadata": {
        "id": "f7-zH4R8kN1E"
      },
      "execution_count": 72,
      "outputs": []
    },
    {
      "cell_type": "code",
      "source": [
        "print('Najczęściej tweetowano w dniu:', most_common_day)"
      ],
      "metadata": {
        "colab": {
          "base_uri": "https://localhost:8080/"
        },
        "id": "u8A_Hix_kQmz",
        "outputId": "ab81ef54-934f-4d4e-af44-cbb4038b608b"
      },
      "execution_count": 73,
      "outputs": [
        {
          "output_type": "stream",
          "name": "stdout",
          "text": [
            "Najczęściej tweetowano w dniu: Czwartek\n"
          ]
        }
      ]
    },
    {
      "cell_type": "markdown",
      "source": [
        "6"
      ],
      "metadata": {
        "id": "jdzRMgZClLgt"
      }
    },
    {
      "cell_type": "code",
      "source": [
        "verified_users = df.loc[df['user_verified'] == True]"
      ],
      "metadata": {
        "id": "ME8iEVrplNSP"
      },
      "execution_count": 74,
      "outputs": []
    },
    {
      "cell_type": "code",
      "source": [
        "verified_users = df.loc[df['user_verified'], ['user_name', 'user_verified']]"
      ],
      "metadata": {
        "id": "9eBaOXBxmCnm"
      },
      "execution_count": 76,
      "outputs": []
    },
    {
      "cell_type": "code",
      "source": [
        "print(verified_users)"
      ],
      "metadata": {
        "colab": {
          "base_uri": "https://localhost:8080/"
        },
        "id": "ZACUWxm3mDx1",
        "outputId": "56b342de-f0fc-4465-89cb-cfa77a778be0"
      },
      "execution_count": 77,
      "outputs": [
        {
          "output_type": "stream",
          "name": "stdout",
          "text": [
            "                       user_name  user_verified\n",
            "58                 Ukrinform-POL           True\n",
            "137          Janusz Korwin-Mikke           True\n",
            "166                    Forsal.pl           True\n",
            "171           Maciej Tomaszewski           True\n",
            "235    Karolina Baca-Pogorzelska           True\n",
            "273                 Radio Maryja           True\n",
            "275               Amnesty Polska           True\n",
            "309                Ukrinform-POL           True\n",
            "312          Węglarczyk 🇵🇱🇪🇺🇺🇸💙💛           True\n",
            "313                  tvp.info 🇵🇱           True\n",
            "324                  Dziennik.pl           True\n",
            "352                    Forsal.pl           True\n",
            "362          Węglarczyk 🇵🇱🇪🇺🇺🇸💙💛           True\n",
            "427               Radio ZET NEWS           True\n",
            "434                Joanna Kluzik           True\n",
            "447          Węglarczyk 🇵🇱🇪🇺🇺🇸💙💛           True\n",
            "482                        tvn24           True\n",
            "483            Ukraine in Poland           True\n",
            "488              Robert Winnicki           True\n",
            "600                  Dziennik.pl           True\n",
            "647               Radio ZET NEWS           True\n",
            "649                Ukrinform-POL           True\n",
            "662               Radio ZET NEWS           True\n",
            "686                  Dziennik.pl           True\n",
            "698                    TVN24 BiS           True\n",
            "713                    Fakty TVN           True\n",
            "717                        tvn24           True\n",
            "738               Radio ZET NEWS           True\n",
            "919                Ukrinform-POL           True\n",
            "939         Jacek Saryusz-Wolski           True\n",
            "947         Jacek Saryusz-Wolski           True\n",
            "972                    Forsal.pl           True\n",
            "988                    Forsal.pl           True\n",
            "991          Wydział Prasowy NIK           True\n",
            "1014        Jacek Saryusz-Wolski           True\n",
            "1031           Urszula Pasławska           True\n",
            "1036            Joanna Klejszmit           True\n",
            "1087               Andrzej Grzyb           True\n",
            "1189                       tvn24           True\n",
            "1190        Jacek Saryusz-Wolski           True\n",
            "1191  Radosław Sikorski MEP 🇵🇱🇪🇺           True\n",
            "1195                   Forsal.pl           True\n",
            "1206                 Dziennik.pl           True\n",
            "1222                   Forsal.pl           True\n",
            "1231                 tvp.info 🇵🇱           True\n",
            "1251                 Dziennik.pl           True\n",
            "1287                   Forsal.pl           True\n",
            "1291                    Sport.pl           True\n",
            "1315         Węglarczyk 🇵🇱🇪🇺🇺🇸💙💛           True\n",
            "1355          Antoni Macierewicz           True\n"
          ]
        }
      ]
    },
    {
      "cell_type": "markdown",
      "source": [
        "4"
      ],
      "metadata": {
        "id": "c_NcfRYhoU_U"
      }
    },
    {
      "cell_type": "code",
      "source": [
        "earliest_date = df['user_created_at'].min()\n",
        "\n",
        "earliest_user = df[df['user_created_at'] == earliest_date]\n",
        "\n",
        "username = earliest_user.iloc[0]['user_name']\n",
        "\n",
        "user_tweets = df[df['user_name'] == username]['text']\n",
        "\n",
        "print(f\"Tweety użytkownika {username}, który założył konto najwcześniej:\")\n",
        "for tweet in user_tweets:\n",
        "    print(tweet)"
      ],
      "metadata": {
        "colab": {
          "base_uri": "https://localhost:8080/"
        },
        "id": "cP5JZULyoKng",
        "outputId": "c2b4cb3d-4c35-4ac4-d255-6a2361ebb60b"
      },
      "execution_count": 78,
      "outputs": [
        {
          "output_type": "stream",
          "name": "stdout",
          "text": [
            "Tweety użytkownika Rodryg26a, który założył konto najwcześniej:\n",
            "A mnie ciekawi @Straz_Graniczna jak można nielegalnie przekroczyć zieloną granicę pomiędzy Ukrainą i Polską w nienagannie czystych New Balance? https://t.co/94pCePoMM2 https://t.co/5gIzUUnpng\n"
          ]
        }
      ]
    },
    {
      "cell_type": "markdown",
      "source": [
        "5"
      ],
      "metadata": {
        "id": "rx8YWMKXsJhy"
      }
    },
    {
      "cell_type": "code",
      "source": [
        "most_followed_user = df.loc[df['user_followers_count'].idxmax(), 'user_name']\n",
        "\n",
        "print(f\"Najwięcej followersów ma użytkownik {most_followed_user}, który ma ich {df['user_followers_count'].max()}\")\n",
        "\n",
        "print(f\"Tweety użytkownika {most_followed_user}:\")\n",
        "for tweet in df[df['user_name'] == most_followed_user]['text']:\n",
        "    print(tweet)"
      ],
      "metadata": {
        "colab": {
          "base_uri": "https://localhost:8080/"
        },
        "id": "ZMU_MbbmsqTj",
        "outputId": "75c9bdfc-1557-49a6-a63c-f9a8224d0b8d"
      },
      "execution_count": 82,
      "outputs": [
        {
          "output_type": "stream",
          "name": "stdout",
          "text": [
            "Najwięcej followersów ma użytkownik tvn24, który ma ich 1913279\n",
            "Tweety użytkownika tvn24:\n",
            "Ukraińska policja bada przyczyny śmierci białoruskiego aktywisty Witala Szyszoua. Przekazano, że brane pod uwagę są dwie wersje. \n",
            "\n",
            "https://t.co/ITQRrBrgvR\n",
            "#PILNE | W parku w Kijowie znaleziono ciało białoruskiego aktywisty Witala Szyszoua - poinformowała ukraińska policja.\n",
            "\n",
            "https://t.co/SNWBlGFTlH https://t.co/1IrwjbedBp\n",
            "Nowe ustalenia śledczych po katastrofie na zachodzie Ukrainy.\n",
            "\n",
            "https://t.co/Y1xaCtjt60\n"
          ]
        }
      ]
    },
    {
      "cell_type": "markdown",
      "source": [
        "3"
      ],
      "metadata": {
        "id": "kJrMu8UAtzgf"
      }
    },
    {
      "cell_type": "code",
      "source": [
        "df_sensitive = df[df['possibly_sensitive'] == True]\n",
        "for tweet in df_sensitive['text']:\n",
        "    print(tweet)"
      ],
      "metadata": {
        "colab": {
          "base_uri": "https://localhost:8080/"
        },
        "id": "SWFsZV4Ttz9w",
        "outputId": "2e8a8f22-11ed-4883-c589-e2d6ceadcadf"
      },
      "execution_count": 83,
      "outputs": [
        {
          "output_type": "stream",
          "name": "stdout",
          "text": [
            "@STANIACH21 @kuba1099k brawo, strzelił z Ukraina https://t.co/5vu9sYV8Mx\n",
            "Białoruski aktywista znaleziony martwy w parku w Kijowie https://t.co/7GmPPfzUyI\n",
            "To nie Ukraina, to Włochy, posłowie przeciwko paszportom Covidowym. https://t.co/M1KnrjvnoJ\n",
            "Ukraina chce konsultacji w sprawie Nord Stream 2 i używa zwycięstwa Polski w sprawie OPAL https://t.co/TXs9apvvrH\n"
          ]
        }
      ]
    },
    {
      "cell_type": "markdown",
      "source": [],
      "metadata": {
        "id": "OdqBGACnuwqk"
      }
    },
    {
      "cell_type": "markdown",
      "source": [
        "2"
      ],
      "metadata": {
        "id": "kwT3kuFFvFug"
      }
    },
    {
      "cell_type": "code",
      "source": [
        "top_tweets = df.nlargest(5, 'retweet_count')[['text', 'retweet_count']]\n",
        "\n",
        "for index, row in top_tweets.iterrows():\n",
        "    print(f\"Retweet count: {row['retweet_count']} | Tweet text: {row['text']}\\n\")"
      ],
      "metadata": {
        "colab": {
          "base_uri": "https://localhost:8080/"
        },
        "id": "AicyI_ynuxkF",
        "outputId": "511b4299-a213-4ed3-a86f-08de7247a3a7"
      },
      "execution_count": 84,
      "outputs": [
        {
          "output_type": "stream",
          "name": "stdout",
          "text": [
            "Retweet count: 129 | Tweet text: A więc jeśli się nie zaszczepimy, to wszyscy umrzemy wraz z IV falą, a kraje w których zaszczepiono, \n",
            "\n",
            "Indonezja 7,9% populacji, \n",
            "Bośnia &gt;7%, \n",
            "Tajlanda 5,7%, \n",
            "Ukraina 4,8% \n",
            "Egipt &gt;1,8%, \n",
            "Afganistan &gt;0,6%, \n",
            "Syria &gt;0,1%, \n",
            "\n",
            "Znikną z powierzchni ziemi wraz z nadejściem jesieni? 🙃\n",
            "\n",
            "Retweet count: 129 | Tweet text: A więc jeśli się nie zaszczepimy, to wszyscy umrzemy wraz z IV falą, a kraje w których zaszczepiono, \n",
            "\n",
            "Indonezja 7,9% populacji, \n",
            "Bośnia &gt;7%, \n",
            "Tajlanda 5,7%, \n",
            "Ukraina 4,8% \n",
            "Egipt &gt;1,8%, \n",
            "Afganistan &gt;0,6%, \n",
            "Syria &gt;0,1%, \n",
            "\n",
            "Znikną z powierzchni ziemi wraz z nadejściem jesieni? 🙃\n",
            "\n",
            "Retweet count: 129 | Tweet text: A więc jeśli się nie zaszczepimy, to wszyscy umrzemy wraz z IV falą, a kraje w których zaszczepiono, \n",
            "\n",
            "Indonezja 7,9% populacji, \n",
            "Bośnia &gt;7%, \n",
            "Tajlanda 5,7%, \n",
            "Ukraina 4,8% \n",
            "Egipt &gt;1,8%, \n",
            "Afganistan &gt;0,6%, \n",
            "Syria &gt;0,1%, \n",
            "\n",
            "Znikną z powierzchni ziemi wraz z nadejściem jesieni? 🙃\n",
            "\n",
            "Retweet count: 129 | Tweet text: A więc jeśli się nie zaszczepimy, to wszyscy umrzemy wraz z IV falą, a kraje w których zaszczepiono, \n",
            "\n",
            "Indonezja 7,9% populacji, \n",
            "Bośnia &gt;7%, \n",
            "Tajlanda 5,7%, \n",
            "Ukraina 4,8% \n",
            "Egipt &gt;1,8%, \n",
            "Afganistan &gt;0,6%, \n",
            "Syria &gt;0,1%, \n",
            "\n",
            "Znikną z powierzchni ziemi wraz z nadejściem jesieni? 🙃\n",
            "\n",
            "Retweet count: 129 | Tweet text: A więc jeśli się nie zaszczepimy, to wszyscy umrzemy wraz z IV falą, a kraje w których zaszczepiono, \n",
            "\n",
            "Indonezja 7,9% populacji, \n",
            "Bośnia &gt;7%, \n",
            "Tajlanda 5,7%, \n",
            "Ukraina 4,8% \n",
            "Egipt &gt;1,8%, \n",
            "Afganistan &gt;0,6%, \n",
            "Syria &gt;0,1%, \n",
            "\n",
            "Znikną z powierzchni ziemi wraz z nadejściem jesieni? 🙃\n",
            "\n"
          ]
        }
      ]
    },
    {
      "cell_type": "markdown",
      "source": [
        "1 Tutaj nie wiem czy dobrze zrozumiałam bo nie używam tweetera i\"polubienia\" z treści zadania uznałam za \"favorite_count\" z tabelki csv"
      ],
      "metadata": {
        "id": "1cixVQzIu_Is"
      }
    },
    {
      "cell_type": "code",
      "source": [
        "top_tweets = df.nlargest(5, \"favorite_count\")[[\"text\", \"favorite_count\"]]\n",
        "for i, tweet in enumerate(top_tweets[\"text\"], start=1):\n",
        "    print(f\"{i}. {tweet}\\n\")"
      ],
      "metadata": {
        "colab": {
          "base_uri": "https://localhost:8080/"
        },
        "id": "QvvARgdtww_7",
        "outputId": "4aefccf2-9655-4db5-a193-cc554b7f9389"
      },
      "execution_count": 86,
      "outputs": [
        {
          "output_type": "stream",
          "name": "stdout",
          "text": [
            "1. A więc jeśli się nie zaszczepimy, to wszyscy umrzemy wraz z IV falą, a kraje w których zaszczepiono, \n",
            "\n",
            "Indonezja 7,9% populacji, \n",
            "Bośnia &gt;7%, \n",
            "Tajlanda 5,7%, \n",
            "Ukraina 4,8% \n",
            "Egipt &gt;1,8%, \n",
            "Afganistan &gt;0,6%, \n",
            "Syria &gt;0,1%, \n",
            "\n",
            "Znikną z powierzchni ziemi wraz z nadejściem jesieni? 🙃\n",
            "\n",
            "2. Wielki sukces polskiego sportu: p.Jan-Krzysztof Duda w półfinale Puharu Świata pokonał aktualnego Mistrza Świata, p.Magnusa Carsena (Norwegia) - i obecnie gra w finale przeciwko p.Sergiuszowi Karjakinowi (FR, d.Ukraina): \n",
            "https://t.co/eNVFKjLWMU\n",
            "Remis w I partii jest korzystny.\n",
            "\n",
            "3. A mnie ciekawi @Straz_Graniczna jak można nielegalnie przekroczyć zieloną granicę pomiędzy Ukrainą i Polską w nienagannie czystych New Balance? https://t.co/94pCePoMM2 https://t.co/5gIzUUnpng\n",
            "\n",
            "4. @kroplewina Ukraina robisz to dobrze. Zajebiste mają te nowe stroje i co najważniejsze na pewno będą się czuć w nich bardziej komfortowo ❤️\n",
            "\n",
            "5. Niemcy najpierw wrzuciły Białoruś w ręce Putina, teraz to samo robią z Ukrainą. My zaś mamy być ich strefą wpływu. Konsekwentnie stoją na straży linii Curzona, a Putin uznał to za szansę na powrót do stanu sprzed 1990 roku. Tak się kończy myślenie Giedroyciem.\n",
            "\n"
          ]
        }
      ]
    },
    {
      "cell_type": "markdown",
      "source": [
        "III CZĘŚĆ"
      ],
      "metadata": {
        "id": "hgxaV7xjw-s4"
      }
    },
    {
      "cell_type": "code",
      "source": [
        "!pip install spacy -U\n",
        "!python -m spacy download pl_core_news_sm"
      ],
      "metadata": {
        "colab": {
          "base_uri": "https://localhost:8080/"
        },
        "id": "W31o8Cz4zul7",
        "outputId": "c45cca80-ee50-4777-ddbd-55681dc0eb1b"
      },
      "execution_count": 93,
      "outputs": [
        {
          "output_type": "stream",
          "name": "stdout",
          "text": [
            "Installing collected packages: pl-core-news-sm\n",
            "Successfully installed pl-core-news-sm-3.5.0\n",
            "\u001b[38;5;2m✔ Download and installation successful\u001b[0m\n",
            "You can now load the package via spacy.load('pl_core_news_sm')\n"
          ]
        }
      ]
    },
    {
      "cell_type": "code",
      "source": [
        "import spacy"
      ],
      "metadata": {
        "id": "Eg0eR-1Kz00_"
      },
      "execution_count": 94,
      "outputs": []
    },
    {
      "cell_type": "code",
      "source": [
        "nlp = spacy.load(\"pl_core_news_sm\")"
      ],
      "metadata": {
        "colab": {
          "base_uri": "https://localhost:8080/"
        },
        "id": "12NE4hS3z3_C",
        "outputId": "84d92cfe-7e01-4107-8957-502231bf0af0"
      },
      "execution_count": 95,
      "outputs": [
        {
          "output_type": "stream",
          "name": "stderr",
          "text": [
            "/usr/local/lib/python3.8/dist-packages/spacy/util.py:877: UserWarning: [W095] Model 'pl_core_news_sm' (3.5.0) was trained with spaCy v3.5 and may not be 100% compatible with the current version (3.4.4). If you see errors or degraded performance, download a newer compatible model or retrain your custom model with the current spaCy version. For more details and available updates, run: python -m spacy validate\n",
            "  warnings.warn(warn_msg)\n"
          ]
        }
      ]
    },
    {
      "cell_type": "code",
      "source": [
        "#tutaj nie wiedziałam, czy odwoływać się do kolumny text czy do całego df, więc zostałam przy text, żeby nie kolidowało np. z nazwami użytkownika, które spacy widzi czasami jako persName"
      ],
      "metadata": {
        "id": "OgK-bqzEKHr_"
      },
      "execution_count": null,
      "outputs": []
    },
    {
      "cell_type": "code",
      "source": [
        "def find_persons(text):\n",
        "  doc = nlp(text)\n",
        "  ents = [ent.lemma_ for ent in doc.ents if ent.label_ == \"persName\"]\n",
        "  return \" \".join(ents)\n",
        "\n",
        "df_Tweet['persons'] = df_Tweet[\"text\"].apply(find_persons)"
      ],
      "metadata": {
        "id": "E1zpsbNHE99Z"
      },
      "execution_count": 129,
      "outputs": []
    },
    {
      "cell_type": "code",
      "source": [
        "df_Tweet"
      ],
      "metadata": {
        "id": "K4AO9WOYFP-8"
      },
      "execution_count": null,
      "outputs": []
    },
    {
      "cell_type": "code",
      "source": [
        "def find_places(text):\n",
        "    doc = nlp(text)\n",
        "    ents = [ent.lemma_ for ent in doc.ents if ent.label_ == \"placeName\"]\n",
        "    return \" \".join(ents)\n",
        "\n",
        "df_Tweet['places'] = df_Tweet[\"text\"].apply(find_places)"
      ],
      "metadata": {
        "id": "5sPdTlAKGwp5"
      },
      "execution_count": 131,
      "outputs": []
    },
    {
      "cell_type": "code",
      "source": [
        "df_Tweet"
      ],
      "metadata": {
        "id": "gOM9yS6FMfYt"
      },
      "execution_count": null,
      "outputs": []
    },
    {
      "cell_type": "code",
      "source": [
        "def find_organizations(text):\n",
        "    doc = nlp(text)\n",
        "    ents = [ent.lemma_ for ent in doc.ents if ent.label_ == \"orgName\"]\n",
        "    return \" \".join(ents)\n",
        "\n",
        "df_Tweet['organizations'] = df_Tweet[\"text\"].apply(find_organizations)"
      ],
      "metadata": {
        "id": "_Asho2R3Mm-m"
      },
      "execution_count": 133,
      "outputs": []
    },
    {
      "cell_type": "code",
      "source": [
        "df_Tweet"
      ],
      "metadata": {
        "id": "_8e3kziWNZAs"
      },
      "execution_count": null,
      "outputs": []
    },
    {
      "cell_type": "markdown",
      "source": [
        "IV CZĘŚĆ"
      ],
      "metadata": {
        "id": "h3P__vE7_PQn"
      }
    },
    {
      "cell_type": "code",
      "source": [
        "import matplotlib.pyplot as plt\n",
        "\n",
        "\n",
        "df_Tweet = pd.read_csv(\"/content/czerw.csv\")\n",
        "\n",
        "df_Tweet[\"created_at\"] = pd.to_datetime(df_Tweet[\"created_at\"])\n",
        "\n",
        "df_Tweet[\"weekday\"] = df_Tweet[\"created_at\"].dt.weekday\n",
        "\n",
        "\n",
        "tweets_per_weekday = df_Tweet.groupby(\"weekday\").size()\n",
        "\n",
        "\n",
        "days = [\"Poniedziałek\", \"Wtorek\", \"Środa\", \"Czwartek\", \"Piątek\", \"Sobota\", \"Niedziela\"]\n",
        "tweets_per_weekday.plot(kind=\"bar\", xticks=range(7), rot=0, title=\"Liczba tweetów per dzień tygodnia\")\n",
        "plt.xticks(range(7), days)\n",
        "plt.show()"
      ],
      "metadata": {
        "colab": {
          "base_uri": "https://localhost:8080/",
          "height": 295
        },
        "id": "eAGsE9CZ_QXk",
        "outputId": "248563dc-e356-45c4-9cff-57c9fa7732c0"
      },
      "execution_count": 128,
      "outputs": [
        {
          "output_type": "display_data",
          "data": {
            "text/plain": [
              "<Figure size 432x288 with 1 Axes>"
            ],
            "image/png": "[encoded data removed]"
          },
          "metadata": {
            "needs_background": "light"
          }
        }
      ]
    }
  ]
}